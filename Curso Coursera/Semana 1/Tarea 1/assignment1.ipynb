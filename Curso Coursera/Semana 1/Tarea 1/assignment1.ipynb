{
 "cells": [
  {
   "cell_type": "markdown",
   "metadata": {
    "deletable": false,
    "editable": false,
    "etc_identifier": "242a3605-5bda-4e1f-beef-04a0173d3f41",
    "nbgrader": {
     "cell_type": "markdown",
     "checksum": "56ded12c208a4e3c8f6e0d50ef6227fa",
     "grade": false,
     "grade_id": "cell-fa48e7f1b94baa5b",
     "locked": true,
     "schema_version": 3,
     "solution": false
    }
   },
   "source": [
    "# Assignment 1\n",
    "\n",
    "For this assignment you are welcomed to use other regex resources such a regex \"cheat sheets\" you find on the web."
   ]
  },
  {
   "cell_type": "markdown",
   "metadata": {
    "deletable": false,
    "editable": false,
    "nbgrader": {
     "cell_type": "markdown",
     "checksum": "d17f561e3c6c08092810b982d085f5be",
     "grade": false,
     "grade_id": "cell-d4da7eb9acee2a6d",
     "locked": true,
     "schema_version": 3,
     "solution": false
    }
   },
   "source": [
    "Before start working on the problems, here is a small example to help you understand how to write your own answers. In short, the solution should be written within the function body given, and the final result should be returned. Then the autograder will try to call the function and validate your returned result accordingly. "
   ]
  },
  {
   "cell_type": "code",
   "execution_count": null,
   "metadata": {
    "deletable": false,
    "editable": false,
    "nbgrader": {
     "cell_type": "code",
     "checksum": "7eeb5e7d0f0e0137caed9f3b5cb925b1",
     "grade": false,
     "grade_id": "cell-4a96535829224b3f",
     "locked": true,
     "schema_version": 3,
     "solution": false
    }
   },
   "outputs": [],
   "source": [
    "def example_word_count():\n",
    "    # This example question requires counting words in the example_string below.\n",
    "    example_string = \"Amy is 5 years old\"\n",
    "    \n",
    "    # YOUR CODE HERE.\n",
    "    # You should write your solution here, and return your result, you can comment out or delete the\n",
    "    # NotImplementedError below.\n",
    "    result = example_string.split(\" \")\n",
    "    return len(result)\n",
    "\n",
    "    #raise NotImplementedError()"
   ]
  },
  {
   "cell_type": "markdown",
   "metadata": {},
   "source": [
    "## Part A\n",
    "\n",
    "Find a list of all of all of the names in the following string using regex."
   ]
  },
  {
   "cell_type": "code",
   "execution_count": 6,
   "metadata": {
    "deletable": false,
    "nbgrader": {
     "cell_type": "code",
     "checksum": "29bc8c161c0e246c1e3ef4820cc164f7",
     "grade": false,
     "grade_id": "names",
     "locked": false,
     "schema_version": 3,
     "solution": true
    },
    "ExecuteTime": {
     "end_time": "2024-04-02T02:17:59.502836700Z",
     "start_time": "2024-04-02T02:17:59.471176Z"
    }
   },
   "outputs": [],
   "source": [
    "import re\n",
    "def names():\n",
    "    simple_string = \"\"\"Amy is 5 years old, and her sister Mary is 2 years old. \n",
    "    Ruth and Peter, their parents, have 3 kids.\"\"\"\n",
    "\n",
    "    # YOUR CODE HERE\n",
    "    return re.findall(\"[A-Z][a-z]*\", simple_string)\n",
    "    \n",
    "    #raise NotImplementedError()"
   ]
  },
  {
   "cell_type": "code",
   "execution_count": 9,
   "metadata": {
    "deletable": false,
    "editable": false,
    "nbgrader": {
     "cell_type": "code",
     "checksum": "ed5c09ac57f7d98130d5abc557f6d6c4",
     "grade": true,
     "grade_id": "correct_names",
     "locked": false,
     "points": 1,
     "schema_version": 3,
     "solution": false
    },
    "ExecuteTime": {
     "end_time": "2024-04-02T02:18:28.959240Z",
     "start_time": "2024-04-02T02:18:28.943340Z"
    }
   },
   "outputs": [],
   "source": [
    "assert len(names()) == 4, \"There are four names in the simple_string\""
   ]
  },
  {
   "cell_type": "markdown",
   "metadata": {
    "deletable": false,
    "editable": false,
    "nbgrader": {
     "cell_type": "markdown",
     "checksum": "22f18c5538beb4d2661bcbae651c6458",
     "grade": false,
     "grade_id": "cell-ed64e3464ddd7ba7",
     "locked": true,
     "schema_version": 3,
     "solution": false
    }
   },
   "source": [
    "## Part B\n",
    "\n",
    "The dataset file in [assets/grades.txt](assets/grades.txt) contains a line separated list of people with their grade in a class. Create a regex to generate a list of just those students who received a B in the course."
   ]
  },
  {
   "cell_type": "code",
   "execution_count": 3,
   "metadata": {
    "deletable": false,
    "nbgrader": {
     "cell_type": "code",
     "checksum": "e977a1df674e9fa684e6d172aec92824",
     "grade": false,
     "grade_id": "grades",
     "locked": false,
     "schema_version": 3,
     "solution": true
    },
    "ExecuteTime": {
     "end_time": "2024-04-02T02:21:35.574084100Z",
     "start_time": "2024-04-02T02:21:35.542605100Z"
    }
   },
   "outputs": [
    {
     "name": "stdout",
     "output_type": "stream",
     "text": [
      "16\n"
     ]
    }
   ],
   "source": [
    "import re\n",
    "def grades():\n",
    "    with open (\"assets/grades.txt\", \"r\") as file:\n",
    "        grades = file.read()\n",
    "\n",
    "    # YOUR CODE HERE\n",
    "    return re.findall(\"[\\w ]+(?=: B)\", grades)\n",
    "    \n",
    "    #raise NotImplementedError()"
   ]
  },
  {
   "cell_type": "code",
   "execution_count": null,
   "metadata": {
    "deletable": false,
    "editable": false,
    "nbgrader": {
     "cell_type": "code",
     "checksum": "e0bcc452d60fc45259e58d3116d25477",
     "grade": true,
     "grade_id": "correct_grades",
     "locked": false,
     "points": 1,
     "schema_version": 3,
     "solution": false
    }
   },
   "outputs": [],
   "source": [
    "assert len(grades()) == 16\n"
   ]
  },
  {
   "cell_type": "markdown",
   "metadata": {
    "deletable": false,
    "editable": false,
    "nbgrader": {
     "cell_type": "markdown",
     "checksum": "4609d4ee034af5059e666df2740bdeb2",
     "grade": false,
     "grade_id": "cell-e253518e37d33f0c",
     "locked": true,
     "schema_version": 3,
     "solution": false
    }
   },
   "source": [
    "## Part C\n",
    "\n",
    "Consider the standard web log file in [assets/logdata.txt](assets/logdata.txt). This file records the access a user makes when visiting a web page (like this one!). Each line of the log has the following items:\n",
    "\n",
    "* a host (e.g., '146.204.224.152') \n",
    "* a user_name (e.g., 'feest6811' **note: sometimes the user name is missing! In this case, use '-' as the value for the username.**)\n",
    "* the time a request was made (e.g., '21/Jun/2019:15:45:24 -0700')\n",
    "* the post request type (e.g., 'POST /incentivize HTTP/1.1' **note: not everything is a POST!**)\n",
    "\n",
    "Your task is to convert this into a list of dictionaries, where each dictionary looks like the following:\n",
    "```\n",
    "example_dict = {\"host\":\"146.204.224.152\", \n",
    "                \"user_name\":\"feest6811\", \n",
    "                \"time\":\"21/Jun/2019:15:45:24 -0700\",\n",
    "                \"request\":\"POST /incentivize HTTP/1.1\"}\n",
    "```"
   ]
  },
  {
   "cell_type": "code",
   "execution_count": 18,
   "metadata": {
    "deletable": false,
    "nbgrader": {
     "cell_type": "code",
     "checksum": "c04017e59e48b2f4c77bf425ed84b356",
     "grade": false,
     "grade_id": "logs",
     "locked": false,
     "schema_version": 3,
     "solution": true
    },
    "ExecuteTime": {
     "end_time": "2024-04-02T02:29:04.446009100Z",
     "start_time": "2024-04-02T02:29:04.414356500Z"
    }
   },
   "outputs": [
    {
     "name": "stdout",
     "output_type": "stream",
     "text": [
      "979\n"
     ]
    }
   ],
   "source": [
    "import re\n",
    "def logs():\n",
    "    with open(\"assets/logdata.txt\", \"r\") as file:\n",
    "        logdata = file.read()\n",
    "    \n",
    "    # YOUR CODE HERE\n",
    "    return [{\"host\":m.group(1), \"user_name\":m.group(2), \"time\":m.group(3), \"request\":m.group(4)} for m in re.finditer(\"(\\d+\\.\\d+\\.\\d+\\.\\d+) - (\\w+|-) \\[(.+)\\] \\\"(.+)\\\"\", logdata)]\n",
    "    \n",
    "    #raise NotImplementedError()"
   ]
  },
  {
   "cell_type": "code",
   "execution_count": 19,
   "metadata": {
    "deletable": false,
    "editable": false,
    "nbgrader": {
     "cell_type": "code",
     "checksum": "1fd5f2cca190d37c667fb189352540d3",
     "grade": true,
     "grade_id": "cell-correct_logs",
     "locked": true,
     "points": 1,
     "schema_version": 3,
     "solution": false
    },
    "ExecuteTime": {
     "end_time": "2024-04-02T02:29:06.887364600Z",
     "start_time": "2024-04-02T02:29:06.878290300Z"
    }
   },
   "outputs": [],
   "source": [
    "assert len(logs()) == 979\n",
    "\n",
    "one_item={'host': '146.204.224.152',\n",
    "  'user_name': 'feest6811',\n",
    "  'time': '21/Jun/2019:15:45:24 -0700',\n",
    "  'request': 'POST /incentivize HTTP/1.1'}\n",
    "assert one_item in logs(), \"Sorry, this item should be in the log results, check your formating\"\n"
   ]
  }
 ],
 "metadata": {
  "kernelspec": {
   "display_name": "Python 3 (ipykernel)",
   "language": "python",
   "name": "python3"
  },
  "language_info": {
   "codemirror_mode": {
    "name": "ipython",
    "version": 3
   },
   "file_extension": ".py",
   "mimetype": "text/x-python",
   "name": "python",
   "nbconvert_exporter": "python",
   "pygments_lexer": "ipython3",
   "version": "3.9.13"
  }
 },
 "nbformat": 4,
 "nbformat_minor": 4
}
