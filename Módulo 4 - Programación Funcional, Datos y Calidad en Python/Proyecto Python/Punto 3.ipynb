{
 "cells": [
  {
   "cell_type": "markdown",
   "metadata": {},
   "source": [
    "## Punto 3"
   ]
  },
  {
   "cell_type": "markdown",
   "metadata": {},
   "source": [
    "Importar el dataset"
   ]
  },
  {
   "cell_type": "code",
   "execution_count": 1,
   "metadata": {
    "colab": {
     "base_uri": "https://localhost:8080/",
     "height": 1000
    },
    "id": "R9ZlR-AGngT3",
    "outputId": "ce0d861e-0fb7-4c20-8622-b9e99139f98d",
    "ExecuteTime": {
     "end_time": "2024-09-24T02:48:54.420392700Z",
     "start_time": "2024-09-24T02:48:53.224166600Z"
    }
   },
   "outputs": [],
   "source": [
    "import pandas as pd\n",
    "df = pd.read_csv(\"Horror Movies IMDb.csv\", sep=\",\")   # Creacion de un nuevo dataframe a partir de un dataset en un csv, tiene mas argumentos como header, nrows, na_filter, sep"
   ]
  },
  {
   "cell_type": "markdown",
   "metadata": {},
   "source": [
    "Imprimir los primeros 5 datos"
   ]
  },
  {
   "cell_type": "code",
   "execution_count": 2,
   "metadata": {
    "colab": {
     "base_uri": "https://localhost:8080/"
    },
    "id": "VI3Tj2whoyUF",
    "outputId": "9531e5f0-7d2c-4345-b127-6df410dd26ee",
    "ExecuteTime": {
     "end_time": "2024-09-24T02:48:54.495355500Z",
     "start_time": "2024-09-24T02:48:54.425912500Z"
    }
   },
   "outputs": [
    {
     "data": {
      "text/plain": "   Movie Title  Movie Year  Runtime                      Genre  Rating  \\\n0        Alien        1979      117             Horror, Sci-Fi     8.5   \n1       Psycho        1960      109  Horror, Mystery, Thriller     8.5   \n2  The Shining        1980      146              Drama, Horror     8.4   \n3    The Thing        1982      109    Horror, Mystery, Sci-Fi     8.2   \n4      Tumbbad        2018      104     Drama, Fantasy, Horror     8.2   \n\n           Director      Votes    Gross  \n0      Ridley Scott   9,05,275  $78.90M  \n1  Alfred Hitchcock   6,89,068  $32.00M  \n2   Stanley Kubrick  10,51,582  $44.02M  \n3    John Carpenter   4,39,793  $13.78M  \n4   Rahi Anil Barve     53,297      NaN  ",
      "text/html": "<div>\n<style scoped>\n    .dataframe tbody tr th:only-of-type {\n        vertical-align: middle;\n    }\n\n    .dataframe tbody tr th {\n        vertical-align: top;\n    }\n\n    .dataframe thead th {\n        text-align: right;\n    }\n</style>\n<table border=\"1\" class=\"dataframe\">\n  <thead>\n    <tr style=\"text-align: right;\">\n      <th></th>\n      <th>Movie Title</th>\n      <th>Movie Year</th>\n      <th>Runtime</th>\n      <th>Genre</th>\n      <th>Rating</th>\n      <th>Director</th>\n      <th>Votes</th>\n      <th>Gross</th>\n    </tr>\n  </thead>\n  <tbody>\n    <tr>\n      <th>0</th>\n      <td>Alien</td>\n      <td>1979</td>\n      <td>117</td>\n      <td>Horror, Sci-Fi</td>\n      <td>8.5</td>\n      <td>Ridley Scott</td>\n      <td>9,05,275</td>\n      <td>$78.90M</td>\n    </tr>\n    <tr>\n      <th>1</th>\n      <td>Psycho</td>\n      <td>1960</td>\n      <td>109</td>\n      <td>Horror, Mystery, Thriller</td>\n      <td>8.5</td>\n      <td>Alfred Hitchcock</td>\n      <td>6,89,068</td>\n      <td>$32.00M</td>\n    </tr>\n    <tr>\n      <th>2</th>\n      <td>The Shining</td>\n      <td>1980</td>\n      <td>146</td>\n      <td>Drama, Horror</td>\n      <td>8.4</td>\n      <td>Stanley Kubrick</td>\n      <td>10,51,582</td>\n      <td>$44.02M</td>\n    </tr>\n    <tr>\n      <th>3</th>\n      <td>The Thing</td>\n      <td>1982</td>\n      <td>109</td>\n      <td>Horror, Mystery, Sci-Fi</td>\n      <td>8.2</td>\n      <td>John Carpenter</td>\n      <td>4,39,793</td>\n      <td>$13.78M</td>\n    </tr>\n    <tr>\n      <th>4</th>\n      <td>Tumbbad</td>\n      <td>2018</td>\n      <td>104</td>\n      <td>Drama, Fantasy, Horror</td>\n      <td>8.2</td>\n      <td>Rahi Anil Barve</td>\n      <td>53,297</td>\n      <td>NaN</td>\n    </tr>\n  </tbody>\n</table>\n</div>"
     },
     "execution_count": 2,
     "metadata": {},
     "output_type": "execute_result"
    }
   ],
   "source": [
    "df.head(5)"
   ]
  },
  {
   "cell_type": "markdown",
   "metadata": {},
   "source": [
    "Encontrar la longitud del dataset"
   ]
  },
  {
   "cell_type": "code",
   "execution_count": 3,
   "metadata": {
    "colab": {
     "base_uri": "https://localhost:8080/",
     "height": 397
    },
    "id": "OB54kYZTvRQA",
    "outputId": "3ca900ac-5747-4482-ee02-230e1d2b95ca",
    "ExecuteTime": {
     "end_time": "2024-09-24T02:48:54.499948300Z",
     "start_time": "2024-09-24T02:48:54.449217500Z"
    }
   },
   "outputs": [
    {
     "data": {
      "text/plain": "836"
     },
     "execution_count": 3,
     "metadata": {},
     "output_type": "execute_result"
    }
   ],
   "source": [
    "len(df) # Cantidad de columnas o registros del dataset"
   ]
  },
  {
   "cell_type": "markdown",
   "metadata": {},
   "source": [
    "Imprimir los encabezados"
   ]
  },
  {
   "cell_type": "code",
   "execution_count": 4,
   "metadata": {
    "colab": {
     "base_uri": "https://localhost:8080/"
    },
    "id": "tmM_6SJ6vU1h",
    "outputId": "4cf45114-2513-4dad-cb62-533d65dc344e",
    "ExecuteTime": {
     "end_time": "2024-09-24T02:48:54.523171700Z",
     "start_time": "2024-09-24T02:48:54.463600100Z"
    }
   },
   "outputs": [
    {
     "data": {
      "text/plain": "Index(['Movie Title', 'Movie Year', 'Runtime', 'Genre', 'Rating', 'Director',\n       'Votes', 'Gross'],\n      dtype='object')"
     },
     "execution_count": 4,
     "metadata": {},
     "output_type": "execute_result"
    }
   ],
   "source": [
    "df.columns"
   ]
  },
  {
   "cell_type": "markdown",
   "metadata": {},
   "source": [
    "Obtener un sub dataFrame con películas desde 1980 hasta la actualidad"
   ]
  },
  {
   "cell_type": "code",
   "execution_count": 5,
   "metadata": {
    "colab": {
     "base_uri": "https://localhost:8080/"
    },
    "id": "QGxmg9C_vXU3",
    "outputId": "f950b43f-04cd-4f6f-ef51-295459056b6e",
    "ExecuteTime": {
     "end_time": "2024-09-24T02:48:54.629827600Z",
     "start_time": "2024-09-24T02:48:54.471126800Z"
    }
   },
   "outputs": [
    {
     "data": {
      "text/plain": "           Movie Title  Movie Year  Runtime                      Genre  \\\n2          The Shining        1980      146              Drama, Horror   \n3            The Thing        1982      109    Horror, Mystery, Sci-Fi   \n4              Tumbbad        2018      104     Drama, Fantasy, Horror   \n10   The Blue Elephant        2014      170     Drama, Horror, Mystery   \n11   Shaun of the Dead        2004       99             Comedy, Horror   \n..                 ...         ...      ...                        ...   \n830         BloodRayne        2005       95    Action, Fantasy, Horror   \n831            Troll 2        1990       95    Comedy, Fantasy, Horror   \n832             Laxmii        2020      141     Action, Comedy, Horror   \n833  Alone in the Dark        2005       96     Action, Horror, Sci-Fi   \n834  House of the Dead        2003       90  Action, Adventure, Horror   \n\n     Rating          Director      Votes    Gross  \n2       8.4   Stanley Kubrick  10,51,582  $44.02M  \n3       8.2    John Carpenter   4,39,793  $13.78M  \n4       8.2   Rahi Anil Barve     53,297      NaN  \n10      8.0      Marwan Hamed     29,151      NaN  \n11      7.9      Edgar Wright   5,72,237  $13.54M  \n..      ...               ...        ...      ...  \n830     3.0          Uwe Boll     36,527   $2.41M  \n831     2.9  Claudio Fragasso     33,908      NaN  \n832     2.5  Raghava Lawrence     58,053      NaN  \n833     2.4          Uwe Boll     46,403   $5.18M  \n834     2.1          Uwe Boll     38,041  $10.25M  \n\n[776 rows x 8 columns]",
      "text/html": "<div>\n<style scoped>\n    .dataframe tbody tr th:only-of-type {\n        vertical-align: middle;\n    }\n\n    .dataframe tbody tr th {\n        vertical-align: top;\n    }\n\n    .dataframe thead th {\n        text-align: right;\n    }\n</style>\n<table border=\"1\" class=\"dataframe\">\n  <thead>\n    <tr style=\"text-align: right;\">\n      <th></th>\n      <th>Movie Title</th>\n      <th>Movie Year</th>\n      <th>Runtime</th>\n      <th>Genre</th>\n      <th>Rating</th>\n      <th>Director</th>\n      <th>Votes</th>\n      <th>Gross</th>\n    </tr>\n  </thead>\n  <tbody>\n    <tr>\n      <th>2</th>\n      <td>The Shining</td>\n      <td>1980</td>\n      <td>146</td>\n      <td>Drama, Horror</td>\n      <td>8.4</td>\n      <td>Stanley Kubrick</td>\n      <td>10,51,582</td>\n      <td>$44.02M</td>\n    </tr>\n    <tr>\n      <th>3</th>\n      <td>The Thing</td>\n      <td>1982</td>\n      <td>109</td>\n      <td>Horror, Mystery, Sci-Fi</td>\n      <td>8.2</td>\n      <td>John Carpenter</td>\n      <td>4,39,793</td>\n      <td>$13.78M</td>\n    </tr>\n    <tr>\n      <th>4</th>\n      <td>Tumbbad</td>\n      <td>2018</td>\n      <td>104</td>\n      <td>Drama, Fantasy, Horror</td>\n      <td>8.2</td>\n      <td>Rahi Anil Barve</td>\n      <td>53,297</td>\n      <td>NaN</td>\n    </tr>\n    <tr>\n      <th>10</th>\n      <td>The Blue Elephant</td>\n      <td>2014</td>\n      <td>170</td>\n      <td>Drama, Horror, Mystery</td>\n      <td>8.0</td>\n      <td>Marwan Hamed</td>\n      <td>29,151</td>\n      <td>NaN</td>\n    </tr>\n    <tr>\n      <th>11</th>\n      <td>Shaun of the Dead</td>\n      <td>2004</td>\n      <td>99</td>\n      <td>Comedy, Horror</td>\n      <td>7.9</td>\n      <td>Edgar Wright</td>\n      <td>5,72,237</td>\n      <td>$13.54M</td>\n    </tr>\n    <tr>\n      <th>...</th>\n      <td>...</td>\n      <td>...</td>\n      <td>...</td>\n      <td>...</td>\n      <td>...</td>\n      <td>...</td>\n      <td>...</td>\n      <td>...</td>\n    </tr>\n    <tr>\n      <th>830</th>\n      <td>BloodRayne</td>\n      <td>2005</td>\n      <td>95</td>\n      <td>Action, Fantasy, Horror</td>\n      <td>3.0</td>\n      <td>Uwe Boll</td>\n      <td>36,527</td>\n      <td>$2.41M</td>\n    </tr>\n    <tr>\n      <th>831</th>\n      <td>Troll 2</td>\n      <td>1990</td>\n      <td>95</td>\n      <td>Comedy, Fantasy, Horror</td>\n      <td>2.9</td>\n      <td>Claudio Fragasso</td>\n      <td>33,908</td>\n      <td>NaN</td>\n    </tr>\n    <tr>\n      <th>832</th>\n      <td>Laxmii</td>\n      <td>2020</td>\n      <td>141</td>\n      <td>Action, Comedy, Horror</td>\n      <td>2.5</td>\n      <td>Raghava Lawrence</td>\n      <td>58,053</td>\n      <td>NaN</td>\n    </tr>\n    <tr>\n      <th>833</th>\n      <td>Alone in the Dark</td>\n      <td>2005</td>\n      <td>96</td>\n      <td>Action, Horror, Sci-Fi</td>\n      <td>2.4</td>\n      <td>Uwe Boll</td>\n      <td>46,403</td>\n      <td>$5.18M</td>\n    </tr>\n    <tr>\n      <th>834</th>\n      <td>House of the Dead</td>\n      <td>2003</td>\n      <td>90</td>\n      <td>Action, Adventure, Horror</td>\n      <td>2.1</td>\n      <td>Uwe Boll</td>\n      <td>38,041</td>\n      <td>$10.25M</td>\n    </tr>\n  </tbody>\n</table>\n<p>776 rows × 8 columns</p>\n</div>"
     },
     "execution_count": 5,
     "metadata": {},
     "output_type": "execute_result"
    }
   ],
   "source": [
    "df_1980_present = df[df['Movie Year'] >= 1980]\n",
    "df_1980_present"
   ]
  },
  {
   "cell_type": "markdown",
   "metadata": {},
   "source": [
    "Dado el sub dataFrame anterior: encontrar la película más corta, la menos rentable y el promedio\n",
    "de duración"
   ]
  },
  {
   "cell_type": "code",
   "execution_count": 6,
   "metadata": {
    "ExecuteTime": {
     "end_time": "2024-09-24T02:48:54.672670200Z",
     "start_time": "2024-09-24T02:48:54.500950700Z"
    }
   },
   "outputs": [
    {
     "name": "stdout",
     "output_type": "stream",
     "text": [
      "Película más corta:\n",
      "Movie Title            Host II\n",
      "Movie Year                2020\n",
      "Runtime                     57\n",
      "Genre          Horror, Mystery\n",
      "Rating                     6.5\n",
      "Director            Rob Savage\n",
      "Votes                   34,122\n",
      "Gross                      NaN\n",
      "Name: 297, dtype: object\n",
      "\n",
      "Película menos rentable:\n",
      "Movie Title              Ginger Snaps\n",
      "Movie Year                       2000\n",
      "Runtime                           108\n",
      "Genre          Drama, Fantasy, Horror\n",
      "Rating                            6.8\n",
      "Director                 John Fawcett\n",
      "Votes                          49,563\n",
      "Gross                             0.0\n",
      "Name: 202, dtype: object\n",
      "\n",
      "Promedio de duración:\n",
      "101.10695876288659\n"
     ]
    },
    {
     "name": "stderr",
     "output_type": "stream",
     "text": [
      "C:\\Users\\David\\AppData\\Local\\Temp\\ipykernel_11668\\4062286433.py:10: DeprecationWarning: In a future version, `df.iloc[:, i] = newvals` will attempt to set the values inplace instead of always setting a new array. To retain the old behavior, use either `df[df.columns[i]] = newvals` or, if columns are non-unique, `df.isetitem(i, newvals)`\n",
      "  df_1980_present_con_gross.loc[:, 'Gross'] = df_1980_present_con_gross['Gross'].replace('[\\$,M]', '', regex=True).astype(float)\n"
     ]
    }
   ],
   "source": [
    "# Encontrar la película más corta en el sub dataFrame\n",
    "pelicula_mas_corta = df_1980_present.loc[df_1980_present['Runtime'].idxmin()]\n",
    "print(\"Película más corta:\")\n",
    "print(pelicula_mas_corta)\n",
    "\n",
    "print(\"\")\n",
    "\n",
    "# Encontrar la película menos rentable en el sub dataFrame\n",
    "df_1980_present_con_gross = df_1980_present.dropna(subset=['Gross']).copy()\n",
    "df_1980_present_con_gross.loc[:, 'Gross'] = df_1980_present_con_gross['Gross'].replace('[\\$,M]', '', regex=True).astype(float)\n",
    "\n",
    "# Filtrar las películas con Gross mayor a 0\n",
    "df_1980_present_con_gross = df_1980_present_con_gross[df_1980_present_con_gross['Gross'] >= 0]\n",
    "\n",
    "# Encontrar la película menos rentable\n",
    "pelicula_menos_rentable = df_1980_present_con_gross.loc[df_1980_present_con_gross['Gross'].idxmin()]\n",
    "print(\"Película menos rentable:\")\n",
    "print(pelicula_menos_rentable)\n",
    "\n",
    "print(\"\")\n",
    "\n",
    "# Calcular el promedio de duración en el sub dataFrame\n",
    "promedio_duracion = df_1980_present['Runtime'].mean()\n",
    "print(\"Promedio de duración:\")\n",
    "print(promedio_duracion)"
   ]
  },
  {
   "cell_type": "markdown",
   "metadata": {},
   "source": [
    "Encontrar la desviación estándar de las calificaciones de la película en el sub dataFrame"
   ]
  },
  {
   "cell_type": "code",
   "execution_count": 7,
   "metadata": {
    "colab": {
     "base_uri": "https://localhost:8080/",
     "height": 216
    },
    "id": "Hw3k_iG9vgq4",
    "outputId": "fec6bba2-1cd3-4264-f380-e179b6e6bd03",
    "ExecuteTime": {
     "end_time": "2024-09-24T02:48:54.673671500Z",
     "start_time": "2024-09-24T02:48:54.531488500Z"
    }
   },
   "outputs": [
    {
     "data": {
      "text/plain": "0.8838861854481449"
     },
     "execution_count": 7,
     "metadata": {},
     "output_type": "execute_result"
    }
   ],
   "source": [
    "# Encontrar la desviación estándar de las calificaciones de la película en el sub dataFrame\n",
    "desviacion_estandar_rating = df_1980_present['Rating'].std()\n",
    "desviacion_estandar_rating"
   ]
  },
  {
   "cell_type": "markdown",
   "metadata": {},
   "source": [
    "Encontrar el promedio de votos agrupados género"
   ]
  },
  {
   "cell_type": "code",
   "execution_count": 8,
   "metadata": {
    "ExecuteTime": {
     "end_time": "2024-09-24T02:48:54.815857500Z",
     "start_time": "2024-09-24T02:48:54.541129200Z"
    }
   },
   "outputs": [
    {
     "data": {
      "text/plain": "Genre\nAction, Adventure, Comedy      70572.666667\nAction, Adventure, Crime       81017.000000\nAction, Adventure, Drama       75749.166667\nAction, Adventure, Fantasy    179800.000000\nAction, Adventure, Horror     161026.047619\n                                  ...      \nHorror, Mystery, Thriller     121543.316327\nHorror, Romance, Sci-Fi        29941.000000\nHorror, Sci-Fi                 92929.470588\nHorror, Sci-Fi, Thriller      119336.368421\nHorror, Thriller               82853.555556\nName: Votes, Length: 79, dtype: float64"
     },
     "execution_count": 8,
     "metadata": {},
     "output_type": "execute_result"
    }
   ],
   "source": [
    "# Encontrar el promedio de votos agrupados por género\n",
    "df_genero = df.copy()\n",
    "df_genero['Votes'] = df_genero['Votes'].str.replace(',', '').astype(int)\n",
    "promedio_votos_genero = df_genero.groupby('Genre')['Votes'].mean()\n",
    "promedio_votos_genero"
   ]
  },
  {
   "cell_type": "markdown",
   "metadata": {},
   "source": [
    "Encontrar los directores y el número de ocurrencias en el dataset, ordenados descendentemente"
   ]
  },
  {
   "cell_type": "code",
   "execution_count": 9,
   "metadata": {
    "colab": {
     "base_uri": "https://localhost:8080/",
     "height": 150
    },
    "id": "4RXukg9cvsNx",
    "outputId": "a820304b-3ab0-4a15-fb79-e4806db50084",
    "ExecuteTime": {
     "end_time": "2024-09-24T02:48:54.819945500Z",
     "start_time": "2024-09-24T02:48:54.565852700Z"
    }
   },
   "outputs": [
    {
     "data": {
      "text/plain": "John Carpenter          11\nWes Craven              11\nDavid Cronenberg         8\nJames Wan                7\nGuillermo del Toro       7\n                        ..\nBradley King             1\nJean-Baptiste Andrea     1\nGeorge Miller            1\nWilliam Peter Blatty     1\nHarold P. Warren         1\nName: Director, Length: 544, dtype: int64"
     },
     "execution_count": 9,
     "metadata": {},
     "output_type": "execute_result"
    }
   ],
   "source": [
    "# Encontrar los directores y el número de ocurrencias en el dataset, ordenados descendentemente\n",
    "directores_ocurrencias = df['Director'].value_counts() # Está ordenado descendentemente por defecto\n",
    "directores_ocurrencias"
   ]
  },
  {
   "cell_type": "markdown",
   "metadata": {},
   "source": [
    "Encontrar la películas mejor calificadas y que pertenezcan incluyan estos 3 géneros (Horror,\n",
    "Mystery, Sci-Fi)"
   ]
  },
  {
   "cell_type": "code",
   "execution_count": 10,
   "metadata": {
    "colab": {
     "base_uri": "https://localhost:8080/",
     "height": 431
    },
    "id": "lHZPrjjEvuWG",
    "outputId": "9b390206-7435-456d-df31-b4d9edaaa5b7",
    "vscode": {
     "languageId": "ruby"
    },
    "ExecuteTime": {
     "end_time": "2024-09-24T02:48:54.857849200Z",
     "start_time": "2024-09-24T02:48:54.578556300Z"
    }
   },
   "outputs": [
    {
     "data": {
      "text/plain": "                            Movie Title  Movie Year  Runtime  \\\n3                             The Thing        1982      109   \n136                          Timecrimes        2007       92   \n184                                Nope        2022      130   \n204                            eXistenZ        1999       97   \n253                            Bird Box        2018      124   \n260                         The Faculty        1998      104   \n307                           Possessor        2020      103   \n323                          Time Lapse        2014      104   \n433                  Color Out of Space        2019      111   \n459                          Open Grave        2013      102   \n419                         The Thing I        2011      103   \n525                            Vivarium        2019       97   \n534                          The Void I        2016       90   \n536                     The Fourth Kind        2009       98   \n580                           The Relic        1997      110   \n668                    Cube²: Hypercube        2002       94   \n680                   In the Tall Grass        2019      101   \n728                           Apollo 18        2011       86   \n729                  The Lazarus Effect        2015       83   \n739  Halloween III: Season of the Witch        1982       98   \n\n                       Genre  Rating                     Director     Votes  \\\n3    Horror, Mystery, Sci-Fi     8.2               John Carpenter  4,39,793   \n136  Horror, Mystery, Sci-Fi     7.1              Nacho Vigalondo    66,167   \n184  Horror, Mystery, Sci-Fi     6.8                 Jordan Peele  2,32,097   \n204  Horror, Mystery, Sci-Fi     6.8             David Cronenberg  1,03,653   \n253  Horror, Mystery, Sci-Fi     6.6                 Susanne Bier  3,60,116   \n260  Horror, Mystery, Sci-Fi     6.6             Robert Rodriguez  1,28,887   \n307  Horror, Mystery, Sci-Fi     6.5           Brandon Cronenberg    41,017   \n323  Horror, Mystery, Sci-Fi     6.5                 Bradley King    47,416   \n433  Horror, Mystery, Sci-Fi     6.2              Richard Stanley    52,020   \n459  Horror, Mystery, Sci-Fi     6.2        Gonzalo López-Gallego    30,633   \n419  Horror, Mystery, Sci-Fi     6.2  Matthijs van Heijningen Jr.  1,39,897   \n525  Horror, Mystery, Sci-Fi     5.9              Lorcan Finnegan    64,794   \n534  Horror, Mystery, Sci-Fi     5.9             Jeremy Gillespie    39,049   \n536  Horror, Mystery, Sci-Fi     5.9           Olatunde Osunsanmi    79,762   \n580  Horror, Mystery, Sci-Fi     5.8                  Peter Hyams    29,056   \n668  Horror, Mystery, Sci-Fi     5.5               Andrzej Sekula    68,747   \n680  Horror, Mystery, Sci-Fi     5.4              Vincenzo Natali    60,139   \n728  Horror, Mystery, Sci-Fi     5.2        Gonzalo López-Gallego    56,777   \n729  Horror, Mystery, Sci-Fi     5.2                   David Gelb    44,970   \n739  Horror, Mystery, Sci-Fi     5.1            Tommy Lee Wallace    57,269   \n\n        Gross  \n3     $13.78M  \n136    $0.04M  \n184  $123.28M  \n204    $2.84M  \n253       NaN  \n260   $40.06M  \n307       NaN  \n323       NaN  \n433       NaN  \n459       NaN  \n419   $16.93M  \n525       NaN  \n534    $0.15M  \n536   $25.46M  \n580   $33.96M  \n668       NaN  \n680       NaN  \n728   $17.69M  \n729   $25.80M  \n739   $14.40M  ",
      "text/html": "<div>\n<style scoped>\n    .dataframe tbody tr th:only-of-type {\n        vertical-align: middle;\n    }\n\n    .dataframe tbody tr th {\n        vertical-align: top;\n    }\n\n    .dataframe thead th {\n        text-align: right;\n    }\n</style>\n<table border=\"1\" class=\"dataframe\">\n  <thead>\n    <tr style=\"text-align: right;\">\n      <th></th>\n      <th>Movie Title</th>\n      <th>Movie Year</th>\n      <th>Runtime</th>\n      <th>Genre</th>\n      <th>Rating</th>\n      <th>Director</th>\n      <th>Votes</th>\n      <th>Gross</th>\n    </tr>\n  </thead>\n  <tbody>\n    <tr>\n      <th>3</th>\n      <td>The Thing</td>\n      <td>1982</td>\n      <td>109</td>\n      <td>Horror, Mystery, Sci-Fi</td>\n      <td>8.2</td>\n      <td>John Carpenter</td>\n      <td>4,39,793</td>\n      <td>$13.78M</td>\n    </tr>\n    <tr>\n      <th>136</th>\n      <td>Timecrimes</td>\n      <td>2007</td>\n      <td>92</td>\n      <td>Horror, Mystery, Sci-Fi</td>\n      <td>7.1</td>\n      <td>Nacho Vigalondo</td>\n      <td>66,167</td>\n      <td>$0.04M</td>\n    </tr>\n    <tr>\n      <th>184</th>\n      <td>Nope</td>\n      <td>2022</td>\n      <td>130</td>\n      <td>Horror, Mystery, Sci-Fi</td>\n      <td>6.8</td>\n      <td>Jordan Peele</td>\n      <td>2,32,097</td>\n      <td>$123.28M</td>\n    </tr>\n    <tr>\n      <th>204</th>\n      <td>eXistenZ</td>\n      <td>1999</td>\n      <td>97</td>\n      <td>Horror, Mystery, Sci-Fi</td>\n      <td>6.8</td>\n      <td>David Cronenberg</td>\n      <td>1,03,653</td>\n      <td>$2.84M</td>\n    </tr>\n    <tr>\n      <th>253</th>\n      <td>Bird Box</td>\n      <td>2018</td>\n      <td>124</td>\n      <td>Horror, Mystery, Sci-Fi</td>\n      <td>6.6</td>\n      <td>Susanne Bier</td>\n      <td>3,60,116</td>\n      <td>NaN</td>\n    </tr>\n    <tr>\n      <th>260</th>\n      <td>The Faculty</td>\n      <td>1998</td>\n      <td>104</td>\n      <td>Horror, Mystery, Sci-Fi</td>\n      <td>6.6</td>\n      <td>Robert Rodriguez</td>\n      <td>1,28,887</td>\n      <td>$40.06M</td>\n    </tr>\n    <tr>\n      <th>307</th>\n      <td>Possessor</td>\n      <td>2020</td>\n      <td>103</td>\n      <td>Horror, Mystery, Sci-Fi</td>\n      <td>6.5</td>\n      <td>Brandon Cronenberg</td>\n      <td>41,017</td>\n      <td>NaN</td>\n    </tr>\n    <tr>\n      <th>323</th>\n      <td>Time Lapse</td>\n      <td>2014</td>\n      <td>104</td>\n      <td>Horror, Mystery, Sci-Fi</td>\n      <td>6.5</td>\n      <td>Bradley King</td>\n      <td>47,416</td>\n      <td>NaN</td>\n    </tr>\n    <tr>\n      <th>433</th>\n      <td>Color Out of Space</td>\n      <td>2019</td>\n      <td>111</td>\n      <td>Horror, Mystery, Sci-Fi</td>\n      <td>6.2</td>\n      <td>Richard Stanley</td>\n      <td>52,020</td>\n      <td>NaN</td>\n    </tr>\n    <tr>\n      <th>459</th>\n      <td>Open Grave</td>\n      <td>2013</td>\n      <td>102</td>\n      <td>Horror, Mystery, Sci-Fi</td>\n      <td>6.2</td>\n      <td>Gonzalo López-Gallego</td>\n      <td>30,633</td>\n      <td>NaN</td>\n    </tr>\n    <tr>\n      <th>419</th>\n      <td>The Thing I</td>\n      <td>2011</td>\n      <td>103</td>\n      <td>Horror, Mystery, Sci-Fi</td>\n      <td>6.2</td>\n      <td>Matthijs van Heijningen Jr.</td>\n      <td>1,39,897</td>\n      <td>$16.93M</td>\n    </tr>\n    <tr>\n      <th>525</th>\n      <td>Vivarium</td>\n      <td>2019</td>\n      <td>97</td>\n      <td>Horror, Mystery, Sci-Fi</td>\n      <td>5.9</td>\n      <td>Lorcan Finnegan</td>\n      <td>64,794</td>\n      <td>NaN</td>\n    </tr>\n    <tr>\n      <th>534</th>\n      <td>The Void I</td>\n      <td>2016</td>\n      <td>90</td>\n      <td>Horror, Mystery, Sci-Fi</td>\n      <td>5.9</td>\n      <td>Jeremy Gillespie</td>\n      <td>39,049</td>\n      <td>$0.15M</td>\n    </tr>\n    <tr>\n      <th>536</th>\n      <td>The Fourth Kind</td>\n      <td>2009</td>\n      <td>98</td>\n      <td>Horror, Mystery, Sci-Fi</td>\n      <td>5.9</td>\n      <td>Olatunde Osunsanmi</td>\n      <td>79,762</td>\n      <td>$25.46M</td>\n    </tr>\n    <tr>\n      <th>580</th>\n      <td>The Relic</td>\n      <td>1997</td>\n      <td>110</td>\n      <td>Horror, Mystery, Sci-Fi</td>\n      <td>5.8</td>\n      <td>Peter Hyams</td>\n      <td>29,056</td>\n      <td>$33.96M</td>\n    </tr>\n    <tr>\n      <th>668</th>\n      <td>Cube²: Hypercube</td>\n      <td>2002</td>\n      <td>94</td>\n      <td>Horror, Mystery, Sci-Fi</td>\n      <td>5.5</td>\n      <td>Andrzej Sekula</td>\n      <td>68,747</td>\n      <td>NaN</td>\n    </tr>\n    <tr>\n      <th>680</th>\n      <td>In the Tall Grass</td>\n      <td>2019</td>\n      <td>101</td>\n      <td>Horror, Mystery, Sci-Fi</td>\n      <td>5.4</td>\n      <td>Vincenzo Natali</td>\n      <td>60,139</td>\n      <td>NaN</td>\n    </tr>\n    <tr>\n      <th>728</th>\n      <td>Apollo 18</td>\n      <td>2011</td>\n      <td>86</td>\n      <td>Horror, Mystery, Sci-Fi</td>\n      <td>5.2</td>\n      <td>Gonzalo López-Gallego</td>\n      <td>56,777</td>\n      <td>$17.69M</td>\n    </tr>\n    <tr>\n      <th>729</th>\n      <td>The Lazarus Effect</td>\n      <td>2015</td>\n      <td>83</td>\n      <td>Horror, Mystery, Sci-Fi</td>\n      <td>5.2</td>\n      <td>David Gelb</td>\n      <td>44,970</td>\n      <td>$25.80M</td>\n    </tr>\n    <tr>\n      <th>739</th>\n      <td>Halloween III: Season of the Witch</td>\n      <td>1982</td>\n      <td>98</td>\n      <td>Horror, Mystery, Sci-Fi</td>\n      <td>5.1</td>\n      <td>Tommy Lee Wallace</td>\n      <td>57,269</td>\n      <td>$14.40M</td>\n    </tr>\n  </tbody>\n</table>\n</div>"
     },
     "execution_count": 10,
     "metadata": {},
     "output_type": "execute_result"
    }
   ],
   "source": [
    "# Encontrar las películas mejor calificadas que incluyan los géneros Horror, Mystery y Sci-Fi\n",
    "peliculas_mejor_calificadas = df[\n",
    "    df['Genre'].str.contains('Horror') &\n",
    "    df['Genre'].str.contains('Mystery') &\n",
    "    df['Genre'].str.contains('Sci-Fi')\n",
    "].sort_values(by='Rating', ascending=False)\n",
    "\n",
    "peliculas_mejor_calificadas"
   ]
  }
 ],
 "metadata": {
  "colab": {
   "provenance": []
  },
  "kernelspec": {
   "name": "python3",
   "language": "python",
   "display_name": "Python 3 (ipykernel)"
  },
  "language_info": {
   "codemirror_mode": {
    "name": "ipython",
    "version": 3
   },
   "file_extension": ".py",
   "mimetype": "text/x-python",
   "name": "python",
   "nbconvert_exporter": "python",
   "pygments_lexer": "ipython3",
   "version": "3.11.9"
  }
 },
 "nbformat": 4,
 "nbformat_minor": 0
}
