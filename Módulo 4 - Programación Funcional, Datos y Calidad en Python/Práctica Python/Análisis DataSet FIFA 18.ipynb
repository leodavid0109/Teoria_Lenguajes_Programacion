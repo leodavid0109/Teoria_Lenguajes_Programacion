{
 "cells": [
  {
   "cell_type": "markdown",
   "source": [
    "# Análisis de un DataSet de FIFA 18\n",
    "\n",
    "En el presente se desarrollará la aplicación de las funciones, métodos y atributos de las librerías pandas y Numpy que fueron enseñadas en clase sobre un dataset que forma parte de un videojuego de fútbol llamado FIFA 18. El dataset contiene información de los jugadores que forman parte del videojuego. El enlace al dataset es el siguiente:\n",
    "\n",
    "https://www.kaggle.com/datasets/thec03u5/fifa-18-demo-player-dataset?resource=download\n",
    "\n",
    "Al descargar el dataset se descarga un archivo comprimido en formato zip. Al descomprimirlo se obtienen varios archivos en formato csv, tres de los cuales tienen la información parcializada de los jugadores según algún tipo de interés. Sin embargo, para nuestro propósito se utilizará el archivo \"CompleteDataset.csv\" que contiene la información completa de los jugadores. Así pues, procedemos a realizar la aplicación del conocimiento adquirido en clase sobre el dataset mencionado."
   ],
   "metadata": {
    "collapsed": false
   },
   "id": "a5f7e06f76691e53"
  },
  {
   "cell_type": "code",
   "execution_count": 62,
   "id": "initial_id",
   "metadata": {
    "collapsed": true,
    "ExecuteTime": {
     "end_time": "2024-09-14T16:00:03.476034200Z",
     "start_time": "2024-09-14T16:00:03.079526600Z"
    }
   },
   "outputs": [
    {
     "name": "stderr",
     "output_type": "stream",
     "text": [
      "C:\\Users\\David\\AppData\\Local\\Temp\\ipykernel_3240\\3579073448.py:2: DtypeWarning: Columns (23,35) have mixed types. Specify dtype option on import or set low_memory=False.\n",
      "  df = pd.read_csv(\"CompleteDataset.csv\", sep=\",\")\n"
     ]
    },
    {
     "data": {
      "text/plain": "       Unnamed: 0               Name  Age  \\\n0               0  Cristiano Ronaldo   32   \n1               1           L. Messi   30   \n2               2             Neymar   25   \n3               3          L. Suárez   30   \n4               4           M. Neuer   31   \n...           ...                ...  ...   \n17976       17976          A. Kelsey   17   \n17977       17977      B. Richardson   47   \n17978       17978           J. Young   17   \n17979       17979       J. Lundstram   18   \n17980       17980          L. Sackey   18   \n\n                                                 Photo Nationality  \\\n0       https://cdn.sofifa.org/48/18/players/20801.png    Portugal   \n1      https://cdn.sofifa.org/48/18/players/158023.png   Argentina   \n2      https://cdn.sofifa.org/48/18/players/190871.png      Brazil   \n3      https://cdn.sofifa.org/48/18/players/176580.png     Uruguay   \n4      https://cdn.sofifa.org/48/18/players/167495.png     Germany   \n...                                                ...         ...   \n17976  https://cdn.sofifa.org/48/18/players/237463.png     England   \n17977   https://cdn.sofifa.org/48/18/players/11728.png     England   \n17978  https://cdn.sofifa.org/48/18/players/231381.png    Scotland   \n17979  https://cdn.sofifa.org/48/18/players/238813.png     England   \n17980  https://cdn.sofifa.org/48/18/players/238308.png       Ghana   \n\n                                       Flag  Overall  Potential  \\\n0       https://cdn.sofifa.org/flags/38.png       94         94   \n1       https://cdn.sofifa.org/flags/52.png       93         93   \n2       https://cdn.sofifa.org/flags/54.png       92         94   \n3       https://cdn.sofifa.org/flags/60.png       92         92   \n4       https://cdn.sofifa.org/flags/21.png       92         92   \n...                                     ...      ...        ...   \n17976   https://cdn.sofifa.org/flags/14.png       46         63   \n17977   https://cdn.sofifa.org/flags/14.png       46         46   \n17978   https://cdn.sofifa.org/flags/42.png       46         61   \n17979   https://cdn.sofifa.org/flags/14.png       46         64   \n17980  https://cdn.sofifa.org/flags/117.png       46         64   \n\n                      Club                                    Club Logo  ...  \\\n0           Real Madrid CF   https://cdn.sofifa.org/24/18/teams/243.png  ...   \n1             FC Barcelona   https://cdn.sofifa.org/24/18/teams/241.png  ...   \n2      Paris Saint-Germain    https://cdn.sofifa.org/24/18/teams/73.png  ...   \n3             FC Barcelona   https://cdn.sofifa.org/24/18/teams/241.png  ...   \n4         FC Bayern Munich    https://cdn.sofifa.org/24/18/teams/21.png  ...   \n...                    ...                                          ...  ...   \n17976    Scunthorpe United  https://cdn.sofifa.org/24/18/teams/1949.png  ...   \n17977    Wycombe Wanderers  https://cdn.sofifa.org/24/18/teams/1933.png  ...   \n17978         Swindon Town  https://cdn.sofifa.org/24/18/teams/1934.png  ...   \n17979      Crewe Alexandra   https://cdn.sofifa.org/24/18/teams/121.png  ...   \n17980    Scunthorpe United  https://cdn.sofifa.org/24/18/teams/1949.png  ...   \n\n         RB   RCB   RCM   RDM    RF    RM    RS    RW   RWB    ST  \n0      61.0  53.0  82.0  62.0  91.0  89.0  92.0  91.0  66.0  92.0  \n1      57.0  45.0  84.0  59.0  92.0  90.0  88.0  91.0  62.0  88.0  \n2      59.0  46.0  79.0  59.0  88.0  87.0  84.0  89.0  64.0  84.0  \n3      64.0  58.0  80.0  65.0  88.0  85.0  88.0  87.0  68.0  88.0  \n4       NaN   NaN   NaN   NaN   NaN   NaN   NaN   NaN   NaN   NaN  \n...     ...   ...   ...   ...   ...   ...   ...   ...   ...   ...  \n17976   NaN   NaN   NaN   NaN   NaN   NaN   NaN   NaN   NaN   NaN  \n17977   NaN   NaN   NaN   NaN   NaN   NaN   NaN   NaN   NaN   NaN  \n17978  31.0  28.0  38.0  29.0  45.0  42.0  45.0  44.0  32.0  45.0  \n17979  47.0  46.0  45.0  47.0  43.0  45.0  41.0  44.0  46.0  41.0  \n17980  40.0  45.0  30.0  38.0  29.0  30.0  31.0  29.0  38.0  31.0  \n\n[17981 rows x 75 columns]",
      "text/html": "<div>\n<style scoped>\n    .dataframe tbody tr th:only-of-type {\n        vertical-align: middle;\n    }\n\n    .dataframe tbody tr th {\n        vertical-align: top;\n    }\n\n    .dataframe thead th {\n        text-align: right;\n    }\n</style>\n<table border=\"1\" class=\"dataframe\">\n  <thead>\n    <tr style=\"text-align: right;\">\n      <th></th>\n      <th>Unnamed: 0</th>\n      <th>Name</th>\n      <th>Age</th>\n      <th>Photo</th>\n      <th>Nationality</th>\n      <th>Flag</th>\n      <th>Overall</th>\n      <th>Potential</th>\n      <th>Club</th>\n      <th>Club Logo</th>\n      <th>...</th>\n      <th>RB</th>\n      <th>RCB</th>\n      <th>RCM</th>\n      <th>RDM</th>\n      <th>RF</th>\n      <th>RM</th>\n      <th>RS</th>\n      <th>RW</th>\n      <th>RWB</th>\n      <th>ST</th>\n    </tr>\n  </thead>\n  <tbody>\n    <tr>\n      <th>0</th>\n      <td>0</td>\n      <td>Cristiano Ronaldo</td>\n      <td>32</td>\n      <td>https://cdn.sofifa.org/48/18/players/20801.png</td>\n      <td>Portugal</td>\n      <td>https://cdn.sofifa.org/flags/38.png</td>\n      <td>94</td>\n      <td>94</td>\n      <td>Real Madrid CF</td>\n      <td>https://cdn.sofifa.org/24/18/teams/243.png</td>\n      <td>...</td>\n      <td>61.0</td>\n      <td>53.0</td>\n      <td>82.0</td>\n      <td>62.0</td>\n      <td>91.0</td>\n      <td>89.0</td>\n      <td>92.0</td>\n      <td>91.0</td>\n      <td>66.0</td>\n      <td>92.0</td>\n    </tr>\n    <tr>\n      <th>1</th>\n      <td>1</td>\n      <td>L. Messi</td>\n      <td>30</td>\n      <td>https://cdn.sofifa.org/48/18/players/158023.png</td>\n      <td>Argentina</td>\n      <td>https://cdn.sofifa.org/flags/52.png</td>\n      <td>93</td>\n      <td>93</td>\n      <td>FC Barcelona</td>\n      <td>https://cdn.sofifa.org/24/18/teams/241.png</td>\n      <td>...</td>\n      <td>57.0</td>\n      <td>45.0</td>\n      <td>84.0</td>\n      <td>59.0</td>\n      <td>92.0</td>\n      <td>90.0</td>\n      <td>88.0</td>\n      <td>91.0</td>\n      <td>62.0</td>\n      <td>88.0</td>\n    </tr>\n    <tr>\n      <th>2</th>\n      <td>2</td>\n      <td>Neymar</td>\n      <td>25</td>\n      <td>https://cdn.sofifa.org/48/18/players/190871.png</td>\n      <td>Brazil</td>\n      <td>https://cdn.sofifa.org/flags/54.png</td>\n      <td>92</td>\n      <td>94</td>\n      <td>Paris Saint-Germain</td>\n      <td>https://cdn.sofifa.org/24/18/teams/73.png</td>\n      <td>...</td>\n      <td>59.0</td>\n      <td>46.0</td>\n      <td>79.0</td>\n      <td>59.0</td>\n      <td>88.0</td>\n      <td>87.0</td>\n      <td>84.0</td>\n      <td>89.0</td>\n      <td>64.0</td>\n      <td>84.0</td>\n    </tr>\n    <tr>\n      <th>3</th>\n      <td>3</td>\n      <td>L. Suárez</td>\n      <td>30</td>\n      <td>https://cdn.sofifa.org/48/18/players/176580.png</td>\n      <td>Uruguay</td>\n      <td>https://cdn.sofifa.org/flags/60.png</td>\n      <td>92</td>\n      <td>92</td>\n      <td>FC Barcelona</td>\n      <td>https://cdn.sofifa.org/24/18/teams/241.png</td>\n      <td>...</td>\n      <td>64.0</td>\n      <td>58.0</td>\n      <td>80.0</td>\n      <td>65.0</td>\n      <td>88.0</td>\n      <td>85.0</td>\n      <td>88.0</td>\n      <td>87.0</td>\n      <td>68.0</td>\n      <td>88.0</td>\n    </tr>\n    <tr>\n      <th>4</th>\n      <td>4</td>\n      <td>M. Neuer</td>\n      <td>31</td>\n      <td>https://cdn.sofifa.org/48/18/players/167495.png</td>\n      <td>Germany</td>\n      <td>https://cdn.sofifa.org/flags/21.png</td>\n      <td>92</td>\n      <td>92</td>\n      <td>FC Bayern Munich</td>\n      <td>https://cdn.sofifa.org/24/18/teams/21.png</td>\n      <td>...</td>\n      <td>NaN</td>\n      <td>NaN</td>\n      <td>NaN</td>\n      <td>NaN</td>\n      <td>NaN</td>\n      <td>NaN</td>\n      <td>NaN</td>\n      <td>NaN</td>\n      <td>NaN</td>\n      <td>NaN</td>\n    </tr>\n    <tr>\n      <th>...</th>\n      <td>...</td>\n      <td>...</td>\n      <td>...</td>\n      <td>...</td>\n      <td>...</td>\n      <td>...</td>\n      <td>...</td>\n      <td>...</td>\n      <td>...</td>\n      <td>...</td>\n      <td>...</td>\n      <td>...</td>\n      <td>...</td>\n      <td>...</td>\n      <td>...</td>\n      <td>...</td>\n      <td>...</td>\n      <td>...</td>\n      <td>...</td>\n      <td>...</td>\n      <td>...</td>\n    </tr>\n    <tr>\n      <th>17976</th>\n      <td>17976</td>\n      <td>A. Kelsey</td>\n      <td>17</td>\n      <td>https://cdn.sofifa.org/48/18/players/237463.png</td>\n      <td>England</td>\n      <td>https://cdn.sofifa.org/flags/14.png</td>\n      <td>46</td>\n      <td>63</td>\n      <td>Scunthorpe United</td>\n      <td>https://cdn.sofifa.org/24/18/teams/1949.png</td>\n      <td>...</td>\n      <td>NaN</td>\n      <td>NaN</td>\n      <td>NaN</td>\n      <td>NaN</td>\n      <td>NaN</td>\n      <td>NaN</td>\n      <td>NaN</td>\n      <td>NaN</td>\n      <td>NaN</td>\n      <td>NaN</td>\n    </tr>\n    <tr>\n      <th>17977</th>\n      <td>17977</td>\n      <td>B. Richardson</td>\n      <td>47</td>\n      <td>https://cdn.sofifa.org/48/18/players/11728.png</td>\n      <td>England</td>\n      <td>https://cdn.sofifa.org/flags/14.png</td>\n      <td>46</td>\n      <td>46</td>\n      <td>Wycombe Wanderers</td>\n      <td>https://cdn.sofifa.org/24/18/teams/1933.png</td>\n      <td>...</td>\n      <td>NaN</td>\n      <td>NaN</td>\n      <td>NaN</td>\n      <td>NaN</td>\n      <td>NaN</td>\n      <td>NaN</td>\n      <td>NaN</td>\n      <td>NaN</td>\n      <td>NaN</td>\n      <td>NaN</td>\n    </tr>\n    <tr>\n      <th>17978</th>\n      <td>17978</td>\n      <td>J. Young</td>\n      <td>17</td>\n      <td>https://cdn.sofifa.org/48/18/players/231381.png</td>\n      <td>Scotland</td>\n      <td>https://cdn.sofifa.org/flags/42.png</td>\n      <td>46</td>\n      <td>61</td>\n      <td>Swindon Town</td>\n      <td>https://cdn.sofifa.org/24/18/teams/1934.png</td>\n      <td>...</td>\n      <td>31.0</td>\n      <td>28.0</td>\n      <td>38.0</td>\n      <td>29.0</td>\n      <td>45.0</td>\n      <td>42.0</td>\n      <td>45.0</td>\n      <td>44.0</td>\n      <td>32.0</td>\n      <td>45.0</td>\n    </tr>\n    <tr>\n      <th>17979</th>\n      <td>17979</td>\n      <td>J. Lundstram</td>\n      <td>18</td>\n      <td>https://cdn.sofifa.org/48/18/players/238813.png</td>\n      <td>England</td>\n      <td>https://cdn.sofifa.org/flags/14.png</td>\n      <td>46</td>\n      <td>64</td>\n      <td>Crewe Alexandra</td>\n      <td>https://cdn.sofifa.org/24/18/teams/121.png</td>\n      <td>...</td>\n      <td>47.0</td>\n      <td>46.0</td>\n      <td>45.0</td>\n      <td>47.0</td>\n      <td>43.0</td>\n      <td>45.0</td>\n      <td>41.0</td>\n      <td>44.0</td>\n      <td>46.0</td>\n      <td>41.0</td>\n    </tr>\n    <tr>\n      <th>17980</th>\n      <td>17980</td>\n      <td>L. Sackey</td>\n      <td>18</td>\n      <td>https://cdn.sofifa.org/48/18/players/238308.png</td>\n      <td>Ghana</td>\n      <td>https://cdn.sofifa.org/flags/117.png</td>\n      <td>46</td>\n      <td>64</td>\n      <td>Scunthorpe United</td>\n      <td>https://cdn.sofifa.org/24/18/teams/1949.png</td>\n      <td>...</td>\n      <td>40.0</td>\n      <td>45.0</td>\n      <td>30.0</td>\n      <td>38.0</td>\n      <td>29.0</td>\n      <td>30.0</td>\n      <td>31.0</td>\n      <td>29.0</td>\n      <td>38.0</td>\n      <td>31.0</td>\n    </tr>\n  </tbody>\n</table>\n<p>17981 rows × 75 columns</p>\n</div>"
     },
     "execution_count": 62,
     "metadata": {},
     "output_type": "execute_result"
    }
   ],
   "source": [
    "import pandas as pd\n",
    "df = pd.read_csv(\"CompleteDataset.csv\", sep=\",\")\n",
    "df # Nos muestra el dataframe creado a partir del archivo csv"
   ]
  },
  {
   "cell_type": "markdown",
   "source": [
    "## Visualización de la estructura"
   ],
   "metadata": {
    "collapsed": false
   },
   "id": "6021009fd7cca0c9"
  },
  {
   "cell_type": "code",
   "execution_count": 63,
   "outputs": [
    {
     "data": {
      "text/plain": "(17981, 75)"
     },
     "execution_count": 63,
     "metadata": {},
     "output_type": "execute_result"
    }
   ],
   "source": [
    "df.shape # Nos muestra la cantidad de registros y columnas del dataframe"
   ],
   "metadata": {
    "collapsed": false,
    "ExecuteTime": {
     "end_time": "2024-09-14T16:00:40.979848500Z",
     "start_time": "2024-09-14T16:00:40.860534700Z"
    }
   },
   "id": "be5a6b6d1a7d8562"
  },
  {
   "cell_type": "code",
   "execution_count": 64,
   "outputs": [
    {
     "data": {
      "text/plain": "Unnamed: 0       int64\nName            object\nAge              int64\nPhoto           object\nNationality     object\n                ...   \nRM             float64\nRS             float64\nRW             float64\nRWB            float64\nST             float64\nLength: 75, dtype: object"
     },
     "execution_count": 64,
     "metadata": {},
     "output_type": "execute_result"
    }
   ],
   "source": [
    "df.dtypes # Nos muestra el tipo de dato de cada columna"
   ],
   "metadata": {
    "collapsed": false,
    "ExecuteTime": {
     "end_time": "2024-09-14T16:00:47.378518900Z",
     "start_time": "2024-09-14T16:00:47.333618100Z"
    }
   },
   "id": "945f7c1a7de1c4f3"
  },
  {
   "cell_type": "code",
   "execution_count": 66,
   "outputs": [
    {
     "data": {
      "text/plain": "Index(['Unnamed: 0', 'Name', 'Age', 'Photo', 'Nationality', 'Flag', 'Overall',\n       'Potential', 'Club', 'Club Logo', 'Value', 'Wage', 'Special',\n       'Acceleration', 'Aggression', 'Agility', 'Balance', 'Ball control',\n       'Composure', 'Crossing', 'Curve', 'Dribbling', 'Finishing',\n       'Free kick accuracy', 'GK diving', 'GK handling', 'GK kicking',\n       'GK positioning', 'GK reflexes', 'Heading accuracy', 'Interceptions',\n       'Jumping', 'Long passing', 'Long shots', 'Marking', 'Penalties',\n       'Positioning', 'Reactions', 'Short passing', 'Shot power',\n       'Sliding tackle', 'Sprint speed', 'Stamina', 'Standing tackle',\n       'Strength', 'Vision', 'Volleys', 'CAM', 'CB', 'CDM', 'CF', 'CM', 'ID',\n       'LAM', 'LB', 'LCB', 'LCM', 'LDM', 'LF', 'LM', 'LS', 'LW', 'LWB',\n       'Preferred Positions', 'RAM', 'RB', 'RCB', 'RCM', 'RDM', 'RF', 'RM',\n       'RS', 'RW', 'RWB', 'ST'],\n      dtype='object')"
     },
     "execution_count": 66,
     "metadata": {},
     "output_type": "execute_result"
    }
   ],
   "source": [
    "df.columns # Nos muestra el nombre de las columnas, esto puede ser útil para detectar la información que contiene el dataframe"
   ],
   "metadata": {
    "collapsed": false,
    "ExecuteTime": {
     "end_time": "2024-09-14T16:02:12.432865700Z",
     "start_time": "2024-09-14T16:02:12.354472100Z"
    }
   },
   "id": "c4789aa3558a144d"
  },
  {
   "cell_type": "code",
   "execution_count": 67,
   "outputs": [
    {
     "data": {
      "text/plain": "array([[0, 'Cristiano Ronaldo', 32, ..., 91.0, 66.0, 92.0],\n       [1, 'L. Messi', 30, ..., 91.0, 62.0, 88.0],\n       [2, 'Neymar', 25, ..., 89.0, 64.0, 84.0],\n       ...,\n       [17978, 'J. Young', 17, ..., 44.0, 32.0, 45.0],\n       [17979, 'J. Lundstram', 18, ..., 44.0, 46.0, 41.0],\n       [17980, 'L. Sackey', 18, ..., 29.0, 38.0, 31.0]], dtype=object)"
     },
     "execution_count": 67,
     "metadata": {},
     "output_type": "execute_result"
    }
   ],
   "source": [
    "df.values # Nos muestra los valores del dataframe"
   ],
   "metadata": {
    "collapsed": false,
    "ExecuteTime": {
     "end_time": "2024-09-14T16:02:19.936615Z",
     "start_time": "2024-09-14T16:02:19.749232200Z"
    }
   },
   "id": "9d177c660204242a"
  },
  {
   "cell_type": "code",
   "execution_count": 68,
   "outputs": [
    {
     "data": {
      "text/plain": "   Unnamed: 0               Name  Age  \\\n0           0  Cristiano Ronaldo   32   \n1           1           L. Messi   30   \n2           2             Neymar   25   \n3           3          L. Suárez   30   \n4           4           M. Neuer   31   \n\n                                             Photo Nationality  \\\n0   https://cdn.sofifa.org/48/18/players/20801.png    Portugal   \n1  https://cdn.sofifa.org/48/18/players/158023.png   Argentina   \n2  https://cdn.sofifa.org/48/18/players/190871.png      Brazil   \n3  https://cdn.sofifa.org/48/18/players/176580.png     Uruguay   \n4  https://cdn.sofifa.org/48/18/players/167495.png     Germany   \n\n                                  Flag  Overall  Potential  \\\n0  https://cdn.sofifa.org/flags/38.png       94         94   \n1  https://cdn.sofifa.org/flags/52.png       93         93   \n2  https://cdn.sofifa.org/flags/54.png       92         94   \n3  https://cdn.sofifa.org/flags/60.png       92         92   \n4  https://cdn.sofifa.org/flags/21.png       92         92   \n\n                  Club                                   Club Logo  ...    RB  \\\n0       Real Madrid CF  https://cdn.sofifa.org/24/18/teams/243.png  ...  61.0   \n1         FC Barcelona  https://cdn.sofifa.org/24/18/teams/241.png  ...  57.0   \n2  Paris Saint-Germain   https://cdn.sofifa.org/24/18/teams/73.png  ...  59.0   \n3         FC Barcelona  https://cdn.sofifa.org/24/18/teams/241.png  ...  64.0   \n4     FC Bayern Munich   https://cdn.sofifa.org/24/18/teams/21.png  ...   NaN   \n\n    RCB   RCM   RDM    RF    RM    RS    RW   RWB    ST  \n0  53.0  82.0  62.0  91.0  89.0  92.0  91.0  66.0  92.0  \n1  45.0  84.0  59.0  92.0  90.0  88.0  91.0  62.0  88.0  \n2  46.0  79.0  59.0  88.0  87.0  84.0  89.0  64.0  84.0  \n3  58.0  80.0  65.0  88.0  85.0  88.0  87.0  68.0  88.0  \n4   NaN   NaN   NaN   NaN   NaN   NaN   NaN   NaN   NaN  \n\n[5 rows x 75 columns]",
      "text/html": "<div>\n<style scoped>\n    .dataframe tbody tr th:only-of-type {\n        vertical-align: middle;\n    }\n\n    .dataframe tbody tr th {\n        vertical-align: top;\n    }\n\n    .dataframe thead th {\n        text-align: right;\n    }\n</style>\n<table border=\"1\" class=\"dataframe\">\n  <thead>\n    <tr style=\"text-align: right;\">\n      <th></th>\n      <th>Unnamed: 0</th>\n      <th>Name</th>\n      <th>Age</th>\n      <th>Photo</th>\n      <th>Nationality</th>\n      <th>Flag</th>\n      <th>Overall</th>\n      <th>Potential</th>\n      <th>Club</th>\n      <th>Club Logo</th>\n      <th>...</th>\n      <th>RB</th>\n      <th>RCB</th>\n      <th>RCM</th>\n      <th>RDM</th>\n      <th>RF</th>\n      <th>RM</th>\n      <th>RS</th>\n      <th>RW</th>\n      <th>RWB</th>\n      <th>ST</th>\n    </tr>\n  </thead>\n  <tbody>\n    <tr>\n      <th>0</th>\n      <td>0</td>\n      <td>Cristiano Ronaldo</td>\n      <td>32</td>\n      <td>https://cdn.sofifa.org/48/18/players/20801.png</td>\n      <td>Portugal</td>\n      <td>https://cdn.sofifa.org/flags/38.png</td>\n      <td>94</td>\n      <td>94</td>\n      <td>Real Madrid CF</td>\n      <td>https://cdn.sofifa.org/24/18/teams/243.png</td>\n      <td>...</td>\n      <td>61.0</td>\n      <td>53.0</td>\n      <td>82.0</td>\n      <td>62.0</td>\n      <td>91.0</td>\n      <td>89.0</td>\n      <td>92.0</td>\n      <td>91.0</td>\n      <td>66.0</td>\n      <td>92.0</td>\n    </tr>\n    <tr>\n      <th>1</th>\n      <td>1</td>\n      <td>L. Messi</td>\n      <td>30</td>\n      <td>https://cdn.sofifa.org/48/18/players/158023.png</td>\n      <td>Argentina</td>\n      <td>https://cdn.sofifa.org/flags/52.png</td>\n      <td>93</td>\n      <td>93</td>\n      <td>FC Barcelona</td>\n      <td>https://cdn.sofifa.org/24/18/teams/241.png</td>\n      <td>...</td>\n      <td>57.0</td>\n      <td>45.0</td>\n      <td>84.0</td>\n      <td>59.0</td>\n      <td>92.0</td>\n      <td>90.0</td>\n      <td>88.0</td>\n      <td>91.0</td>\n      <td>62.0</td>\n      <td>88.0</td>\n    </tr>\n    <tr>\n      <th>2</th>\n      <td>2</td>\n      <td>Neymar</td>\n      <td>25</td>\n      <td>https://cdn.sofifa.org/48/18/players/190871.png</td>\n      <td>Brazil</td>\n      <td>https://cdn.sofifa.org/flags/54.png</td>\n      <td>92</td>\n      <td>94</td>\n      <td>Paris Saint-Germain</td>\n      <td>https://cdn.sofifa.org/24/18/teams/73.png</td>\n      <td>...</td>\n      <td>59.0</td>\n      <td>46.0</td>\n      <td>79.0</td>\n      <td>59.0</td>\n      <td>88.0</td>\n      <td>87.0</td>\n      <td>84.0</td>\n      <td>89.0</td>\n      <td>64.0</td>\n      <td>84.0</td>\n    </tr>\n    <tr>\n      <th>3</th>\n      <td>3</td>\n      <td>L. Suárez</td>\n      <td>30</td>\n      <td>https://cdn.sofifa.org/48/18/players/176580.png</td>\n      <td>Uruguay</td>\n      <td>https://cdn.sofifa.org/flags/60.png</td>\n      <td>92</td>\n      <td>92</td>\n      <td>FC Barcelona</td>\n      <td>https://cdn.sofifa.org/24/18/teams/241.png</td>\n      <td>...</td>\n      <td>64.0</td>\n      <td>58.0</td>\n      <td>80.0</td>\n      <td>65.0</td>\n      <td>88.0</td>\n      <td>85.0</td>\n      <td>88.0</td>\n      <td>87.0</td>\n      <td>68.0</td>\n      <td>88.0</td>\n    </tr>\n    <tr>\n      <th>4</th>\n      <td>4</td>\n      <td>M. Neuer</td>\n      <td>31</td>\n      <td>https://cdn.sofifa.org/48/18/players/167495.png</td>\n      <td>Germany</td>\n      <td>https://cdn.sofifa.org/flags/21.png</td>\n      <td>92</td>\n      <td>92</td>\n      <td>FC Bayern Munich</td>\n      <td>https://cdn.sofifa.org/24/18/teams/21.png</td>\n      <td>...</td>\n      <td>NaN</td>\n      <td>NaN</td>\n      <td>NaN</td>\n      <td>NaN</td>\n      <td>NaN</td>\n      <td>NaN</td>\n      <td>NaN</td>\n      <td>NaN</td>\n      <td>NaN</td>\n      <td>NaN</td>\n    </tr>\n  </tbody>\n</table>\n<p>5 rows × 75 columns</p>\n</div>"
     },
     "execution_count": 68,
     "metadata": {},
     "output_type": "execute_result"
    }
   ],
   "source": [
    "df.head() # Nos muestra los primeros 5 registros del dataframe, es decir, su cabecera"
   ],
   "metadata": {
    "collapsed": false,
    "ExecuteTime": {
     "end_time": "2024-09-14T16:04:22.084775800Z",
     "start_time": "2024-09-14T16:04:21.902606400Z"
    }
   },
   "id": "e7c1e732d8dfcf00"
  },
  {
   "cell_type": "code",
   "execution_count": 69,
   "outputs": [
    {
     "data": {
      "text/plain": "   Unnamed: 0               Name  Age  \\\n0           0  Cristiano Ronaldo   32   \n1           1           L. Messi   30   \n2           2             Neymar   25   \n3           3          L. Suárez   30   \n4           4           M. Neuer   31   \n5           5     R. Lewandowski   28   \n6           6             De Gea   26   \n\n                                             Photo Nationality  \\\n0   https://cdn.sofifa.org/48/18/players/20801.png    Portugal   \n1  https://cdn.sofifa.org/48/18/players/158023.png   Argentina   \n2  https://cdn.sofifa.org/48/18/players/190871.png      Brazil   \n3  https://cdn.sofifa.org/48/18/players/176580.png     Uruguay   \n4  https://cdn.sofifa.org/48/18/players/167495.png     Germany   \n5  https://cdn.sofifa.org/48/18/players/188545.png      Poland   \n6  https://cdn.sofifa.org/48/18/players/193080.png       Spain   \n\n                                  Flag  Overall  Potential  \\\n0  https://cdn.sofifa.org/flags/38.png       94         94   \n1  https://cdn.sofifa.org/flags/52.png       93         93   \n2  https://cdn.sofifa.org/flags/54.png       92         94   \n3  https://cdn.sofifa.org/flags/60.png       92         92   \n4  https://cdn.sofifa.org/flags/21.png       92         92   \n5  https://cdn.sofifa.org/flags/37.png       91         91   \n6  https://cdn.sofifa.org/flags/45.png       90         92   \n\n                  Club                                   Club Logo  ...    RB  \\\n0       Real Madrid CF  https://cdn.sofifa.org/24/18/teams/243.png  ...  61.0   \n1         FC Barcelona  https://cdn.sofifa.org/24/18/teams/241.png  ...  57.0   \n2  Paris Saint-Germain   https://cdn.sofifa.org/24/18/teams/73.png  ...  59.0   \n3         FC Barcelona  https://cdn.sofifa.org/24/18/teams/241.png  ...  64.0   \n4     FC Bayern Munich   https://cdn.sofifa.org/24/18/teams/21.png  ...   NaN   \n5     FC Bayern Munich   https://cdn.sofifa.org/24/18/teams/21.png  ...  58.0   \n6    Manchester United   https://cdn.sofifa.org/24/18/teams/11.png  ...   NaN   \n\n    RCB   RCM   RDM    RF    RM    RS    RW   RWB    ST  \n0  53.0  82.0  62.0  91.0  89.0  92.0  91.0  66.0  92.0  \n1  45.0  84.0  59.0  92.0  90.0  88.0  91.0  62.0  88.0  \n2  46.0  79.0  59.0  88.0  87.0  84.0  89.0  64.0  84.0  \n3  58.0  80.0  65.0  88.0  85.0  88.0  87.0  68.0  88.0  \n4   NaN   NaN   NaN   NaN   NaN   NaN   NaN   NaN   NaN  \n5  57.0  78.0  62.0  87.0  82.0  88.0  84.0  61.0  88.0  \n6   NaN   NaN   NaN   NaN   NaN   NaN   NaN   NaN   NaN  \n\n[7 rows x 75 columns]",
      "text/html": "<div>\n<style scoped>\n    .dataframe tbody tr th:only-of-type {\n        vertical-align: middle;\n    }\n\n    .dataframe tbody tr th {\n        vertical-align: top;\n    }\n\n    .dataframe thead th {\n        text-align: right;\n    }\n</style>\n<table border=\"1\" class=\"dataframe\">\n  <thead>\n    <tr style=\"text-align: right;\">\n      <th></th>\n      <th>Unnamed: 0</th>\n      <th>Name</th>\n      <th>Age</th>\n      <th>Photo</th>\n      <th>Nationality</th>\n      <th>Flag</th>\n      <th>Overall</th>\n      <th>Potential</th>\n      <th>Club</th>\n      <th>Club Logo</th>\n      <th>...</th>\n      <th>RB</th>\n      <th>RCB</th>\n      <th>RCM</th>\n      <th>RDM</th>\n      <th>RF</th>\n      <th>RM</th>\n      <th>RS</th>\n      <th>RW</th>\n      <th>RWB</th>\n      <th>ST</th>\n    </tr>\n  </thead>\n  <tbody>\n    <tr>\n      <th>0</th>\n      <td>0</td>\n      <td>Cristiano Ronaldo</td>\n      <td>32</td>\n      <td>https://cdn.sofifa.org/48/18/players/20801.png</td>\n      <td>Portugal</td>\n      <td>https://cdn.sofifa.org/flags/38.png</td>\n      <td>94</td>\n      <td>94</td>\n      <td>Real Madrid CF</td>\n      <td>https://cdn.sofifa.org/24/18/teams/243.png</td>\n      <td>...</td>\n      <td>61.0</td>\n      <td>53.0</td>\n      <td>82.0</td>\n      <td>62.0</td>\n      <td>91.0</td>\n      <td>89.0</td>\n      <td>92.0</td>\n      <td>91.0</td>\n      <td>66.0</td>\n      <td>92.0</td>\n    </tr>\n    <tr>\n      <th>1</th>\n      <td>1</td>\n      <td>L. Messi</td>\n      <td>30</td>\n      <td>https://cdn.sofifa.org/48/18/players/158023.png</td>\n      <td>Argentina</td>\n      <td>https://cdn.sofifa.org/flags/52.png</td>\n      <td>93</td>\n      <td>93</td>\n      <td>FC Barcelona</td>\n      <td>https://cdn.sofifa.org/24/18/teams/241.png</td>\n      <td>...</td>\n      <td>57.0</td>\n      <td>45.0</td>\n      <td>84.0</td>\n      <td>59.0</td>\n      <td>92.0</td>\n      <td>90.0</td>\n      <td>88.0</td>\n      <td>91.0</td>\n      <td>62.0</td>\n      <td>88.0</td>\n    </tr>\n    <tr>\n      <th>2</th>\n      <td>2</td>\n      <td>Neymar</td>\n      <td>25</td>\n      <td>https://cdn.sofifa.org/48/18/players/190871.png</td>\n      <td>Brazil</td>\n      <td>https://cdn.sofifa.org/flags/54.png</td>\n      <td>92</td>\n      <td>94</td>\n      <td>Paris Saint-Germain</td>\n      <td>https://cdn.sofifa.org/24/18/teams/73.png</td>\n      <td>...</td>\n      <td>59.0</td>\n      <td>46.0</td>\n      <td>79.0</td>\n      <td>59.0</td>\n      <td>88.0</td>\n      <td>87.0</td>\n      <td>84.0</td>\n      <td>89.0</td>\n      <td>64.0</td>\n      <td>84.0</td>\n    </tr>\n    <tr>\n      <th>3</th>\n      <td>3</td>\n      <td>L. Suárez</td>\n      <td>30</td>\n      <td>https://cdn.sofifa.org/48/18/players/176580.png</td>\n      <td>Uruguay</td>\n      <td>https://cdn.sofifa.org/flags/60.png</td>\n      <td>92</td>\n      <td>92</td>\n      <td>FC Barcelona</td>\n      <td>https://cdn.sofifa.org/24/18/teams/241.png</td>\n      <td>...</td>\n      <td>64.0</td>\n      <td>58.0</td>\n      <td>80.0</td>\n      <td>65.0</td>\n      <td>88.0</td>\n      <td>85.0</td>\n      <td>88.0</td>\n      <td>87.0</td>\n      <td>68.0</td>\n      <td>88.0</td>\n    </tr>\n    <tr>\n      <th>4</th>\n      <td>4</td>\n      <td>M. Neuer</td>\n      <td>31</td>\n      <td>https://cdn.sofifa.org/48/18/players/167495.png</td>\n      <td>Germany</td>\n      <td>https://cdn.sofifa.org/flags/21.png</td>\n      <td>92</td>\n      <td>92</td>\n      <td>FC Bayern Munich</td>\n      <td>https://cdn.sofifa.org/24/18/teams/21.png</td>\n      <td>...</td>\n      <td>NaN</td>\n      <td>NaN</td>\n      <td>NaN</td>\n      <td>NaN</td>\n      <td>NaN</td>\n      <td>NaN</td>\n      <td>NaN</td>\n      <td>NaN</td>\n      <td>NaN</td>\n      <td>NaN</td>\n    </tr>\n    <tr>\n      <th>5</th>\n      <td>5</td>\n      <td>R. Lewandowski</td>\n      <td>28</td>\n      <td>https://cdn.sofifa.org/48/18/players/188545.png</td>\n      <td>Poland</td>\n      <td>https://cdn.sofifa.org/flags/37.png</td>\n      <td>91</td>\n      <td>91</td>\n      <td>FC Bayern Munich</td>\n      <td>https://cdn.sofifa.org/24/18/teams/21.png</td>\n      <td>...</td>\n      <td>58.0</td>\n      <td>57.0</td>\n      <td>78.0</td>\n      <td>62.0</td>\n      <td>87.0</td>\n      <td>82.0</td>\n      <td>88.0</td>\n      <td>84.0</td>\n      <td>61.0</td>\n      <td>88.0</td>\n    </tr>\n    <tr>\n      <th>6</th>\n      <td>6</td>\n      <td>De Gea</td>\n      <td>26</td>\n      <td>https://cdn.sofifa.org/48/18/players/193080.png</td>\n      <td>Spain</td>\n      <td>https://cdn.sofifa.org/flags/45.png</td>\n      <td>90</td>\n      <td>92</td>\n      <td>Manchester United</td>\n      <td>https://cdn.sofifa.org/24/18/teams/11.png</td>\n      <td>...</td>\n      <td>NaN</td>\n      <td>NaN</td>\n      <td>NaN</td>\n      <td>NaN</td>\n      <td>NaN</td>\n      <td>NaN</td>\n      <td>NaN</td>\n      <td>NaN</td>\n      <td>NaN</td>\n      <td>NaN</td>\n    </tr>\n  </tbody>\n</table>\n<p>7 rows × 75 columns</p>\n</div>"
     },
     "execution_count": 69,
     "metadata": {},
     "output_type": "execute_result"
    }
   ],
   "source": [
    "df.head(n=7) # Podemos darle un número específico de registros a mostrar"
   ],
   "metadata": {
    "collapsed": false,
    "ExecuteTime": {
     "end_time": "2024-09-14T16:04:32.210863100Z",
     "start_time": "2024-09-14T16:04:32.071986400Z"
    }
   },
   "id": "c927529762ce5a25"
  },
  {
   "cell_type": "code",
   "execution_count": 70,
   "outputs": [
    {
     "data": {
      "text/plain": "       Unnamed: 0               Name  Age  \\\n0               0  Cristiano Ronaldo   32   \n1               1           L. Messi   30   \n2               2             Neymar   25   \n3               3          L. Suárez   30   \n4               4           M. Neuer   31   \n...           ...                ...  ...   \n16976       16976          I. Turner   28   \n16977       16977     A. Wan-Bissaka   19   \n16978       16978         A. Avdijaj   23   \n16979       16979         H. Douglas   24   \n16980       16980       H. Castegren   21   \n\n                                                 Photo          Nationality  \\\n0       https://cdn.sofifa.org/48/18/players/20801.png             Portugal   \n1      https://cdn.sofifa.org/48/18/players/158023.png            Argentina   \n2      https://cdn.sofifa.org/48/18/players/190871.png               Brazil   \n3      https://cdn.sofifa.org/48/18/players/176580.png              Uruguay   \n4      https://cdn.sofifa.org/48/18/players/167495.png              Germany   \n...                                                ...                  ...   \n16976  https://cdn.sofifa.org/48/18/players/206327.png  Republic of Ireland   \n16977  https://cdn.sofifa.org/48/18/players/229880.png             DR Congo   \n16978  https://cdn.sofifa.org/48/18/players/220668.png              Albania   \n16979  https://cdn.sofifa.org/48/18/players/206077.png  Republic of Ireland   \n16980  https://cdn.sofifa.org/48/18/players/227837.png               Sweden   \n\n                                       Flag  Overall  Potential  \\\n0       https://cdn.sofifa.org/flags/38.png       94         94   \n1       https://cdn.sofifa.org/flags/52.png       93         93   \n2       https://cdn.sofifa.org/flags/54.png       92         94   \n3       https://cdn.sofifa.org/flags/60.png       92         92   \n4       https://cdn.sofifa.org/flags/21.png       92         92   \n...                                     ...      ...        ...   \n16976   https://cdn.sofifa.org/flags/25.png       55         55   \n16977  https://cdn.sofifa.org/flags/110.png       55         71   \n16978    https://cdn.sofifa.org/flags/1.png       55         62   \n16979   https://cdn.sofifa.org/flags/25.png       55         59   \n16980   https://cdn.sofifa.org/flags/46.png       55         65   \n\n                          Club                                    Club Logo  \\\n0               Real Madrid CF   https://cdn.sofifa.org/24/18/teams/243.png   \n1                 FC Barcelona   https://cdn.sofifa.org/24/18/teams/241.png   \n2          Paris Saint-Germain    https://cdn.sofifa.org/24/18/teams/73.png   \n3                 FC Barcelona   https://cdn.sofifa.org/24/18/teams/241.png   \n4             FC Bayern Munich    https://cdn.sofifa.org/24/18/teams/21.png   \n...                        ...                                          ...   \n16976   St. Patrick's Athletic   https://cdn.sofifa.org/24/18/teams/423.png   \n16977           Crystal Palace  https://cdn.sofifa.org/24/18/teams/1799.png   \n16978  Grasshopper Club Zürich   https://cdn.sofifa.org/24/18/teams/322.png   \n16979           Bray Wanderers   https://cdn.sofifa.org/24/18/teams/838.png   \n16980           IFK Norrköping   https://cdn.sofifa.org/24/18/teams/702.png   \n\n       ...    RB   RCB   RCM   RDM    RF    RM    RS    RW   RWB    ST  \n0      ...  61.0  53.0  82.0  62.0  91.0  89.0  92.0  91.0  66.0  92.0  \n1      ...  57.0  45.0  84.0  59.0  92.0  90.0  88.0  91.0  62.0  88.0  \n2      ...  59.0  46.0  79.0  59.0  88.0  87.0  84.0  89.0  64.0  84.0  \n3      ...  64.0  58.0  80.0  65.0  88.0  85.0  88.0  87.0  68.0  88.0  \n4      ...   NaN   NaN   NaN   NaN   NaN   NaN   NaN   NaN   NaN   NaN  \n...    ...   ...   ...   ...   ...   ...   ...   ...   ...   ...   ...  \n16976  ...  53.0  51.0  52.0  51.0  53.0  54.0  51.0  55.0  54.0  51.0  \n16977  ...  42.0  36.0  47.0  39.0  53.0  54.0  52.0  56.0  43.0  52.0  \n16978  ...  36.0  40.0  42.0  36.0  49.0  45.0  54.0  47.0  36.0  54.0  \n16979  ...  54.0  58.0  50.0  54.0  50.0  50.0  51.0  50.0  53.0  51.0  \n16980  ...  52.0  54.0  41.0  50.0  36.0  40.0  38.0  37.0  50.0  38.0  \n\n[16981 rows x 75 columns]",
      "text/html": "<div>\n<style scoped>\n    .dataframe tbody tr th:only-of-type {\n        vertical-align: middle;\n    }\n\n    .dataframe tbody tr th {\n        vertical-align: top;\n    }\n\n    .dataframe thead th {\n        text-align: right;\n    }\n</style>\n<table border=\"1\" class=\"dataframe\">\n  <thead>\n    <tr style=\"text-align: right;\">\n      <th></th>\n      <th>Unnamed: 0</th>\n      <th>Name</th>\n      <th>Age</th>\n      <th>Photo</th>\n      <th>Nationality</th>\n      <th>Flag</th>\n      <th>Overall</th>\n      <th>Potential</th>\n      <th>Club</th>\n      <th>Club Logo</th>\n      <th>...</th>\n      <th>RB</th>\n      <th>RCB</th>\n      <th>RCM</th>\n      <th>RDM</th>\n      <th>RF</th>\n      <th>RM</th>\n      <th>RS</th>\n      <th>RW</th>\n      <th>RWB</th>\n      <th>ST</th>\n    </tr>\n  </thead>\n  <tbody>\n    <tr>\n      <th>0</th>\n      <td>0</td>\n      <td>Cristiano Ronaldo</td>\n      <td>32</td>\n      <td>https://cdn.sofifa.org/48/18/players/20801.png</td>\n      <td>Portugal</td>\n      <td>https://cdn.sofifa.org/flags/38.png</td>\n      <td>94</td>\n      <td>94</td>\n      <td>Real Madrid CF</td>\n      <td>https://cdn.sofifa.org/24/18/teams/243.png</td>\n      <td>...</td>\n      <td>61.0</td>\n      <td>53.0</td>\n      <td>82.0</td>\n      <td>62.0</td>\n      <td>91.0</td>\n      <td>89.0</td>\n      <td>92.0</td>\n      <td>91.0</td>\n      <td>66.0</td>\n      <td>92.0</td>\n    </tr>\n    <tr>\n      <th>1</th>\n      <td>1</td>\n      <td>L. Messi</td>\n      <td>30</td>\n      <td>https://cdn.sofifa.org/48/18/players/158023.png</td>\n      <td>Argentina</td>\n      <td>https://cdn.sofifa.org/flags/52.png</td>\n      <td>93</td>\n      <td>93</td>\n      <td>FC Barcelona</td>\n      <td>https://cdn.sofifa.org/24/18/teams/241.png</td>\n      <td>...</td>\n      <td>57.0</td>\n      <td>45.0</td>\n      <td>84.0</td>\n      <td>59.0</td>\n      <td>92.0</td>\n      <td>90.0</td>\n      <td>88.0</td>\n      <td>91.0</td>\n      <td>62.0</td>\n      <td>88.0</td>\n    </tr>\n    <tr>\n      <th>2</th>\n      <td>2</td>\n      <td>Neymar</td>\n      <td>25</td>\n      <td>https://cdn.sofifa.org/48/18/players/190871.png</td>\n      <td>Brazil</td>\n      <td>https://cdn.sofifa.org/flags/54.png</td>\n      <td>92</td>\n      <td>94</td>\n      <td>Paris Saint-Germain</td>\n      <td>https://cdn.sofifa.org/24/18/teams/73.png</td>\n      <td>...</td>\n      <td>59.0</td>\n      <td>46.0</td>\n      <td>79.0</td>\n      <td>59.0</td>\n      <td>88.0</td>\n      <td>87.0</td>\n      <td>84.0</td>\n      <td>89.0</td>\n      <td>64.0</td>\n      <td>84.0</td>\n    </tr>\n    <tr>\n      <th>3</th>\n      <td>3</td>\n      <td>L. Suárez</td>\n      <td>30</td>\n      <td>https://cdn.sofifa.org/48/18/players/176580.png</td>\n      <td>Uruguay</td>\n      <td>https://cdn.sofifa.org/flags/60.png</td>\n      <td>92</td>\n      <td>92</td>\n      <td>FC Barcelona</td>\n      <td>https://cdn.sofifa.org/24/18/teams/241.png</td>\n      <td>...</td>\n      <td>64.0</td>\n      <td>58.0</td>\n      <td>80.0</td>\n      <td>65.0</td>\n      <td>88.0</td>\n      <td>85.0</td>\n      <td>88.0</td>\n      <td>87.0</td>\n      <td>68.0</td>\n      <td>88.0</td>\n    </tr>\n    <tr>\n      <th>4</th>\n      <td>4</td>\n      <td>M. Neuer</td>\n      <td>31</td>\n      <td>https://cdn.sofifa.org/48/18/players/167495.png</td>\n      <td>Germany</td>\n      <td>https://cdn.sofifa.org/flags/21.png</td>\n      <td>92</td>\n      <td>92</td>\n      <td>FC Bayern Munich</td>\n      <td>https://cdn.sofifa.org/24/18/teams/21.png</td>\n      <td>...</td>\n      <td>NaN</td>\n      <td>NaN</td>\n      <td>NaN</td>\n      <td>NaN</td>\n      <td>NaN</td>\n      <td>NaN</td>\n      <td>NaN</td>\n      <td>NaN</td>\n      <td>NaN</td>\n      <td>NaN</td>\n    </tr>\n    <tr>\n      <th>...</th>\n      <td>...</td>\n      <td>...</td>\n      <td>...</td>\n      <td>...</td>\n      <td>...</td>\n      <td>...</td>\n      <td>...</td>\n      <td>...</td>\n      <td>...</td>\n      <td>...</td>\n      <td>...</td>\n      <td>...</td>\n      <td>...</td>\n      <td>...</td>\n      <td>...</td>\n      <td>...</td>\n      <td>...</td>\n      <td>...</td>\n      <td>...</td>\n      <td>...</td>\n      <td>...</td>\n    </tr>\n    <tr>\n      <th>16976</th>\n      <td>16976</td>\n      <td>I. Turner</td>\n      <td>28</td>\n      <td>https://cdn.sofifa.org/48/18/players/206327.png</td>\n      <td>Republic of Ireland</td>\n      <td>https://cdn.sofifa.org/flags/25.png</td>\n      <td>55</td>\n      <td>55</td>\n      <td>St. Patrick's Athletic</td>\n      <td>https://cdn.sofifa.org/24/18/teams/423.png</td>\n      <td>...</td>\n      <td>53.0</td>\n      <td>51.0</td>\n      <td>52.0</td>\n      <td>51.0</td>\n      <td>53.0</td>\n      <td>54.0</td>\n      <td>51.0</td>\n      <td>55.0</td>\n      <td>54.0</td>\n      <td>51.0</td>\n    </tr>\n    <tr>\n      <th>16977</th>\n      <td>16977</td>\n      <td>A. Wan-Bissaka</td>\n      <td>19</td>\n      <td>https://cdn.sofifa.org/48/18/players/229880.png</td>\n      <td>DR Congo</td>\n      <td>https://cdn.sofifa.org/flags/110.png</td>\n      <td>55</td>\n      <td>71</td>\n      <td>Crystal Palace</td>\n      <td>https://cdn.sofifa.org/24/18/teams/1799.png</td>\n      <td>...</td>\n      <td>42.0</td>\n      <td>36.0</td>\n      <td>47.0</td>\n      <td>39.0</td>\n      <td>53.0</td>\n      <td>54.0</td>\n      <td>52.0</td>\n      <td>56.0</td>\n      <td>43.0</td>\n      <td>52.0</td>\n    </tr>\n    <tr>\n      <th>16978</th>\n      <td>16978</td>\n      <td>A. Avdijaj</td>\n      <td>23</td>\n      <td>https://cdn.sofifa.org/48/18/players/220668.png</td>\n      <td>Albania</td>\n      <td>https://cdn.sofifa.org/flags/1.png</td>\n      <td>55</td>\n      <td>62</td>\n      <td>Grasshopper Club Zürich</td>\n      <td>https://cdn.sofifa.org/24/18/teams/322.png</td>\n      <td>...</td>\n      <td>36.0</td>\n      <td>40.0</td>\n      <td>42.0</td>\n      <td>36.0</td>\n      <td>49.0</td>\n      <td>45.0</td>\n      <td>54.0</td>\n      <td>47.0</td>\n      <td>36.0</td>\n      <td>54.0</td>\n    </tr>\n    <tr>\n      <th>16979</th>\n      <td>16979</td>\n      <td>H. Douglas</td>\n      <td>24</td>\n      <td>https://cdn.sofifa.org/48/18/players/206077.png</td>\n      <td>Republic of Ireland</td>\n      <td>https://cdn.sofifa.org/flags/25.png</td>\n      <td>55</td>\n      <td>59</td>\n      <td>Bray Wanderers</td>\n      <td>https://cdn.sofifa.org/24/18/teams/838.png</td>\n      <td>...</td>\n      <td>54.0</td>\n      <td>58.0</td>\n      <td>50.0</td>\n      <td>54.0</td>\n      <td>50.0</td>\n      <td>50.0</td>\n      <td>51.0</td>\n      <td>50.0</td>\n      <td>53.0</td>\n      <td>51.0</td>\n    </tr>\n    <tr>\n      <th>16980</th>\n      <td>16980</td>\n      <td>H. Castegren</td>\n      <td>21</td>\n      <td>https://cdn.sofifa.org/48/18/players/227837.png</td>\n      <td>Sweden</td>\n      <td>https://cdn.sofifa.org/flags/46.png</td>\n      <td>55</td>\n      <td>65</td>\n      <td>IFK Norrköping</td>\n      <td>https://cdn.sofifa.org/24/18/teams/702.png</td>\n      <td>...</td>\n      <td>52.0</td>\n      <td>54.0</td>\n      <td>41.0</td>\n      <td>50.0</td>\n      <td>36.0</td>\n      <td>40.0</td>\n      <td>38.0</td>\n      <td>37.0</td>\n      <td>50.0</td>\n      <td>38.0</td>\n    </tr>\n  </tbody>\n</table>\n<p>16981 rows × 75 columns</p>\n</div>"
     },
     "execution_count": 70,
     "metadata": {},
     "output_type": "execute_result"
    }
   ],
   "source": [
    "df.head(n=-1000) # Si le damos un número negativo, nos mostrará todos los registros menos los que se le indiquen, en este caso, mostrará todos los registros menos los 1000 últimos"
   ],
   "metadata": {
    "collapsed": false,
    "ExecuteTime": {
     "end_time": "2024-09-14T16:04:49.808355600Z",
     "start_time": "2024-09-14T16:04:49.628250300Z"
    }
   },
   "id": "f086d50595af603c"
  },
  {
   "cell_type": "code",
   "execution_count": 71,
   "outputs": [
    {
     "data": {
      "text/plain": "       Unnamed: 0       Name  Age  \\\n17980       17980  L. Sackey   18   \n\n                                                 Photo Nationality  \\\n17980  https://cdn.sofifa.org/48/18/players/238308.png       Ghana   \n\n                                       Flag  Overall  Potential  \\\n17980  https://cdn.sofifa.org/flags/117.png       46         64   \n\n                    Club                                    Club Logo  ...  \\\n17980  Scunthorpe United  https://cdn.sofifa.org/24/18/teams/1949.png  ...   \n\n         RB   RCB   RCM   RDM    RF    RM    RS    RW   RWB    ST  \n17980  40.0  45.0  30.0  38.0  29.0  30.0  31.0  29.0  38.0  31.0  \n\n[1 rows x 75 columns]",
      "text/html": "<div>\n<style scoped>\n    .dataframe tbody tr th:only-of-type {\n        vertical-align: middle;\n    }\n\n    .dataframe tbody tr th {\n        vertical-align: top;\n    }\n\n    .dataframe thead th {\n        text-align: right;\n    }\n</style>\n<table border=\"1\" class=\"dataframe\">\n  <thead>\n    <tr style=\"text-align: right;\">\n      <th></th>\n      <th>Unnamed: 0</th>\n      <th>Name</th>\n      <th>Age</th>\n      <th>Photo</th>\n      <th>Nationality</th>\n      <th>Flag</th>\n      <th>Overall</th>\n      <th>Potential</th>\n      <th>Club</th>\n      <th>Club Logo</th>\n      <th>...</th>\n      <th>RB</th>\n      <th>RCB</th>\n      <th>RCM</th>\n      <th>RDM</th>\n      <th>RF</th>\n      <th>RM</th>\n      <th>RS</th>\n      <th>RW</th>\n      <th>RWB</th>\n      <th>ST</th>\n    </tr>\n  </thead>\n  <tbody>\n    <tr>\n      <th>17980</th>\n      <td>17980</td>\n      <td>L. Sackey</td>\n      <td>18</td>\n      <td>https://cdn.sofifa.org/48/18/players/238308.png</td>\n      <td>Ghana</td>\n      <td>https://cdn.sofifa.org/flags/117.png</td>\n      <td>46</td>\n      <td>64</td>\n      <td>Scunthorpe United</td>\n      <td>https://cdn.sofifa.org/24/18/teams/1949.png</td>\n      <td>...</td>\n      <td>40.0</td>\n      <td>45.0</td>\n      <td>30.0</td>\n      <td>38.0</td>\n      <td>29.0</td>\n      <td>30.0</td>\n      <td>31.0</td>\n      <td>29.0</td>\n      <td>38.0</td>\n      <td>31.0</td>\n    </tr>\n  </tbody>\n</table>\n<p>1 rows × 75 columns</p>\n</div>"
     },
     "execution_count": 71,
     "metadata": {},
     "output_type": "execute_result"
    }
   ],
   "source": [
    "df.tail(n=1) # Nos muestra el último registro del dataframe"
   ],
   "metadata": {
    "collapsed": false,
    "ExecuteTime": {
     "end_time": "2024-09-14T16:04:56.989517600Z",
     "start_time": "2024-09-14T16:04:56.847065500Z"
    }
   },
   "id": "6bba271e8c77abb3"
  },
  {
   "cell_type": "code",
   "execution_count": 72,
   "outputs": [
    {
     "data": {
      "text/plain": "    Unnamed: 0          Name  Age  \\\n15          15       G. Bale   27   \n16          16     S. Agüero   29   \n17          17  G. Chiellini   32   \n18          18     G. Buffon   39   \n19          19     P. Dybala   23   \n\n                                              Photo Nationality  \\\n15  https://cdn.sofifa.org/48/18/players/173731.png       Wales   \n16  https://cdn.sofifa.org/48/18/players/153079.png   Argentina   \n17  https://cdn.sofifa.org/48/18/players/138956.png       Italy   \n18    https://cdn.sofifa.org/48/18/players/1179.png       Italy   \n19  https://cdn.sofifa.org/48/18/players/211110.png   Argentina   \n\n                                   Flag  Overall  Potential             Club  \\\n15  https://cdn.sofifa.org/flags/50.png       89         89   Real Madrid CF   \n16  https://cdn.sofifa.org/flags/52.png       89         89  Manchester City   \n17  https://cdn.sofifa.org/flags/27.png       89         89         Juventus   \n18  https://cdn.sofifa.org/flags/27.png       89         89         Juventus   \n19  https://cdn.sofifa.org/flags/52.png       88         93         Juventus   \n\n                                     Club Logo  ...    RB   RCB   RCM   RDM  \\\n15  https://cdn.sofifa.org/24/18/teams/243.png  ...  72.0  67.0  81.0  71.0   \n16   https://cdn.sofifa.org/24/18/teams/10.png  ...  52.0  44.0  75.0  54.0   \n17   https://cdn.sofifa.org/24/18/teams/45.png  ...  78.0  86.0  60.0  76.0   \n18   https://cdn.sofifa.org/24/18/teams/45.png  ...   NaN   NaN   NaN   NaN   \n19   https://cdn.sofifa.org/24/18/teams/45.png  ...  55.0  43.0  78.0  55.0   \n\n      RF    RM    RS    RW   RWB    ST  \n15  87.0  87.0  87.0  87.0  74.0  87.0  \n16  87.0  84.0  86.0  86.0  57.0  86.0  \n17  55.0  58.0  59.0  56.0  75.0  59.0  \n18   NaN   NaN   NaN   NaN   NaN   NaN  \n19  86.0  86.0  83.0  87.0  60.0  83.0  \n\n[5 rows x 75 columns]",
      "text/html": "<div>\n<style scoped>\n    .dataframe tbody tr th:only-of-type {\n        vertical-align: middle;\n    }\n\n    .dataframe tbody tr th {\n        vertical-align: top;\n    }\n\n    .dataframe thead th {\n        text-align: right;\n    }\n</style>\n<table border=\"1\" class=\"dataframe\">\n  <thead>\n    <tr style=\"text-align: right;\">\n      <th></th>\n      <th>Unnamed: 0</th>\n      <th>Name</th>\n      <th>Age</th>\n      <th>Photo</th>\n      <th>Nationality</th>\n      <th>Flag</th>\n      <th>Overall</th>\n      <th>Potential</th>\n      <th>Club</th>\n      <th>Club Logo</th>\n      <th>...</th>\n      <th>RB</th>\n      <th>RCB</th>\n      <th>RCM</th>\n      <th>RDM</th>\n      <th>RF</th>\n      <th>RM</th>\n      <th>RS</th>\n      <th>RW</th>\n      <th>RWB</th>\n      <th>ST</th>\n    </tr>\n  </thead>\n  <tbody>\n    <tr>\n      <th>15</th>\n      <td>15</td>\n      <td>G. Bale</td>\n      <td>27</td>\n      <td>https://cdn.sofifa.org/48/18/players/173731.png</td>\n      <td>Wales</td>\n      <td>https://cdn.sofifa.org/flags/50.png</td>\n      <td>89</td>\n      <td>89</td>\n      <td>Real Madrid CF</td>\n      <td>https://cdn.sofifa.org/24/18/teams/243.png</td>\n      <td>...</td>\n      <td>72.0</td>\n      <td>67.0</td>\n      <td>81.0</td>\n      <td>71.0</td>\n      <td>87.0</td>\n      <td>87.0</td>\n      <td>87.0</td>\n      <td>87.0</td>\n      <td>74.0</td>\n      <td>87.0</td>\n    </tr>\n    <tr>\n      <th>16</th>\n      <td>16</td>\n      <td>S. Agüero</td>\n      <td>29</td>\n      <td>https://cdn.sofifa.org/48/18/players/153079.png</td>\n      <td>Argentina</td>\n      <td>https://cdn.sofifa.org/flags/52.png</td>\n      <td>89</td>\n      <td>89</td>\n      <td>Manchester City</td>\n      <td>https://cdn.sofifa.org/24/18/teams/10.png</td>\n      <td>...</td>\n      <td>52.0</td>\n      <td>44.0</td>\n      <td>75.0</td>\n      <td>54.0</td>\n      <td>87.0</td>\n      <td>84.0</td>\n      <td>86.0</td>\n      <td>86.0</td>\n      <td>57.0</td>\n      <td>86.0</td>\n    </tr>\n    <tr>\n      <th>17</th>\n      <td>17</td>\n      <td>G. Chiellini</td>\n      <td>32</td>\n      <td>https://cdn.sofifa.org/48/18/players/138956.png</td>\n      <td>Italy</td>\n      <td>https://cdn.sofifa.org/flags/27.png</td>\n      <td>89</td>\n      <td>89</td>\n      <td>Juventus</td>\n      <td>https://cdn.sofifa.org/24/18/teams/45.png</td>\n      <td>...</td>\n      <td>78.0</td>\n      <td>86.0</td>\n      <td>60.0</td>\n      <td>76.0</td>\n      <td>55.0</td>\n      <td>58.0</td>\n      <td>59.0</td>\n      <td>56.0</td>\n      <td>75.0</td>\n      <td>59.0</td>\n    </tr>\n    <tr>\n      <th>18</th>\n      <td>18</td>\n      <td>G. Buffon</td>\n      <td>39</td>\n      <td>https://cdn.sofifa.org/48/18/players/1179.png</td>\n      <td>Italy</td>\n      <td>https://cdn.sofifa.org/flags/27.png</td>\n      <td>89</td>\n      <td>89</td>\n      <td>Juventus</td>\n      <td>https://cdn.sofifa.org/24/18/teams/45.png</td>\n      <td>...</td>\n      <td>NaN</td>\n      <td>NaN</td>\n      <td>NaN</td>\n      <td>NaN</td>\n      <td>NaN</td>\n      <td>NaN</td>\n      <td>NaN</td>\n      <td>NaN</td>\n      <td>NaN</td>\n      <td>NaN</td>\n    </tr>\n    <tr>\n      <th>19</th>\n      <td>19</td>\n      <td>P. Dybala</td>\n      <td>23</td>\n      <td>https://cdn.sofifa.org/48/18/players/211110.png</td>\n      <td>Argentina</td>\n      <td>https://cdn.sofifa.org/flags/52.png</td>\n      <td>88</td>\n      <td>93</td>\n      <td>Juventus</td>\n      <td>https://cdn.sofifa.org/24/18/teams/45.png</td>\n      <td>...</td>\n      <td>55.0</td>\n      <td>43.0</td>\n      <td>78.0</td>\n      <td>55.0</td>\n      <td>86.0</td>\n      <td>86.0</td>\n      <td>83.0</td>\n      <td>87.0</td>\n      <td>60.0</td>\n      <td>83.0</td>\n    </tr>\n  </tbody>\n</table>\n<p>5 rows × 75 columns</p>\n</div>"
     },
     "execution_count": 72,
     "metadata": {},
     "output_type": "execute_result"
    }
   ],
   "source": [
    "df.head(n=20).tail(n=5) # Podemos encadenar métodos para visualizar una cantidad específica de registros, en este caso, los últimos 5 de los primeros 20"
   ],
   "metadata": {
    "collapsed": false,
    "ExecuteTime": {
     "end_time": "2024-09-14T16:05:12.219200700Z",
     "start_time": "2024-09-14T16:05:12.004869800Z"
    }
   },
   "id": "2817e4b65a023c64"
  },
  {
   "cell_type": "markdown",
   "source": [
    "## Manejo de columnas"
   ],
   "metadata": {
    "collapsed": false
   },
   "id": "17a9ff23f591406b"
  },
  {
   "cell_type": "code",
   "execution_count": 73,
   "outputs": [
    {
     "data": {
      "text/plain": "0    Cristiano Ronaldo\n1             L. Messi\n2               Neymar\n3            L. Suárez\n4             M. Neuer\n5       R. Lewandowski\n6               De Gea\n7            E. Hazard\n8             T. Kroos\n9           G. Higuaín\nName: Name, dtype: object"
     },
     "execution_count": 73,
     "metadata": {},
     "output_type": "execute_result"
    }
   ],
   "source": [
    "df.Name.head(n=10) # Podemos acceder a una columna específica del dataframe"
   ],
   "metadata": {
    "collapsed": false,
    "ExecuteTime": {
     "end_time": "2024-09-14T16:05:34.812088900Z",
     "start_time": "2024-09-14T16:05:34.758746700Z"
    }
   },
   "id": "f7bf16fba3282141"
  },
  {
   "cell_type": "code",
   "execution_count": 74,
   "outputs": [
    {
     "data": {
      "text/plain": "0    Cristiano Ronaldo\n1             L. Messi\n2               Neymar\n3            L. Suárez\n4             M. Neuer\nName: Name, dtype: object"
     },
     "execution_count": 74,
     "metadata": {},
     "output_type": "execute_result"
    }
   ],
   "source": [
    "df[\"Name\"].head() # Otra forma de acceder a una columna específica"
   ],
   "metadata": {
    "collapsed": false,
    "ExecuteTime": {
     "end_time": "2024-09-14T16:05:40.050911200Z",
     "start_time": "2024-09-14T16:05:40.001988200Z"
    }
   },
   "id": "739566d363629fed"
  },
  {
   "cell_type": "code",
   "execution_count": 75,
   "outputs": [
    {
     "data": {
      "text/plain": "                Name  Overall                 Club\n0  Cristiano Ronaldo       94       Real Madrid CF\n1           L. Messi       93         FC Barcelona\n2             Neymar       92  Paris Saint-Germain\n3          L. Suárez       92         FC Barcelona\n4           M. Neuer       92     FC Bayern Munich\n5     R. Lewandowski       91     FC Bayern Munich\n6             De Gea       90    Manchester United\n7          E. Hazard       90              Chelsea\n8           T. Kroos       90       Real Madrid CF\n9         G. Higuaín       90             Juventus",
      "text/html": "<div>\n<style scoped>\n    .dataframe tbody tr th:only-of-type {\n        vertical-align: middle;\n    }\n\n    .dataframe tbody tr th {\n        vertical-align: top;\n    }\n\n    .dataframe thead th {\n        text-align: right;\n    }\n</style>\n<table border=\"1\" class=\"dataframe\">\n  <thead>\n    <tr style=\"text-align: right;\">\n      <th></th>\n      <th>Name</th>\n      <th>Overall</th>\n      <th>Club</th>\n    </tr>\n  </thead>\n  <tbody>\n    <tr>\n      <th>0</th>\n      <td>Cristiano Ronaldo</td>\n      <td>94</td>\n      <td>Real Madrid CF</td>\n    </tr>\n    <tr>\n      <th>1</th>\n      <td>L. Messi</td>\n      <td>93</td>\n      <td>FC Barcelona</td>\n    </tr>\n    <tr>\n      <th>2</th>\n      <td>Neymar</td>\n      <td>92</td>\n      <td>Paris Saint-Germain</td>\n    </tr>\n    <tr>\n      <th>3</th>\n      <td>L. Suárez</td>\n      <td>92</td>\n      <td>FC Barcelona</td>\n    </tr>\n    <tr>\n      <th>4</th>\n      <td>M. Neuer</td>\n      <td>92</td>\n      <td>FC Bayern Munich</td>\n    </tr>\n    <tr>\n      <th>5</th>\n      <td>R. Lewandowski</td>\n      <td>91</td>\n      <td>FC Bayern Munich</td>\n    </tr>\n    <tr>\n      <th>6</th>\n      <td>De Gea</td>\n      <td>90</td>\n      <td>Manchester United</td>\n    </tr>\n    <tr>\n      <th>7</th>\n      <td>E. Hazard</td>\n      <td>90</td>\n      <td>Chelsea</td>\n    </tr>\n    <tr>\n      <th>8</th>\n      <td>T. Kroos</td>\n      <td>90</td>\n      <td>Real Madrid CF</td>\n    </tr>\n    <tr>\n      <th>9</th>\n      <td>G. Higuaín</td>\n      <td>90</td>\n      <td>Juventus</td>\n    </tr>\n  </tbody>\n</table>\n</div>"
     },
     "execution_count": 75,
     "metadata": {},
     "output_type": "execute_result"
    }
   ],
   "source": [
    "df[['Name', 'Overall', 'Club']].head(n=10) # Podemos acceder a varias columnas del dataframe a la vez, en este caso, observamos el nombre del jugador, el club en el que juega y su valoración en el juego"
   ],
   "metadata": {
    "collapsed": false,
    "ExecuteTime": {
     "end_time": "2024-09-14T16:06:18.058257300Z",
     "start_time": "2024-09-14T16:06:17.916045300Z"
    }
   },
   "id": "7583957ceb837eac"
  },
  {
   "cell_type": "code",
   "execution_count": 76,
   "outputs": [
    {
     "data": {
      "text/plain": "       Unnamed: 0            Jugador  Age  \\\n0               0  Cristiano Ronaldo   32   \n1               1           L. Messi   30   \n2               2             Neymar   25   \n3               3          L. Suárez   30   \n4               4           M. Neuer   31   \n...           ...                ...  ...   \n17976       17976          A. Kelsey   17   \n17977       17977      B. Richardson   47   \n17978       17978           J. Young   17   \n17979       17979       J. Lundstram   18   \n17980       17980          L. Sackey   18   \n\n                                                 Photo Nationality  \\\n0       https://cdn.sofifa.org/48/18/players/20801.png    Portugal   \n1      https://cdn.sofifa.org/48/18/players/158023.png   Argentina   \n2      https://cdn.sofifa.org/48/18/players/190871.png      Brazil   \n3      https://cdn.sofifa.org/48/18/players/176580.png     Uruguay   \n4      https://cdn.sofifa.org/48/18/players/167495.png     Germany   \n...                                                ...         ...   \n17976  https://cdn.sofifa.org/48/18/players/237463.png     England   \n17977   https://cdn.sofifa.org/48/18/players/11728.png     England   \n17978  https://cdn.sofifa.org/48/18/players/231381.png    Scotland   \n17979  https://cdn.sofifa.org/48/18/players/238813.png     England   \n17980  https://cdn.sofifa.org/48/18/players/238308.png       Ghana   \n\n                                       Flag  Overall  Potential  \\\n0       https://cdn.sofifa.org/flags/38.png       94         94   \n1       https://cdn.sofifa.org/flags/52.png       93         93   \n2       https://cdn.sofifa.org/flags/54.png       92         94   \n3       https://cdn.sofifa.org/flags/60.png       92         92   \n4       https://cdn.sofifa.org/flags/21.png       92         92   \n...                                     ...      ...        ...   \n17976   https://cdn.sofifa.org/flags/14.png       46         63   \n17977   https://cdn.sofifa.org/flags/14.png       46         46   \n17978   https://cdn.sofifa.org/flags/42.png       46         61   \n17979   https://cdn.sofifa.org/flags/14.png       46         64   \n17980  https://cdn.sofifa.org/flags/117.png       46         64   \n\n                      Club                                    Club Logo  ...  \\\n0           Real Madrid CF   https://cdn.sofifa.org/24/18/teams/243.png  ...   \n1             FC Barcelona   https://cdn.sofifa.org/24/18/teams/241.png  ...   \n2      Paris Saint-Germain    https://cdn.sofifa.org/24/18/teams/73.png  ...   \n3             FC Barcelona   https://cdn.sofifa.org/24/18/teams/241.png  ...   \n4         FC Bayern Munich    https://cdn.sofifa.org/24/18/teams/21.png  ...   \n...                    ...                                          ...  ...   \n17976    Scunthorpe United  https://cdn.sofifa.org/24/18/teams/1949.png  ...   \n17977    Wycombe Wanderers  https://cdn.sofifa.org/24/18/teams/1933.png  ...   \n17978         Swindon Town  https://cdn.sofifa.org/24/18/teams/1934.png  ...   \n17979      Crewe Alexandra   https://cdn.sofifa.org/24/18/teams/121.png  ...   \n17980    Scunthorpe United  https://cdn.sofifa.org/24/18/teams/1949.png  ...   \n\n         RB   RCB   RCM   RDM    RF    RM    RS    RW   RWB    ST  \n0      61.0  53.0  82.0  62.0  91.0  89.0  92.0  91.0  66.0  92.0  \n1      57.0  45.0  84.0  59.0  92.0  90.0  88.0  91.0  62.0  88.0  \n2      59.0  46.0  79.0  59.0  88.0  87.0  84.0  89.0  64.0  84.0  \n3      64.0  58.0  80.0  65.0  88.0  85.0  88.0  87.0  68.0  88.0  \n4       NaN   NaN   NaN   NaN   NaN   NaN   NaN   NaN   NaN   NaN  \n...     ...   ...   ...   ...   ...   ...   ...   ...   ...   ...  \n17976   NaN   NaN   NaN   NaN   NaN   NaN   NaN   NaN   NaN   NaN  \n17977   NaN   NaN   NaN   NaN   NaN   NaN   NaN   NaN   NaN   NaN  \n17978  31.0  28.0  38.0  29.0  45.0  42.0  45.0  44.0  32.0  45.0  \n17979  47.0  46.0  45.0  47.0  43.0  45.0  41.0  44.0  46.0  41.0  \n17980  40.0  45.0  30.0  38.0  29.0  30.0  31.0  29.0  38.0  31.0  \n\n[17981 rows x 75 columns]",
      "text/html": "<div>\n<style scoped>\n    .dataframe tbody tr th:only-of-type {\n        vertical-align: middle;\n    }\n\n    .dataframe tbody tr th {\n        vertical-align: top;\n    }\n\n    .dataframe thead th {\n        text-align: right;\n    }\n</style>\n<table border=\"1\" class=\"dataframe\">\n  <thead>\n    <tr style=\"text-align: right;\">\n      <th></th>\n      <th>Unnamed: 0</th>\n      <th>Jugador</th>\n      <th>Age</th>\n      <th>Photo</th>\n      <th>Nationality</th>\n      <th>Flag</th>\n      <th>Overall</th>\n      <th>Potential</th>\n      <th>Club</th>\n      <th>Club Logo</th>\n      <th>...</th>\n      <th>RB</th>\n      <th>RCB</th>\n      <th>RCM</th>\n      <th>RDM</th>\n      <th>RF</th>\n      <th>RM</th>\n      <th>RS</th>\n      <th>RW</th>\n      <th>RWB</th>\n      <th>ST</th>\n    </tr>\n  </thead>\n  <tbody>\n    <tr>\n      <th>0</th>\n      <td>0</td>\n      <td>Cristiano Ronaldo</td>\n      <td>32</td>\n      <td>https://cdn.sofifa.org/48/18/players/20801.png</td>\n      <td>Portugal</td>\n      <td>https://cdn.sofifa.org/flags/38.png</td>\n      <td>94</td>\n      <td>94</td>\n      <td>Real Madrid CF</td>\n      <td>https://cdn.sofifa.org/24/18/teams/243.png</td>\n      <td>...</td>\n      <td>61.0</td>\n      <td>53.0</td>\n      <td>82.0</td>\n      <td>62.0</td>\n      <td>91.0</td>\n      <td>89.0</td>\n      <td>92.0</td>\n      <td>91.0</td>\n      <td>66.0</td>\n      <td>92.0</td>\n    </tr>\n    <tr>\n      <th>1</th>\n      <td>1</td>\n      <td>L. Messi</td>\n      <td>30</td>\n      <td>https://cdn.sofifa.org/48/18/players/158023.png</td>\n      <td>Argentina</td>\n      <td>https://cdn.sofifa.org/flags/52.png</td>\n      <td>93</td>\n      <td>93</td>\n      <td>FC Barcelona</td>\n      <td>https://cdn.sofifa.org/24/18/teams/241.png</td>\n      <td>...</td>\n      <td>57.0</td>\n      <td>45.0</td>\n      <td>84.0</td>\n      <td>59.0</td>\n      <td>92.0</td>\n      <td>90.0</td>\n      <td>88.0</td>\n      <td>91.0</td>\n      <td>62.0</td>\n      <td>88.0</td>\n    </tr>\n    <tr>\n      <th>2</th>\n      <td>2</td>\n      <td>Neymar</td>\n      <td>25</td>\n      <td>https://cdn.sofifa.org/48/18/players/190871.png</td>\n      <td>Brazil</td>\n      <td>https://cdn.sofifa.org/flags/54.png</td>\n      <td>92</td>\n      <td>94</td>\n      <td>Paris Saint-Germain</td>\n      <td>https://cdn.sofifa.org/24/18/teams/73.png</td>\n      <td>...</td>\n      <td>59.0</td>\n      <td>46.0</td>\n      <td>79.0</td>\n      <td>59.0</td>\n      <td>88.0</td>\n      <td>87.0</td>\n      <td>84.0</td>\n      <td>89.0</td>\n      <td>64.0</td>\n      <td>84.0</td>\n    </tr>\n    <tr>\n      <th>3</th>\n      <td>3</td>\n      <td>L. Suárez</td>\n      <td>30</td>\n      <td>https://cdn.sofifa.org/48/18/players/176580.png</td>\n      <td>Uruguay</td>\n      <td>https://cdn.sofifa.org/flags/60.png</td>\n      <td>92</td>\n      <td>92</td>\n      <td>FC Barcelona</td>\n      <td>https://cdn.sofifa.org/24/18/teams/241.png</td>\n      <td>...</td>\n      <td>64.0</td>\n      <td>58.0</td>\n      <td>80.0</td>\n      <td>65.0</td>\n      <td>88.0</td>\n      <td>85.0</td>\n      <td>88.0</td>\n      <td>87.0</td>\n      <td>68.0</td>\n      <td>88.0</td>\n    </tr>\n    <tr>\n      <th>4</th>\n      <td>4</td>\n      <td>M. Neuer</td>\n      <td>31</td>\n      <td>https://cdn.sofifa.org/48/18/players/167495.png</td>\n      <td>Germany</td>\n      <td>https://cdn.sofifa.org/flags/21.png</td>\n      <td>92</td>\n      <td>92</td>\n      <td>FC Bayern Munich</td>\n      <td>https://cdn.sofifa.org/24/18/teams/21.png</td>\n      <td>...</td>\n      <td>NaN</td>\n      <td>NaN</td>\n      <td>NaN</td>\n      <td>NaN</td>\n      <td>NaN</td>\n      <td>NaN</td>\n      <td>NaN</td>\n      <td>NaN</td>\n      <td>NaN</td>\n      <td>NaN</td>\n    </tr>\n    <tr>\n      <th>...</th>\n      <td>...</td>\n      <td>...</td>\n      <td>...</td>\n      <td>...</td>\n      <td>...</td>\n      <td>...</td>\n      <td>...</td>\n      <td>...</td>\n      <td>...</td>\n      <td>...</td>\n      <td>...</td>\n      <td>...</td>\n      <td>...</td>\n      <td>...</td>\n      <td>...</td>\n      <td>...</td>\n      <td>...</td>\n      <td>...</td>\n      <td>...</td>\n      <td>...</td>\n      <td>...</td>\n    </tr>\n    <tr>\n      <th>17976</th>\n      <td>17976</td>\n      <td>A. Kelsey</td>\n      <td>17</td>\n      <td>https://cdn.sofifa.org/48/18/players/237463.png</td>\n      <td>England</td>\n      <td>https://cdn.sofifa.org/flags/14.png</td>\n      <td>46</td>\n      <td>63</td>\n      <td>Scunthorpe United</td>\n      <td>https://cdn.sofifa.org/24/18/teams/1949.png</td>\n      <td>...</td>\n      <td>NaN</td>\n      <td>NaN</td>\n      <td>NaN</td>\n      <td>NaN</td>\n      <td>NaN</td>\n      <td>NaN</td>\n      <td>NaN</td>\n      <td>NaN</td>\n      <td>NaN</td>\n      <td>NaN</td>\n    </tr>\n    <tr>\n      <th>17977</th>\n      <td>17977</td>\n      <td>B. Richardson</td>\n      <td>47</td>\n      <td>https://cdn.sofifa.org/48/18/players/11728.png</td>\n      <td>England</td>\n      <td>https://cdn.sofifa.org/flags/14.png</td>\n      <td>46</td>\n      <td>46</td>\n      <td>Wycombe Wanderers</td>\n      <td>https://cdn.sofifa.org/24/18/teams/1933.png</td>\n      <td>...</td>\n      <td>NaN</td>\n      <td>NaN</td>\n      <td>NaN</td>\n      <td>NaN</td>\n      <td>NaN</td>\n      <td>NaN</td>\n      <td>NaN</td>\n      <td>NaN</td>\n      <td>NaN</td>\n      <td>NaN</td>\n    </tr>\n    <tr>\n      <th>17978</th>\n      <td>17978</td>\n      <td>J. Young</td>\n      <td>17</td>\n      <td>https://cdn.sofifa.org/48/18/players/231381.png</td>\n      <td>Scotland</td>\n      <td>https://cdn.sofifa.org/flags/42.png</td>\n      <td>46</td>\n      <td>61</td>\n      <td>Swindon Town</td>\n      <td>https://cdn.sofifa.org/24/18/teams/1934.png</td>\n      <td>...</td>\n      <td>31.0</td>\n      <td>28.0</td>\n      <td>38.0</td>\n      <td>29.0</td>\n      <td>45.0</td>\n      <td>42.0</td>\n      <td>45.0</td>\n      <td>44.0</td>\n      <td>32.0</td>\n      <td>45.0</td>\n    </tr>\n    <tr>\n      <th>17979</th>\n      <td>17979</td>\n      <td>J. Lundstram</td>\n      <td>18</td>\n      <td>https://cdn.sofifa.org/48/18/players/238813.png</td>\n      <td>England</td>\n      <td>https://cdn.sofifa.org/flags/14.png</td>\n      <td>46</td>\n      <td>64</td>\n      <td>Crewe Alexandra</td>\n      <td>https://cdn.sofifa.org/24/18/teams/121.png</td>\n      <td>...</td>\n      <td>47.0</td>\n      <td>46.0</td>\n      <td>45.0</td>\n      <td>47.0</td>\n      <td>43.0</td>\n      <td>45.0</td>\n      <td>41.0</td>\n      <td>44.0</td>\n      <td>46.0</td>\n      <td>41.0</td>\n    </tr>\n    <tr>\n      <th>17980</th>\n      <td>17980</td>\n      <td>L. Sackey</td>\n      <td>18</td>\n      <td>https://cdn.sofifa.org/48/18/players/238308.png</td>\n      <td>Ghana</td>\n      <td>https://cdn.sofifa.org/flags/117.png</td>\n      <td>46</td>\n      <td>64</td>\n      <td>Scunthorpe United</td>\n      <td>https://cdn.sofifa.org/24/18/teams/1949.png</td>\n      <td>...</td>\n      <td>40.0</td>\n      <td>45.0</td>\n      <td>30.0</td>\n      <td>38.0</td>\n      <td>29.0</td>\n      <td>30.0</td>\n      <td>31.0</td>\n      <td>29.0</td>\n      <td>38.0</td>\n      <td>31.0</td>\n    </tr>\n  </tbody>\n</table>\n<p>17981 rows × 75 columns</p>\n</div>"
     },
     "execution_count": 76,
     "metadata": {},
     "output_type": "execute_result"
    }
   ],
   "source": [
    "df.rename(columns={'Name': 'Jugador'}) # Podemos renombrar una columna, en este caso en ocasiones es más descriptivo decir \"Jugador\" en lugar de \"Name\""
   ],
   "metadata": {
    "collapsed": false,
    "ExecuteTime": {
     "end_time": "2024-09-14T16:06:45.605031900Z",
     "start_time": "2024-09-14T16:06:45.515725100Z"
    }
   },
   "id": "1f6782789f361967"
  },
  {
   "cell_type": "code",
   "execution_count": 78,
   "outputs": [
    {
     "data": {
      "text/plain": "       Unnamed: 0               Name  Age  \\\n0               0  Cristiano Ronaldo   32   \n1               1           L. Messi   30   \n2               2             Neymar   25   \n3               3          L. Suárez   30   \n4               4           M. Neuer   31   \n...           ...                ...  ...   \n17976       17976          A. Kelsey   17   \n17977       17977      B. Richardson   47   \n17978       17978           J. Young   17   \n17979       17979       J. Lundstram   18   \n17980       17980          L. Sackey   18   \n\n                                                 Photo Nationality  \\\n0       https://cdn.sofifa.org/48/18/players/20801.png    Portugal   \n1      https://cdn.sofifa.org/48/18/players/158023.png   Argentina   \n2      https://cdn.sofifa.org/48/18/players/190871.png      Brazil   \n3      https://cdn.sofifa.org/48/18/players/176580.png     Uruguay   \n4      https://cdn.sofifa.org/48/18/players/167495.png     Germany   \n...                                                ...         ...   \n17976  https://cdn.sofifa.org/48/18/players/237463.png     England   \n17977   https://cdn.sofifa.org/48/18/players/11728.png     England   \n17978  https://cdn.sofifa.org/48/18/players/231381.png    Scotland   \n17979  https://cdn.sofifa.org/48/18/players/238813.png     England   \n17980  https://cdn.sofifa.org/48/18/players/238308.png       Ghana   \n\n                                       Flag  Overall  Potential  \\\n0       https://cdn.sofifa.org/flags/38.png       94         94   \n1       https://cdn.sofifa.org/flags/52.png       93         93   \n2       https://cdn.sofifa.org/flags/54.png       92         94   \n3       https://cdn.sofifa.org/flags/60.png       92         92   \n4       https://cdn.sofifa.org/flags/21.png       92         92   \n...                                     ...      ...        ...   \n17976   https://cdn.sofifa.org/flags/14.png       46         63   \n17977   https://cdn.sofifa.org/flags/14.png       46         46   \n17978   https://cdn.sofifa.org/flags/42.png       46         61   \n17979   https://cdn.sofifa.org/flags/14.png       46         64   \n17980  https://cdn.sofifa.org/flags/117.png       46         64   \n\n                      Club                                    Club Logo  ...  \\\n0           Real Madrid CF   https://cdn.sofifa.org/24/18/teams/243.png  ...   \n1             FC Barcelona   https://cdn.sofifa.org/24/18/teams/241.png  ...   \n2      Paris Saint-Germain    https://cdn.sofifa.org/24/18/teams/73.png  ...   \n3             FC Barcelona   https://cdn.sofifa.org/24/18/teams/241.png  ...   \n4         FC Bayern Munich    https://cdn.sofifa.org/24/18/teams/21.png  ...   \n...                    ...                                          ...  ...   \n17976    Scunthorpe United  https://cdn.sofifa.org/24/18/teams/1949.png  ...   \n17977    Wycombe Wanderers  https://cdn.sofifa.org/24/18/teams/1933.png  ...   \n17978         Swindon Town  https://cdn.sofifa.org/24/18/teams/1934.png  ...   \n17979      Crewe Alexandra   https://cdn.sofifa.org/24/18/teams/121.png  ...   \n17980    Scunthorpe United  https://cdn.sofifa.org/24/18/teams/1949.png  ...   \n\n         RB   RCB   RCM   RDM    RF    RM    RS    RW   RWB    ST  \n0      61.0  53.0  82.0  62.0  91.0  89.0  92.0  91.0  66.0  92.0  \n1      57.0  45.0  84.0  59.0  92.0  90.0  88.0  91.0  62.0  88.0  \n2      59.0  46.0  79.0  59.0  88.0  87.0  84.0  89.0  64.0  84.0  \n3      64.0  58.0  80.0  65.0  88.0  85.0  88.0  87.0  68.0  88.0  \n4       NaN   NaN   NaN   NaN   NaN   NaN   NaN   NaN   NaN   NaN  \n...     ...   ...   ...   ...   ...   ...   ...   ...   ...   ...  \n17976   NaN   NaN   NaN   NaN   NaN   NaN   NaN   NaN   NaN   NaN  \n17977   NaN   NaN   NaN   NaN   NaN   NaN   NaN   NaN   NaN   NaN  \n17978  31.0  28.0  38.0  29.0  45.0  42.0  45.0  44.0  32.0  45.0  \n17979  47.0  46.0  45.0  47.0  43.0  45.0  41.0  44.0  46.0  41.0  \n17980  40.0  45.0  30.0  38.0  29.0  30.0  31.0  29.0  38.0  31.0  \n\n[17981 rows x 75 columns]",
      "text/html": "<div>\n<style scoped>\n    .dataframe tbody tr th:only-of-type {\n        vertical-align: middle;\n    }\n\n    .dataframe tbody tr th {\n        vertical-align: top;\n    }\n\n    .dataframe thead th {\n        text-align: right;\n    }\n</style>\n<table border=\"1\" class=\"dataframe\">\n  <thead>\n    <tr style=\"text-align: right;\">\n      <th></th>\n      <th>Unnamed: 0</th>\n      <th>Name</th>\n      <th>Age</th>\n      <th>Photo</th>\n      <th>Nationality</th>\n      <th>Flag</th>\n      <th>Overall</th>\n      <th>Potential</th>\n      <th>Club</th>\n      <th>Club Logo</th>\n      <th>...</th>\n      <th>RB</th>\n      <th>RCB</th>\n      <th>RCM</th>\n      <th>RDM</th>\n      <th>RF</th>\n      <th>RM</th>\n      <th>RS</th>\n      <th>RW</th>\n      <th>RWB</th>\n      <th>ST</th>\n    </tr>\n  </thead>\n  <tbody>\n    <tr>\n      <th>0</th>\n      <td>0</td>\n      <td>Cristiano Ronaldo</td>\n      <td>32</td>\n      <td>https://cdn.sofifa.org/48/18/players/20801.png</td>\n      <td>Portugal</td>\n      <td>https://cdn.sofifa.org/flags/38.png</td>\n      <td>94</td>\n      <td>94</td>\n      <td>Real Madrid CF</td>\n      <td>https://cdn.sofifa.org/24/18/teams/243.png</td>\n      <td>...</td>\n      <td>61.0</td>\n      <td>53.0</td>\n      <td>82.0</td>\n      <td>62.0</td>\n      <td>91.0</td>\n      <td>89.0</td>\n      <td>92.0</td>\n      <td>91.0</td>\n      <td>66.0</td>\n      <td>92.0</td>\n    </tr>\n    <tr>\n      <th>1</th>\n      <td>1</td>\n      <td>L. Messi</td>\n      <td>30</td>\n      <td>https://cdn.sofifa.org/48/18/players/158023.png</td>\n      <td>Argentina</td>\n      <td>https://cdn.sofifa.org/flags/52.png</td>\n      <td>93</td>\n      <td>93</td>\n      <td>FC Barcelona</td>\n      <td>https://cdn.sofifa.org/24/18/teams/241.png</td>\n      <td>...</td>\n      <td>57.0</td>\n      <td>45.0</td>\n      <td>84.0</td>\n      <td>59.0</td>\n      <td>92.0</td>\n      <td>90.0</td>\n      <td>88.0</td>\n      <td>91.0</td>\n      <td>62.0</td>\n      <td>88.0</td>\n    </tr>\n    <tr>\n      <th>2</th>\n      <td>2</td>\n      <td>Neymar</td>\n      <td>25</td>\n      <td>https://cdn.sofifa.org/48/18/players/190871.png</td>\n      <td>Brazil</td>\n      <td>https://cdn.sofifa.org/flags/54.png</td>\n      <td>92</td>\n      <td>94</td>\n      <td>Paris Saint-Germain</td>\n      <td>https://cdn.sofifa.org/24/18/teams/73.png</td>\n      <td>...</td>\n      <td>59.0</td>\n      <td>46.0</td>\n      <td>79.0</td>\n      <td>59.0</td>\n      <td>88.0</td>\n      <td>87.0</td>\n      <td>84.0</td>\n      <td>89.0</td>\n      <td>64.0</td>\n      <td>84.0</td>\n    </tr>\n    <tr>\n      <th>3</th>\n      <td>3</td>\n      <td>L. Suárez</td>\n      <td>30</td>\n      <td>https://cdn.sofifa.org/48/18/players/176580.png</td>\n      <td>Uruguay</td>\n      <td>https://cdn.sofifa.org/flags/60.png</td>\n      <td>92</td>\n      <td>92</td>\n      <td>FC Barcelona</td>\n      <td>https://cdn.sofifa.org/24/18/teams/241.png</td>\n      <td>...</td>\n      <td>64.0</td>\n      <td>58.0</td>\n      <td>80.0</td>\n      <td>65.0</td>\n      <td>88.0</td>\n      <td>85.0</td>\n      <td>88.0</td>\n      <td>87.0</td>\n      <td>68.0</td>\n      <td>88.0</td>\n    </tr>\n    <tr>\n      <th>4</th>\n      <td>4</td>\n      <td>M. Neuer</td>\n      <td>31</td>\n      <td>https://cdn.sofifa.org/48/18/players/167495.png</td>\n      <td>Germany</td>\n      <td>https://cdn.sofifa.org/flags/21.png</td>\n      <td>92</td>\n      <td>92</td>\n      <td>FC Bayern Munich</td>\n      <td>https://cdn.sofifa.org/24/18/teams/21.png</td>\n      <td>...</td>\n      <td>NaN</td>\n      <td>NaN</td>\n      <td>NaN</td>\n      <td>NaN</td>\n      <td>NaN</td>\n      <td>NaN</td>\n      <td>NaN</td>\n      <td>NaN</td>\n      <td>NaN</td>\n      <td>NaN</td>\n    </tr>\n    <tr>\n      <th>...</th>\n      <td>...</td>\n      <td>...</td>\n      <td>...</td>\n      <td>...</td>\n      <td>...</td>\n      <td>...</td>\n      <td>...</td>\n      <td>...</td>\n      <td>...</td>\n      <td>...</td>\n      <td>...</td>\n      <td>...</td>\n      <td>...</td>\n      <td>...</td>\n      <td>...</td>\n      <td>...</td>\n      <td>...</td>\n      <td>...</td>\n      <td>...</td>\n      <td>...</td>\n      <td>...</td>\n    </tr>\n    <tr>\n      <th>17976</th>\n      <td>17976</td>\n      <td>A. Kelsey</td>\n      <td>17</td>\n      <td>https://cdn.sofifa.org/48/18/players/237463.png</td>\n      <td>England</td>\n      <td>https://cdn.sofifa.org/flags/14.png</td>\n      <td>46</td>\n      <td>63</td>\n      <td>Scunthorpe United</td>\n      <td>https://cdn.sofifa.org/24/18/teams/1949.png</td>\n      <td>...</td>\n      <td>NaN</td>\n      <td>NaN</td>\n      <td>NaN</td>\n      <td>NaN</td>\n      <td>NaN</td>\n      <td>NaN</td>\n      <td>NaN</td>\n      <td>NaN</td>\n      <td>NaN</td>\n      <td>NaN</td>\n    </tr>\n    <tr>\n      <th>17977</th>\n      <td>17977</td>\n      <td>B. Richardson</td>\n      <td>47</td>\n      <td>https://cdn.sofifa.org/48/18/players/11728.png</td>\n      <td>England</td>\n      <td>https://cdn.sofifa.org/flags/14.png</td>\n      <td>46</td>\n      <td>46</td>\n      <td>Wycombe Wanderers</td>\n      <td>https://cdn.sofifa.org/24/18/teams/1933.png</td>\n      <td>...</td>\n      <td>NaN</td>\n      <td>NaN</td>\n      <td>NaN</td>\n      <td>NaN</td>\n      <td>NaN</td>\n      <td>NaN</td>\n      <td>NaN</td>\n      <td>NaN</td>\n      <td>NaN</td>\n      <td>NaN</td>\n    </tr>\n    <tr>\n      <th>17978</th>\n      <td>17978</td>\n      <td>J. Young</td>\n      <td>17</td>\n      <td>https://cdn.sofifa.org/48/18/players/231381.png</td>\n      <td>Scotland</td>\n      <td>https://cdn.sofifa.org/flags/42.png</td>\n      <td>46</td>\n      <td>61</td>\n      <td>Swindon Town</td>\n      <td>https://cdn.sofifa.org/24/18/teams/1934.png</td>\n      <td>...</td>\n      <td>31.0</td>\n      <td>28.0</td>\n      <td>38.0</td>\n      <td>29.0</td>\n      <td>45.0</td>\n      <td>42.0</td>\n      <td>45.0</td>\n      <td>44.0</td>\n      <td>32.0</td>\n      <td>45.0</td>\n    </tr>\n    <tr>\n      <th>17979</th>\n      <td>17979</td>\n      <td>J. Lundstram</td>\n      <td>18</td>\n      <td>https://cdn.sofifa.org/48/18/players/238813.png</td>\n      <td>England</td>\n      <td>https://cdn.sofifa.org/flags/14.png</td>\n      <td>46</td>\n      <td>64</td>\n      <td>Crewe Alexandra</td>\n      <td>https://cdn.sofifa.org/24/18/teams/121.png</td>\n      <td>...</td>\n      <td>47.0</td>\n      <td>46.0</td>\n      <td>45.0</td>\n      <td>47.0</td>\n      <td>43.0</td>\n      <td>45.0</td>\n      <td>41.0</td>\n      <td>44.0</td>\n      <td>46.0</td>\n      <td>41.0</td>\n    </tr>\n    <tr>\n      <th>17980</th>\n      <td>17980</td>\n      <td>L. Sackey</td>\n      <td>18</td>\n      <td>https://cdn.sofifa.org/48/18/players/238308.png</td>\n      <td>Ghana</td>\n      <td>https://cdn.sofifa.org/flags/117.png</td>\n      <td>46</td>\n      <td>64</td>\n      <td>Scunthorpe United</td>\n      <td>https://cdn.sofifa.org/24/18/teams/1949.png</td>\n      <td>...</td>\n      <td>40.0</td>\n      <td>45.0</td>\n      <td>30.0</td>\n      <td>38.0</td>\n      <td>29.0</td>\n      <td>30.0</td>\n      <td>31.0</td>\n      <td>29.0</td>\n      <td>38.0</td>\n      <td>31.0</td>\n    </tr>\n  </tbody>\n</table>\n<p>17981 rows × 75 columns</p>\n</div>"
     },
     "execution_count": 78,
     "metadata": {},
     "output_type": "execute_result"
    }
   ],
   "source": [
    "df # Sin embargo, el cambio no se realiza en el dataframe original"
   ],
   "metadata": {
    "collapsed": false,
    "ExecuteTime": {
     "end_time": "2024-09-14T16:07:02.285079600Z",
     "start_time": "2024-09-14T16:07:02.147954Z"
    }
   },
   "id": "976d40cfa796d5a7"
  },
  {
   "cell_type": "markdown",
   "source": [
    "## Acceso a registros"
   ],
   "metadata": {
    "collapsed": false
   },
   "id": "c9a255e2717e7990"
  },
  {
   "cell_type": "code",
   "execution_count": 79,
   "outputs": [
    {
     "data": {
      "text/plain": "    Unnamed: 0            Name  Age  \\\n5            5  R. Lewandowski   28   \n6            6          De Gea   26   \n7            7       E. Hazard   26   \n8            8        T. Kroos   27   \n9            9      G. Higuaín   29   \n10          10    Sergio Ramos   31   \n11          11    K. De Bruyne   26   \n\n                                              Photo Nationality  \\\n5   https://cdn.sofifa.org/48/18/players/188545.png      Poland   \n6   https://cdn.sofifa.org/48/18/players/193080.png       Spain   \n7   https://cdn.sofifa.org/48/18/players/183277.png     Belgium   \n8   https://cdn.sofifa.org/48/18/players/182521.png     Germany   \n9   https://cdn.sofifa.org/48/18/players/167664.png   Argentina   \n10  https://cdn.sofifa.org/48/18/players/155862.png       Spain   \n11  https://cdn.sofifa.org/48/18/players/192985.png     Belgium   \n\n                                   Flag  Overall  Potential  \\\n5   https://cdn.sofifa.org/flags/37.png       91         91   \n6   https://cdn.sofifa.org/flags/45.png       90         92   \n7    https://cdn.sofifa.org/flags/7.png       90         91   \n8   https://cdn.sofifa.org/flags/21.png       90         90   \n9   https://cdn.sofifa.org/flags/52.png       90         90   \n10  https://cdn.sofifa.org/flags/45.png       90         90   \n11   https://cdn.sofifa.org/flags/7.png       89         92   \n\n                 Club                                   Club Logo  ...    RB  \\\n5    FC Bayern Munich   https://cdn.sofifa.org/24/18/teams/21.png  ...  58.0   \n6   Manchester United   https://cdn.sofifa.org/24/18/teams/11.png  ...   NaN   \n7             Chelsea    https://cdn.sofifa.org/24/18/teams/5.png  ...  59.0   \n8      Real Madrid CF  https://cdn.sofifa.org/24/18/teams/243.png  ...  76.0   \n9            Juventus   https://cdn.sofifa.org/24/18/teams/45.png  ...  51.0   \n10     Real Madrid CF  https://cdn.sofifa.org/24/18/teams/243.png  ...  84.0   \n11    Manchester City   https://cdn.sofifa.org/24/18/teams/10.png  ...  66.0   \n\n     RCB   RCM   RDM    RF    RM    RS    RW   RWB    ST  \n5   57.0  78.0  62.0  87.0  82.0  88.0  84.0  61.0  88.0  \n6    NaN   NaN   NaN   NaN   NaN   NaN   NaN   NaN   NaN  \n7   47.0  81.0  61.0  87.0  87.0  82.0  88.0  64.0  82.0  \n8   72.0  87.0  82.0  81.0  81.0  77.0  80.0  78.0  77.0  \n9   46.0  71.0  52.0  84.0  79.0  87.0  82.0  55.0  87.0  \n10  87.0  74.0  83.0  70.0  71.0  72.0  69.0  81.0  72.0  \n11  57.0  84.0  70.0  85.0  85.0  81.0  85.0  71.0  81.0  \n\n[7 rows x 75 columns]",
      "text/html": "<div>\n<style scoped>\n    .dataframe tbody tr th:only-of-type {\n        vertical-align: middle;\n    }\n\n    .dataframe tbody tr th {\n        vertical-align: top;\n    }\n\n    .dataframe thead th {\n        text-align: right;\n    }\n</style>\n<table border=\"1\" class=\"dataframe\">\n  <thead>\n    <tr style=\"text-align: right;\">\n      <th></th>\n      <th>Unnamed: 0</th>\n      <th>Name</th>\n      <th>Age</th>\n      <th>Photo</th>\n      <th>Nationality</th>\n      <th>Flag</th>\n      <th>Overall</th>\n      <th>Potential</th>\n      <th>Club</th>\n      <th>Club Logo</th>\n      <th>...</th>\n      <th>RB</th>\n      <th>RCB</th>\n      <th>RCM</th>\n      <th>RDM</th>\n      <th>RF</th>\n      <th>RM</th>\n      <th>RS</th>\n      <th>RW</th>\n      <th>RWB</th>\n      <th>ST</th>\n    </tr>\n  </thead>\n  <tbody>\n    <tr>\n      <th>5</th>\n      <td>5</td>\n      <td>R. Lewandowski</td>\n      <td>28</td>\n      <td>https://cdn.sofifa.org/48/18/players/188545.png</td>\n      <td>Poland</td>\n      <td>https://cdn.sofifa.org/flags/37.png</td>\n      <td>91</td>\n      <td>91</td>\n      <td>FC Bayern Munich</td>\n      <td>https://cdn.sofifa.org/24/18/teams/21.png</td>\n      <td>...</td>\n      <td>58.0</td>\n      <td>57.0</td>\n      <td>78.0</td>\n      <td>62.0</td>\n      <td>87.0</td>\n      <td>82.0</td>\n      <td>88.0</td>\n      <td>84.0</td>\n      <td>61.0</td>\n      <td>88.0</td>\n    </tr>\n    <tr>\n      <th>6</th>\n      <td>6</td>\n      <td>De Gea</td>\n      <td>26</td>\n      <td>https://cdn.sofifa.org/48/18/players/193080.png</td>\n      <td>Spain</td>\n      <td>https://cdn.sofifa.org/flags/45.png</td>\n      <td>90</td>\n      <td>92</td>\n      <td>Manchester United</td>\n      <td>https://cdn.sofifa.org/24/18/teams/11.png</td>\n      <td>...</td>\n      <td>NaN</td>\n      <td>NaN</td>\n      <td>NaN</td>\n      <td>NaN</td>\n      <td>NaN</td>\n      <td>NaN</td>\n      <td>NaN</td>\n      <td>NaN</td>\n      <td>NaN</td>\n      <td>NaN</td>\n    </tr>\n    <tr>\n      <th>7</th>\n      <td>7</td>\n      <td>E. Hazard</td>\n      <td>26</td>\n      <td>https://cdn.sofifa.org/48/18/players/183277.png</td>\n      <td>Belgium</td>\n      <td>https://cdn.sofifa.org/flags/7.png</td>\n      <td>90</td>\n      <td>91</td>\n      <td>Chelsea</td>\n      <td>https://cdn.sofifa.org/24/18/teams/5.png</td>\n      <td>...</td>\n      <td>59.0</td>\n      <td>47.0</td>\n      <td>81.0</td>\n      <td>61.0</td>\n      <td>87.0</td>\n      <td>87.0</td>\n      <td>82.0</td>\n      <td>88.0</td>\n      <td>64.0</td>\n      <td>82.0</td>\n    </tr>\n    <tr>\n      <th>8</th>\n      <td>8</td>\n      <td>T. Kroos</td>\n      <td>27</td>\n      <td>https://cdn.sofifa.org/48/18/players/182521.png</td>\n      <td>Germany</td>\n      <td>https://cdn.sofifa.org/flags/21.png</td>\n      <td>90</td>\n      <td>90</td>\n      <td>Real Madrid CF</td>\n      <td>https://cdn.sofifa.org/24/18/teams/243.png</td>\n      <td>...</td>\n      <td>76.0</td>\n      <td>72.0</td>\n      <td>87.0</td>\n      <td>82.0</td>\n      <td>81.0</td>\n      <td>81.0</td>\n      <td>77.0</td>\n      <td>80.0</td>\n      <td>78.0</td>\n      <td>77.0</td>\n    </tr>\n    <tr>\n      <th>9</th>\n      <td>9</td>\n      <td>G. Higuaín</td>\n      <td>29</td>\n      <td>https://cdn.sofifa.org/48/18/players/167664.png</td>\n      <td>Argentina</td>\n      <td>https://cdn.sofifa.org/flags/52.png</td>\n      <td>90</td>\n      <td>90</td>\n      <td>Juventus</td>\n      <td>https://cdn.sofifa.org/24/18/teams/45.png</td>\n      <td>...</td>\n      <td>51.0</td>\n      <td>46.0</td>\n      <td>71.0</td>\n      <td>52.0</td>\n      <td>84.0</td>\n      <td>79.0</td>\n      <td>87.0</td>\n      <td>82.0</td>\n      <td>55.0</td>\n      <td>87.0</td>\n    </tr>\n    <tr>\n      <th>10</th>\n      <td>10</td>\n      <td>Sergio Ramos</td>\n      <td>31</td>\n      <td>https://cdn.sofifa.org/48/18/players/155862.png</td>\n      <td>Spain</td>\n      <td>https://cdn.sofifa.org/flags/45.png</td>\n      <td>90</td>\n      <td>90</td>\n      <td>Real Madrid CF</td>\n      <td>https://cdn.sofifa.org/24/18/teams/243.png</td>\n      <td>...</td>\n      <td>84.0</td>\n      <td>87.0</td>\n      <td>74.0</td>\n      <td>83.0</td>\n      <td>70.0</td>\n      <td>71.0</td>\n      <td>72.0</td>\n      <td>69.0</td>\n      <td>81.0</td>\n      <td>72.0</td>\n    </tr>\n    <tr>\n      <th>11</th>\n      <td>11</td>\n      <td>K. De Bruyne</td>\n      <td>26</td>\n      <td>https://cdn.sofifa.org/48/18/players/192985.png</td>\n      <td>Belgium</td>\n      <td>https://cdn.sofifa.org/flags/7.png</td>\n      <td>89</td>\n      <td>92</td>\n      <td>Manchester City</td>\n      <td>https://cdn.sofifa.org/24/18/teams/10.png</td>\n      <td>...</td>\n      <td>66.0</td>\n      <td>57.0</td>\n      <td>84.0</td>\n      <td>70.0</td>\n      <td>85.0</td>\n      <td>85.0</td>\n      <td>81.0</td>\n      <td>85.0</td>\n      <td>71.0</td>\n      <td>81.0</td>\n    </tr>\n  </tbody>\n</table>\n<p>7 rows × 75 columns</p>\n</div>"
     },
     "execution_count": 79,
     "metadata": {},
     "output_type": "execute_result"
    }
   ],
   "source": [
    "df[5:12] # Podemos acceder a un rango de registros, en este caso, del 5 al 12"
   ],
   "metadata": {
    "collapsed": false,
    "ExecuteTime": {
     "end_time": "2024-09-14T16:07:14.130839400Z",
     "start_time": "2024-09-14T16:07:14.015078300Z"
    }
   },
   "id": "ed8e68c0302ffa08"
  },
  {
   "cell_type": "code",
   "execution_count": 80,
   "outputs": [
    {
     "data": {
      "text/plain": "     Age  Potential   Value\n120   30         84  €29.5M\n121   31         84    €28M\n122   31         84    €21M\n123   31         84    €21M\n124   34         84     €9M",
      "text/html": "<div>\n<style scoped>\n    .dataframe tbody tr th:only-of-type {\n        vertical-align: middle;\n    }\n\n    .dataframe tbody tr th {\n        vertical-align: top;\n    }\n\n    .dataframe thead th {\n        text-align: right;\n    }\n</style>\n<table border=\"1\" class=\"dataframe\">\n  <thead>\n    <tr style=\"text-align: right;\">\n      <th></th>\n      <th>Age</th>\n      <th>Potential</th>\n      <th>Value</th>\n    </tr>\n  </thead>\n  <tbody>\n    <tr>\n      <th>120</th>\n      <td>30</td>\n      <td>84</td>\n      <td>€29.5M</td>\n    </tr>\n    <tr>\n      <th>121</th>\n      <td>31</td>\n      <td>84</td>\n      <td>€28M</td>\n    </tr>\n    <tr>\n      <th>122</th>\n      <td>31</td>\n      <td>84</td>\n      <td>€21M</td>\n    </tr>\n    <tr>\n      <th>123</th>\n      <td>31</td>\n      <td>84</td>\n      <td>€21M</td>\n    </tr>\n    <tr>\n      <th>124</th>\n      <td>34</td>\n      <td>84</td>\n      <td>€9M</td>\n    </tr>\n  </tbody>\n</table>\n</div>"
     },
     "execution_count": 80,
     "metadata": {},
     "output_type": "execute_result"
    }
   ],
   "source": [
    "df.iloc[120:125, [2, 7, 10]] # Podemos acceder a estos registros específicos y a columnas de interés, esto nos puede ayudar a observar información mucho más específica"
   ],
   "metadata": {
    "collapsed": false,
    "ExecuteTime": {
     "end_time": "2024-09-14T16:08:01.789408Z",
     "start_time": "2024-09-14T16:08:01.740506100Z"
    }
   },
   "id": "1f44916a207dc0f9"
  },
  {
   "cell_type": "code",
   "execution_count": 81,
   "outputs": [
    {
     "data": {
      "text/plain": "           Name                 Club    Nationality\n1      L. Messi         FC Barcelona      Argentina\n250    K. Trapp  Paris Saint-Germain        Germany\n7     E. Hazard              Chelsea        Belgium\n8000    T. Boyd      SV Darmstadt 98  United States",
      "text/html": "<div>\n<style scoped>\n    .dataframe tbody tr th:only-of-type {\n        vertical-align: middle;\n    }\n\n    .dataframe tbody tr th {\n        vertical-align: top;\n    }\n\n    .dataframe thead th {\n        text-align: right;\n    }\n</style>\n<table border=\"1\" class=\"dataframe\">\n  <thead>\n    <tr style=\"text-align: right;\">\n      <th></th>\n      <th>Name</th>\n      <th>Club</th>\n      <th>Nationality</th>\n    </tr>\n  </thead>\n  <tbody>\n    <tr>\n      <th>1</th>\n      <td>L. Messi</td>\n      <td>FC Barcelona</td>\n      <td>Argentina</td>\n    </tr>\n    <tr>\n      <th>250</th>\n      <td>K. Trapp</td>\n      <td>Paris Saint-Germain</td>\n      <td>Germany</td>\n    </tr>\n    <tr>\n      <th>7</th>\n      <td>E. Hazard</td>\n      <td>Chelsea</td>\n      <td>Belgium</td>\n    </tr>\n    <tr>\n      <th>8000</th>\n      <td>T. Boyd</td>\n      <td>SV Darmstadt 98</td>\n      <td>United States</td>\n    </tr>\n  </tbody>\n</table>\n</div>"
     },
     "execution_count": 81,
     "metadata": {},
     "output_type": "execute_result"
    }
   ],
   "source": [
    "# Podemos acceder a registros específicos y a columnas de interés, mediante el uso del número de registro y el nombre de las columnas que nos interesan.\n",
    "registros = [1, 250, 7, 8000]\n",
    "columnas = ['Name', 'Club', 'Nationality']\n",
    "df.loc[registros, columnas]"
   ],
   "metadata": {
    "collapsed": false,
    "ExecuteTime": {
     "end_time": "2024-09-14T16:08:58.838931Z",
     "start_time": "2024-09-14T16:08:58.748458700Z"
    }
   },
   "id": "5a587e474fca2f9a"
  },
  {
   "cell_type": "markdown",
   "source": [
    "## Eliminación de registros"
   ],
   "metadata": {
    "collapsed": false
   },
   "id": "cd205603639eff24"
  },
  {
   "cell_type": "code",
   "execution_count": 82,
   "outputs": [
    {
     "data": {
      "text/plain": "   Unnamed: 0               Name  Age  \\\n0           0  Cristiano Ronaldo   32   \n1           1           L. Messi   30   \n2           2             Neymar   25   \n4           4           M. Neuer   31   \n5           5     R. Lewandowski   28   \n\n                                             Photo Nationality  \\\n0   https://cdn.sofifa.org/48/18/players/20801.png    Portugal   \n1  https://cdn.sofifa.org/48/18/players/158023.png   Argentina   \n2  https://cdn.sofifa.org/48/18/players/190871.png      Brazil   \n4  https://cdn.sofifa.org/48/18/players/167495.png     Germany   \n5  https://cdn.sofifa.org/48/18/players/188545.png      Poland   \n\n                                  Flag  Overall  Potential  \\\n0  https://cdn.sofifa.org/flags/38.png       94         94   \n1  https://cdn.sofifa.org/flags/52.png       93         93   \n2  https://cdn.sofifa.org/flags/54.png       92         94   \n4  https://cdn.sofifa.org/flags/21.png       92         92   \n5  https://cdn.sofifa.org/flags/37.png       91         91   \n\n                  Club                                   Club Logo  ...    RB  \\\n0       Real Madrid CF  https://cdn.sofifa.org/24/18/teams/243.png  ...  61.0   \n1         FC Barcelona  https://cdn.sofifa.org/24/18/teams/241.png  ...  57.0   \n2  Paris Saint-Germain   https://cdn.sofifa.org/24/18/teams/73.png  ...  59.0   \n4     FC Bayern Munich   https://cdn.sofifa.org/24/18/teams/21.png  ...   NaN   \n5     FC Bayern Munich   https://cdn.sofifa.org/24/18/teams/21.png  ...  58.0   \n\n    RCB   RCM   RDM    RF    RM    RS    RW   RWB    ST  \n0  53.0  82.0  62.0  91.0  89.0  92.0  91.0  66.0  92.0  \n1  45.0  84.0  59.0  92.0  90.0  88.0  91.0  62.0  88.0  \n2  46.0  79.0  59.0  88.0  87.0  84.0  89.0  64.0  84.0  \n4   NaN   NaN   NaN   NaN   NaN   NaN   NaN   NaN   NaN  \n5  57.0  78.0  62.0  87.0  82.0  88.0  84.0  61.0  88.0  \n\n[5 rows x 75 columns]",
      "text/html": "<div>\n<style scoped>\n    .dataframe tbody tr th:only-of-type {\n        vertical-align: middle;\n    }\n\n    .dataframe tbody tr th {\n        vertical-align: top;\n    }\n\n    .dataframe thead th {\n        text-align: right;\n    }\n</style>\n<table border=\"1\" class=\"dataframe\">\n  <thead>\n    <tr style=\"text-align: right;\">\n      <th></th>\n      <th>Unnamed: 0</th>\n      <th>Name</th>\n      <th>Age</th>\n      <th>Photo</th>\n      <th>Nationality</th>\n      <th>Flag</th>\n      <th>Overall</th>\n      <th>Potential</th>\n      <th>Club</th>\n      <th>Club Logo</th>\n      <th>...</th>\n      <th>RB</th>\n      <th>RCB</th>\n      <th>RCM</th>\n      <th>RDM</th>\n      <th>RF</th>\n      <th>RM</th>\n      <th>RS</th>\n      <th>RW</th>\n      <th>RWB</th>\n      <th>ST</th>\n    </tr>\n  </thead>\n  <tbody>\n    <tr>\n      <th>0</th>\n      <td>0</td>\n      <td>Cristiano Ronaldo</td>\n      <td>32</td>\n      <td>https://cdn.sofifa.org/48/18/players/20801.png</td>\n      <td>Portugal</td>\n      <td>https://cdn.sofifa.org/flags/38.png</td>\n      <td>94</td>\n      <td>94</td>\n      <td>Real Madrid CF</td>\n      <td>https://cdn.sofifa.org/24/18/teams/243.png</td>\n      <td>...</td>\n      <td>61.0</td>\n      <td>53.0</td>\n      <td>82.0</td>\n      <td>62.0</td>\n      <td>91.0</td>\n      <td>89.0</td>\n      <td>92.0</td>\n      <td>91.0</td>\n      <td>66.0</td>\n      <td>92.0</td>\n    </tr>\n    <tr>\n      <th>1</th>\n      <td>1</td>\n      <td>L. Messi</td>\n      <td>30</td>\n      <td>https://cdn.sofifa.org/48/18/players/158023.png</td>\n      <td>Argentina</td>\n      <td>https://cdn.sofifa.org/flags/52.png</td>\n      <td>93</td>\n      <td>93</td>\n      <td>FC Barcelona</td>\n      <td>https://cdn.sofifa.org/24/18/teams/241.png</td>\n      <td>...</td>\n      <td>57.0</td>\n      <td>45.0</td>\n      <td>84.0</td>\n      <td>59.0</td>\n      <td>92.0</td>\n      <td>90.0</td>\n      <td>88.0</td>\n      <td>91.0</td>\n      <td>62.0</td>\n      <td>88.0</td>\n    </tr>\n    <tr>\n      <th>2</th>\n      <td>2</td>\n      <td>Neymar</td>\n      <td>25</td>\n      <td>https://cdn.sofifa.org/48/18/players/190871.png</td>\n      <td>Brazil</td>\n      <td>https://cdn.sofifa.org/flags/54.png</td>\n      <td>92</td>\n      <td>94</td>\n      <td>Paris Saint-Germain</td>\n      <td>https://cdn.sofifa.org/24/18/teams/73.png</td>\n      <td>...</td>\n      <td>59.0</td>\n      <td>46.0</td>\n      <td>79.0</td>\n      <td>59.0</td>\n      <td>88.0</td>\n      <td>87.0</td>\n      <td>84.0</td>\n      <td>89.0</td>\n      <td>64.0</td>\n      <td>84.0</td>\n    </tr>\n    <tr>\n      <th>4</th>\n      <td>4</td>\n      <td>M. Neuer</td>\n      <td>31</td>\n      <td>https://cdn.sofifa.org/48/18/players/167495.png</td>\n      <td>Germany</td>\n      <td>https://cdn.sofifa.org/flags/21.png</td>\n      <td>92</td>\n      <td>92</td>\n      <td>FC Bayern Munich</td>\n      <td>https://cdn.sofifa.org/24/18/teams/21.png</td>\n      <td>...</td>\n      <td>NaN</td>\n      <td>NaN</td>\n      <td>NaN</td>\n      <td>NaN</td>\n      <td>NaN</td>\n      <td>NaN</td>\n      <td>NaN</td>\n      <td>NaN</td>\n      <td>NaN</td>\n      <td>NaN</td>\n    </tr>\n    <tr>\n      <th>5</th>\n      <td>5</td>\n      <td>R. Lewandowski</td>\n      <td>28</td>\n      <td>https://cdn.sofifa.org/48/18/players/188545.png</td>\n      <td>Poland</td>\n      <td>https://cdn.sofifa.org/flags/37.png</td>\n      <td>91</td>\n      <td>91</td>\n      <td>FC Bayern Munich</td>\n      <td>https://cdn.sofifa.org/24/18/teams/21.png</td>\n      <td>...</td>\n      <td>58.0</td>\n      <td>57.0</td>\n      <td>78.0</td>\n      <td>62.0</td>\n      <td>87.0</td>\n      <td>82.0</td>\n      <td>88.0</td>\n      <td>84.0</td>\n      <td>61.0</td>\n      <td>88.0</td>\n    </tr>\n  </tbody>\n</table>\n<p>5 rows × 75 columns</p>\n</div>"
     },
     "execution_count": 82,
     "metadata": {},
     "output_type": "execute_result"
    }
   ],
   "source": [
    "df.drop(3).head() # Podemos eliminar un registro específico, en este caso, el registro 3, puede ser usado para eliminar jugadores retirados o que no nos interesen"
   ],
   "metadata": {
    "collapsed": false,
    "ExecuteTime": {
     "end_time": "2024-09-14T16:10:11.813831200Z",
     "start_time": "2024-09-14T16:10:11.689406800Z"
    }
   },
   "id": "6a2190aa90d8e837"
  },
  {
   "cell_type": "code",
   "execution_count": 83,
   "outputs": [
    {
     "data": {
      "text/plain": "   Unnamed: 0               Name  Age  \\\n0           0  Cristiano Ronaldo   32   \n1           1           L. Messi   30   \n2           2             Neymar   25   \n3           3          L. Suárez   30   \n4           4           M. Neuer   31   \n\n                                             Photo Nationality  \\\n0   https://cdn.sofifa.org/48/18/players/20801.png    Portugal   \n1  https://cdn.sofifa.org/48/18/players/158023.png   Argentina   \n2  https://cdn.sofifa.org/48/18/players/190871.png      Brazil   \n3  https://cdn.sofifa.org/48/18/players/176580.png     Uruguay   \n4  https://cdn.sofifa.org/48/18/players/167495.png     Germany   \n\n                                  Flag  Overall  Potential  \\\n0  https://cdn.sofifa.org/flags/38.png       94         94   \n1  https://cdn.sofifa.org/flags/52.png       93         93   \n2  https://cdn.sofifa.org/flags/54.png       92         94   \n3  https://cdn.sofifa.org/flags/60.png       92         92   \n4  https://cdn.sofifa.org/flags/21.png       92         92   \n\n                  Club                                   Club Logo  ...    RB  \\\n0       Real Madrid CF  https://cdn.sofifa.org/24/18/teams/243.png  ...  61.0   \n1         FC Barcelona  https://cdn.sofifa.org/24/18/teams/241.png  ...  57.0   \n2  Paris Saint-Germain   https://cdn.sofifa.org/24/18/teams/73.png  ...  59.0   \n3         FC Barcelona  https://cdn.sofifa.org/24/18/teams/241.png  ...  64.0   \n4     FC Bayern Munich   https://cdn.sofifa.org/24/18/teams/21.png  ...   NaN   \n\n    RCB   RCM   RDM    RF    RM    RS    RW   RWB    ST  \n0  53.0  82.0  62.0  91.0  89.0  92.0  91.0  66.0  92.0  \n1  45.0  84.0  59.0  92.0  90.0  88.0  91.0  62.0  88.0  \n2  46.0  79.0  59.0  88.0  87.0  84.0  89.0  64.0  84.0  \n3  58.0  80.0  65.0  88.0  85.0  88.0  87.0  68.0  88.0  \n4   NaN   NaN   NaN   NaN   NaN   NaN   NaN   NaN   NaN  \n\n[5 rows x 75 columns]",
      "text/html": "<div>\n<style scoped>\n    .dataframe tbody tr th:only-of-type {\n        vertical-align: middle;\n    }\n\n    .dataframe tbody tr th {\n        vertical-align: top;\n    }\n\n    .dataframe thead th {\n        text-align: right;\n    }\n</style>\n<table border=\"1\" class=\"dataframe\">\n  <thead>\n    <tr style=\"text-align: right;\">\n      <th></th>\n      <th>Unnamed: 0</th>\n      <th>Name</th>\n      <th>Age</th>\n      <th>Photo</th>\n      <th>Nationality</th>\n      <th>Flag</th>\n      <th>Overall</th>\n      <th>Potential</th>\n      <th>Club</th>\n      <th>Club Logo</th>\n      <th>...</th>\n      <th>RB</th>\n      <th>RCB</th>\n      <th>RCM</th>\n      <th>RDM</th>\n      <th>RF</th>\n      <th>RM</th>\n      <th>RS</th>\n      <th>RW</th>\n      <th>RWB</th>\n      <th>ST</th>\n    </tr>\n  </thead>\n  <tbody>\n    <tr>\n      <th>0</th>\n      <td>0</td>\n      <td>Cristiano Ronaldo</td>\n      <td>32</td>\n      <td>https://cdn.sofifa.org/48/18/players/20801.png</td>\n      <td>Portugal</td>\n      <td>https://cdn.sofifa.org/flags/38.png</td>\n      <td>94</td>\n      <td>94</td>\n      <td>Real Madrid CF</td>\n      <td>https://cdn.sofifa.org/24/18/teams/243.png</td>\n      <td>...</td>\n      <td>61.0</td>\n      <td>53.0</td>\n      <td>82.0</td>\n      <td>62.0</td>\n      <td>91.0</td>\n      <td>89.0</td>\n      <td>92.0</td>\n      <td>91.0</td>\n      <td>66.0</td>\n      <td>92.0</td>\n    </tr>\n    <tr>\n      <th>1</th>\n      <td>1</td>\n      <td>L. Messi</td>\n      <td>30</td>\n      <td>https://cdn.sofifa.org/48/18/players/158023.png</td>\n      <td>Argentina</td>\n      <td>https://cdn.sofifa.org/flags/52.png</td>\n      <td>93</td>\n      <td>93</td>\n      <td>FC Barcelona</td>\n      <td>https://cdn.sofifa.org/24/18/teams/241.png</td>\n      <td>...</td>\n      <td>57.0</td>\n      <td>45.0</td>\n      <td>84.0</td>\n      <td>59.0</td>\n      <td>92.0</td>\n      <td>90.0</td>\n      <td>88.0</td>\n      <td>91.0</td>\n      <td>62.0</td>\n      <td>88.0</td>\n    </tr>\n    <tr>\n      <th>2</th>\n      <td>2</td>\n      <td>Neymar</td>\n      <td>25</td>\n      <td>https://cdn.sofifa.org/48/18/players/190871.png</td>\n      <td>Brazil</td>\n      <td>https://cdn.sofifa.org/flags/54.png</td>\n      <td>92</td>\n      <td>94</td>\n      <td>Paris Saint-Germain</td>\n      <td>https://cdn.sofifa.org/24/18/teams/73.png</td>\n      <td>...</td>\n      <td>59.0</td>\n      <td>46.0</td>\n      <td>79.0</td>\n      <td>59.0</td>\n      <td>88.0</td>\n      <td>87.0</td>\n      <td>84.0</td>\n      <td>89.0</td>\n      <td>64.0</td>\n      <td>84.0</td>\n    </tr>\n    <tr>\n      <th>3</th>\n      <td>3</td>\n      <td>L. Suárez</td>\n      <td>30</td>\n      <td>https://cdn.sofifa.org/48/18/players/176580.png</td>\n      <td>Uruguay</td>\n      <td>https://cdn.sofifa.org/flags/60.png</td>\n      <td>92</td>\n      <td>92</td>\n      <td>FC Barcelona</td>\n      <td>https://cdn.sofifa.org/24/18/teams/241.png</td>\n      <td>...</td>\n      <td>64.0</td>\n      <td>58.0</td>\n      <td>80.0</td>\n      <td>65.0</td>\n      <td>88.0</td>\n      <td>85.0</td>\n      <td>88.0</td>\n      <td>87.0</td>\n      <td>68.0</td>\n      <td>88.0</td>\n    </tr>\n    <tr>\n      <th>4</th>\n      <td>4</td>\n      <td>M. Neuer</td>\n      <td>31</td>\n      <td>https://cdn.sofifa.org/48/18/players/167495.png</td>\n      <td>Germany</td>\n      <td>https://cdn.sofifa.org/flags/21.png</td>\n      <td>92</td>\n      <td>92</td>\n      <td>FC Bayern Munich</td>\n      <td>https://cdn.sofifa.org/24/18/teams/21.png</td>\n      <td>...</td>\n      <td>NaN</td>\n      <td>NaN</td>\n      <td>NaN</td>\n      <td>NaN</td>\n      <td>NaN</td>\n      <td>NaN</td>\n      <td>NaN</td>\n      <td>NaN</td>\n      <td>NaN</td>\n      <td>NaN</td>\n    </tr>\n  </tbody>\n</table>\n<p>5 rows × 75 columns</p>\n</div>"
     },
     "execution_count": 83,
     "metadata": {},
     "output_type": "execute_result"
    }
   ],
   "source": [
    "df.head() # Sin embargo, el cambio no se realiza en el dataframe original"
   ],
   "metadata": {
    "collapsed": false,
    "ExecuteTime": {
     "end_time": "2024-09-14T16:10:19.942633700Z",
     "start_time": "2024-09-14T16:10:19.809697800Z"
    }
   },
   "id": "dada8a02aba5c502"
  },
  {
   "cell_type": "markdown",
   "source": [
    "## Eliminación de columnas"
   ],
   "metadata": {
    "collapsed": false
   },
   "id": "86cbbcf508f5452c"
  },
  {
   "cell_type": "code",
   "execution_count": 84,
   "outputs": [
    {
     "data": {
      "text/plain": "       Unnamed: 0               Name  Age Nationality  \\\n0               0  Cristiano Ronaldo   32    Portugal   \n1               1           L. Messi   30   Argentina   \n2               2             Neymar   25      Brazil   \n3               3          L. Suárez   30     Uruguay   \n4               4           M. Neuer   31     Germany   \n...           ...                ...  ...         ...   \n17976       17976          A. Kelsey   17     England   \n17977       17977      B. Richardson   47     England   \n17978       17978           J. Young   17    Scotland   \n17979       17979       J. Lundstram   18     England   \n17980       17980          L. Sackey   18       Ghana   \n\n                                       Flag  Overall  Potential  \\\n0       https://cdn.sofifa.org/flags/38.png       94         94   \n1       https://cdn.sofifa.org/flags/52.png       93         93   \n2       https://cdn.sofifa.org/flags/54.png       92         94   \n3       https://cdn.sofifa.org/flags/60.png       92         92   \n4       https://cdn.sofifa.org/flags/21.png       92         92   \n...                                     ...      ...        ...   \n17976   https://cdn.sofifa.org/flags/14.png       46         63   \n17977   https://cdn.sofifa.org/flags/14.png       46         46   \n17978   https://cdn.sofifa.org/flags/42.png       46         61   \n17979   https://cdn.sofifa.org/flags/14.png       46         64   \n17980  https://cdn.sofifa.org/flags/117.png       46         64   \n\n                      Club                                    Club Logo  \\\n0           Real Madrid CF   https://cdn.sofifa.org/24/18/teams/243.png   \n1             FC Barcelona   https://cdn.sofifa.org/24/18/teams/241.png   \n2      Paris Saint-Germain    https://cdn.sofifa.org/24/18/teams/73.png   \n3             FC Barcelona   https://cdn.sofifa.org/24/18/teams/241.png   \n4         FC Bayern Munich    https://cdn.sofifa.org/24/18/teams/21.png   \n...                    ...                                          ...   \n17976    Scunthorpe United  https://cdn.sofifa.org/24/18/teams/1949.png   \n17977    Wycombe Wanderers  https://cdn.sofifa.org/24/18/teams/1933.png   \n17978         Swindon Town  https://cdn.sofifa.org/24/18/teams/1934.png   \n17979      Crewe Alexandra   https://cdn.sofifa.org/24/18/teams/121.png   \n17980    Scunthorpe United  https://cdn.sofifa.org/24/18/teams/1949.png   \n\n        Value  ...    RB   RCB   RCM   RDM    RF    RM    RS    RW   RWB    ST  \n0      €95.5M  ...  61.0  53.0  82.0  62.0  91.0  89.0  92.0  91.0  66.0  92.0  \n1       €105M  ...  57.0  45.0  84.0  59.0  92.0  90.0  88.0  91.0  62.0  88.0  \n2       €123M  ...  59.0  46.0  79.0  59.0  88.0  87.0  84.0  89.0  64.0  84.0  \n3        €97M  ...  64.0  58.0  80.0  65.0  88.0  85.0  88.0  87.0  68.0  88.0  \n4        €61M  ...   NaN   NaN   NaN   NaN   NaN   NaN   NaN   NaN   NaN   NaN  \n...       ...  ...   ...   ...   ...   ...   ...   ...   ...   ...   ...   ...  \n17976    €50K  ...   NaN   NaN   NaN   NaN   NaN   NaN   NaN   NaN   NaN   NaN  \n17977      €0  ...   NaN   NaN   NaN   NaN   NaN   NaN   NaN   NaN   NaN   NaN  \n17978    €60K  ...  31.0  28.0  38.0  29.0  45.0  42.0  45.0  44.0  32.0  45.0  \n17979    €60K  ...  47.0  46.0  45.0  47.0  43.0  45.0  41.0  44.0  46.0  41.0  \n17980    €50K  ...  40.0  45.0  30.0  38.0  29.0  30.0  31.0  29.0  38.0  31.0  \n\n[17981 rows x 74 columns]",
      "text/html": "<div>\n<style scoped>\n    .dataframe tbody tr th:only-of-type {\n        vertical-align: middle;\n    }\n\n    .dataframe tbody tr th {\n        vertical-align: top;\n    }\n\n    .dataframe thead th {\n        text-align: right;\n    }\n</style>\n<table border=\"1\" class=\"dataframe\">\n  <thead>\n    <tr style=\"text-align: right;\">\n      <th></th>\n      <th>Unnamed: 0</th>\n      <th>Name</th>\n      <th>Age</th>\n      <th>Nationality</th>\n      <th>Flag</th>\n      <th>Overall</th>\n      <th>Potential</th>\n      <th>Club</th>\n      <th>Club Logo</th>\n      <th>Value</th>\n      <th>...</th>\n      <th>RB</th>\n      <th>RCB</th>\n      <th>RCM</th>\n      <th>RDM</th>\n      <th>RF</th>\n      <th>RM</th>\n      <th>RS</th>\n      <th>RW</th>\n      <th>RWB</th>\n      <th>ST</th>\n    </tr>\n  </thead>\n  <tbody>\n    <tr>\n      <th>0</th>\n      <td>0</td>\n      <td>Cristiano Ronaldo</td>\n      <td>32</td>\n      <td>Portugal</td>\n      <td>https://cdn.sofifa.org/flags/38.png</td>\n      <td>94</td>\n      <td>94</td>\n      <td>Real Madrid CF</td>\n      <td>https://cdn.sofifa.org/24/18/teams/243.png</td>\n      <td>€95.5M</td>\n      <td>...</td>\n      <td>61.0</td>\n      <td>53.0</td>\n      <td>82.0</td>\n      <td>62.0</td>\n      <td>91.0</td>\n      <td>89.0</td>\n      <td>92.0</td>\n      <td>91.0</td>\n      <td>66.0</td>\n      <td>92.0</td>\n    </tr>\n    <tr>\n      <th>1</th>\n      <td>1</td>\n      <td>L. Messi</td>\n      <td>30</td>\n      <td>Argentina</td>\n      <td>https://cdn.sofifa.org/flags/52.png</td>\n      <td>93</td>\n      <td>93</td>\n      <td>FC Barcelona</td>\n      <td>https://cdn.sofifa.org/24/18/teams/241.png</td>\n      <td>€105M</td>\n      <td>...</td>\n      <td>57.0</td>\n      <td>45.0</td>\n      <td>84.0</td>\n      <td>59.0</td>\n      <td>92.0</td>\n      <td>90.0</td>\n      <td>88.0</td>\n      <td>91.0</td>\n      <td>62.0</td>\n      <td>88.0</td>\n    </tr>\n    <tr>\n      <th>2</th>\n      <td>2</td>\n      <td>Neymar</td>\n      <td>25</td>\n      <td>Brazil</td>\n      <td>https://cdn.sofifa.org/flags/54.png</td>\n      <td>92</td>\n      <td>94</td>\n      <td>Paris Saint-Germain</td>\n      <td>https://cdn.sofifa.org/24/18/teams/73.png</td>\n      <td>€123M</td>\n      <td>...</td>\n      <td>59.0</td>\n      <td>46.0</td>\n      <td>79.0</td>\n      <td>59.0</td>\n      <td>88.0</td>\n      <td>87.0</td>\n      <td>84.0</td>\n      <td>89.0</td>\n      <td>64.0</td>\n      <td>84.0</td>\n    </tr>\n    <tr>\n      <th>3</th>\n      <td>3</td>\n      <td>L. Suárez</td>\n      <td>30</td>\n      <td>Uruguay</td>\n      <td>https://cdn.sofifa.org/flags/60.png</td>\n      <td>92</td>\n      <td>92</td>\n      <td>FC Barcelona</td>\n      <td>https://cdn.sofifa.org/24/18/teams/241.png</td>\n      <td>€97M</td>\n      <td>...</td>\n      <td>64.0</td>\n      <td>58.0</td>\n      <td>80.0</td>\n      <td>65.0</td>\n      <td>88.0</td>\n      <td>85.0</td>\n      <td>88.0</td>\n      <td>87.0</td>\n      <td>68.0</td>\n      <td>88.0</td>\n    </tr>\n    <tr>\n      <th>4</th>\n      <td>4</td>\n      <td>M. Neuer</td>\n      <td>31</td>\n      <td>Germany</td>\n      <td>https://cdn.sofifa.org/flags/21.png</td>\n      <td>92</td>\n      <td>92</td>\n      <td>FC Bayern Munich</td>\n      <td>https://cdn.sofifa.org/24/18/teams/21.png</td>\n      <td>€61M</td>\n      <td>...</td>\n      <td>NaN</td>\n      <td>NaN</td>\n      <td>NaN</td>\n      <td>NaN</td>\n      <td>NaN</td>\n      <td>NaN</td>\n      <td>NaN</td>\n      <td>NaN</td>\n      <td>NaN</td>\n      <td>NaN</td>\n    </tr>\n    <tr>\n      <th>...</th>\n      <td>...</td>\n      <td>...</td>\n      <td>...</td>\n      <td>...</td>\n      <td>...</td>\n      <td>...</td>\n      <td>...</td>\n      <td>...</td>\n      <td>...</td>\n      <td>...</td>\n      <td>...</td>\n      <td>...</td>\n      <td>...</td>\n      <td>...</td>\n      <td>...</td>\n      <td>...</td>\n      <td>...</td>\n      <td>...</td>\n      <td>...</td>\n      <td>...</td>\n      <td>...</td>\n    </tr>\n    <tr>\n      <th>17976</th>\n      <td>17976</td>\n      <td>A. Kelsey</td>\n      <td>17</td>\n      <td>England</td>\n      <td>https://cdn.sofifa.org/flags/14.png</td>\n      <td>46</td>\n      <td>63</td>\n      <td>Scunthorpe United</td>\n      <td>https://cdn.sofifa.org/24/18/teams/1949.png</td>\n      <td>€50K</td>\n      <td>...</td>\n      <td>NaN</td>\n      <td>NaN</td>\n      <td>NaN</td>\n      <td>NaN</td>\n      <td>NaN</td>\n      <td>NaN</td>\n      <td>NaN</td>\n      <td>NaN</td>\n      <td>NaN</td>\n      <td>NaN</td>\n    </tr>\n    <tr>\n      <th>17977</th>\n      <td>17977</td>\n      <td>B. Richardson</td>\n      <td>47</td>\n      <td>England</td>\n      <td>https://cdn.sofifa.org/flags/14.png</td>\n      <td>46</td>\n      <td>46</td>\n      <td>Wycombe Wanderers</td>\n      <td>https://cdn.sofifa.org/24/18/teams/1933.png</td>\n      <td>€0</td>\n      <td>...</td>\n      <td>NaN</td>\n      <td>NaN</td>\n      <td>NaN</td>\n      <td>NaN</td>\n      <td>NaN</td>\n      <td>NaN</td>\n      <td>NaN</td>\n      <td>NaN</td>\n      <td>NaN</td>\n      <td>NaN</td>\n    </tr>\n    <tr>\n      <th>17978</th>\n      <td>17978</td>\n      <td>J. Young</td>\n      <td>17</td>\n      <td>Scotland</td>\n      <td>https://cdn.sofifa.org/flags/42.png</td>\n      <td>46</td>\n      <td>61</td>\n      <td>Swindon Town</td>\n      <td>https://cdn.sofifa.org/24/18/teams/1934.png</td>\n      <td>€60K</td>\n      <td>...</td>\n      <td>31.0</td>\n      <td>28.0</td>\n      <td>38.0</td>\n      <td>29.0</td>\n      <td>45.0</td>\n      <td>42.0</td>\n      <td>45.0</td>\n      <td>44.0</td>\n      <td>32.0</td>\n      <td>45.0</td>\n    </tr>\n    <tr>\n      <th>17979</th>\n      <td>17979</td>\n      <td>J. Lundstram</td>\n      <td>18</td>\n      <td>England</td>\n      <td>https://cdn.sofifa.org/flags/14.png</td>\n      <td>46</td>\n      <td>64</td>\n      <td>Crewe Alexandra</td>\n      <td>https://cdn.sofifa.org/24/18/teams/121.png</td>\n      <td>€60K</td>\n      <td>...</td>\n      <td>47.0</td>\n      <td>46.0</td>\n      <td>45.0</td>\n      <td>47.0</td>\n      <td>43.0</td>\n      <td>45.0</td>\n      <td>41.0</td>\n      <td>44.0</td>\n      <td>46.0</td>\n      <td>41.0</td>\n    </tr>\n    <tr>\n      <th>17980</th>\n      <td>17980</td>\n      <td>L. Sackey</td>\n      <td>18</td>\n      <td>Ghana</td>\n      <td>https://cdn.sofifa.org/flags/117.png</td>\n      <td>46</td>\n      <td>64</td>\n      <td>Scunthorpe United</td>\n      <td>https://cdn.sofifa.org/24/18/teams/1949.png</td>\n      <td>€50K</td>\n      <td>...</td>\n      <td>40.0</td>\n      <td>45.0</td>\n      <td>30.0</td>\n      <td>38.0</td>\n      <td>29.0</td>\n      <td>30.0</td>\n      <td>31.0</td>\n      <td>29.0</td>\n      <td>38.0</td>\n      <td>31.0</td>\n    </tr>\n  </tbody>\n</table>\n<p>17981 rows × 74 columns</p>\n</div>"
     },
     "execution_count": 84,
     "metadata": {},
     "output_type": "execute_result"
    }
   ],
   "source": [
    "# En este caso, eliminaremos la columna \"Photo\", ya que no nos interesa para el análisis por ser un simple enlace a la foto del jugador usada para la carta del jugador en el juego\n",
    "df_copy = df.copy()\n",
    "del df_copy['Photo']\n",
    "df_copy"
   ],
   "metadata": {
    "collapsed": false,
    "ExecuteTime": {
     "end_time": "2024-09-14T16:11:44.804553900Z",
     "start_time": "2024-09-14T16:11:44.638473200Z"
    }
   },
   "id": "ebc5030dc8c7612"
  },
  {
   "cell_type": "code",
   "execution_count": 85,
   "outputs": [
    {
     "data": {
      "text/plain": "       Unnamed: 0               Name  Age  \\\n0               0  Cristiano Ronaldo   32   \n1               1           L. Messi   30   \n2               2             Neymar   25   \n3               3          L. Suárez   30   \n4               4           M. Neuer   31   \n...           ...                ...  ...   \n17976       17976          A. Kelsey   17   \n17977       17977      B. Richardson   47   \n17978       17978           J. Young   17   \n17979       17979       J. Lundstram   18   \n17980       17980          L. Sackey   18   \n\n                                                 Photo Nationality  \\\n0       https://cdn.sofifa.org/48/18/players/20801.png    Portugal   \n1      https://cdn.sofifa.org/48/18/players/158023.png   Argentina   \n2      https://cdn.sofifa.org/48/18/players/190871.png      Brazil   \n3      https://cdn.sofifa.org/48/18/players/176580.png     Uruguay   \n4      https://cdn.sofifa.org/48/18/players/167495.png     Germany   \n...                                                ...         ...   \n17976  https://cdn.sofifa.org/48/18/players/237463.png     England   \n17977   https://cdn.sofifa.org/48/18/players/11728.png     England   \n17978  https://cdn.sofifa.org/48/18/players/231381.png    Scotland   \n17979  https://cdn.sofifa.org/48/18/players/238813.png     England   \n17980  https://cdn.sofifa.org/48/18/players/238308.png       Ghana   \n\n                                       Flag  Overall  Potential  \\\n0       https://cdn.sofifa.org/flags/38.png       94         94   \n1       https://cdn.sofifa.org/flags/52.png       93         93   \n2       https://cdn.sofifa.org/flags/54.png       92         94   \n3       https://cdn.sofifa.org/flags/60.png       92         92   \n4       https://cdn.sofifa.org/flags/21.png       92         92   \n...                                     ...      ...        ...   \n17976   https://cdn.sofifa.org/flags/14.png       46         63   \n17977   https://cdn.sofifa.org/flags/14.png       46         46   \n17978   https://cdn.sofifa.org/flags/42.png       46         61   \n17979   https://cdn.sofifa.org/flags/14.png       46         64   \n17980  https://cdn.sofifa.org/flags/117.png       46         64   \n\n                      Club                                    Club Logo  ...  \\\n0           Real Madrid CF   https://cdn.sofifa.org/24/18/teams/243.png  ...   \n1             FC Barcelona   https://cdn.sofifa.org/24/18/teams/241.png  ...   \n2      Paris Saint-Germain    https://cdn.sofifa.org/24/18/teams/73.png  ...   \n3             FC Barcelona   https://cdn.sofifa.org/24/18/teams/241.png  ...   \n4         FC Bayern Munich    https://cdn.sofifa.org/24/18/teams/21.png  ...   \n...                    ...                                          ...  ...   \n17976    Scunthorpe United  https://cdn.sofifa.org/24/18/teams/1949.png  ...   \n17977    Wycombe Wanderers  https://cdn.sofifa.org/24/18/teams/1933.png  ...   \n17978         Swindon Town  https://cdn.sofifa.org/24/18/teams/1934.png  ...   \n17979      Crewe Alexandra   https://cdn.sofifa.org/24/18/teams/121.png  ...   \n17980    Scunthorpe United  https://cdn.sofifa.org/24/18/teams/1949.png  ...   \n\n         RB   RCB   RCM   RDM    RF    RM    RS    RW   RWB    ST  \n0      61.0  53.0  82.0  62.0  91.0  89.0  92.0  91.0  66.0  92.0  \n1      57.0  45.0  84.0  59.0  92.0  90.0  88.0  91.0  62.0  88.0  \n2      59.0  46.0  79.0  59.0  88.0  87.0  84.0  89.0  64.0  84.0  \n3      64.0  58.0  80.0  65.0  88.0  85.0  88.0  87.0  68.0  88.0  \n4       NaN   NaN   NaN   NaN   NaN   NaN   NaN   NaN   NaN   NaN  \n...     ...   ...   ...   ...   ...   ...   ...   ...   ...   ...  \n17976   NaN   NaN   NaN   NaN   NaN   NaN   NaN   NaN   NaN   NaN  \n17977   NaN   NaN   NaN   NaN   NaN   NaN   NaN   NaN   NaN   NaN  \n17978  31.0  28.0  38.0  29.0  45.0  42.0  45.0  44.0  32.0  45.0  \n17979  47.0  46.0  45.0  47.0  43.0  45.0  41.0  44.0  46.0  41.0  \n17980  40.0  45.0  30.0  38.0  29.0  30.0  31.0  29.0  38.0  31.0  \n\n[17981 rows x 75 columns]",
      "text/html": "<div>\n<style scoped>\n    .dataframe tbody tr th:only-of-type {\n        vertical-align: middle;\n    }\n\n    .dataframe tbody tr th {\n        vertical-align: top;\n    }\n\n    .dataframe thead th {\n        text-align: right;\n    }\n</style>\n<table border=\"1\" class=\"dataframe\">\n  <thead>\n    <tr style=\"text-align: right;\">\n      <th></th>\n      <th>Unnamed: 0</th>\n      <th>Name</th>\n      <th>Age</th>\n      <th>Photo</th>\n      <th>Nationality</th>\n      <th>Flag</th>\n      <th>Overall</th>\n      <th>Potential</th>\n      <th>Club</th>\n      <th>Club Logo</th>\n      <th>...</th>\n      <th>RB</th>\n      <th>RCB</th>\n      <th>RCM</th>\n      <th>RDM</th>\n      <th>RF</th>\n      <th>RM</th>\n      <th>RS</th>\n      <th>RW</th>\n      <th>RWB</th>\n      <th>ST</th>\n    </tr>\n  </thead>\n  <tbody>\n    <tr>\n      <th>0</th>\n      <td>0</td>\n      <td>Cristiano Ronaldo</td>\n      <td>32</td>\n      <td>https://cdn.sofifa.org/48/18/players/20801.png</td>\n      <td>Portugal</td>\n      <td>https://cdn.sofifa.org/flags/38.png</td>\n      <td>94</td>\n      <td>94</td>\n      <td>Real Madrid CF</td>\n      <td>https://cdn.sofifa.org/24/18/teams/243.png</td>\n      <td>...</td>\n      <td>61.0</td>\n      <td>53.0</td>\n      <td>82.0</td>\n      <td>62.0</td>\n      <td>91.0</td>\n      <td>89.0</td>\n      <td>92.0</td>\n      <td>91.0</td>\n      <td>66.0</td>\n      <td>92.0</td>\n    </tr>\n    <tr>\n      <th>1</th>\n      <td>1</td>\n      <td>L. Messi</td>\n      <td>30</td>\n      <td>https://cdn.sofifa.org/48/18/players/158023.png</td>\n      <td>Argentina</td>\n      <td>https://cdn.sofifa.org/flags/52.png</td>\n      <td>93</td>\n      <td>93</td>\n      <td>FC Barcelona</td>\n      <td>https://cdn.sofifa.org/24/18/teams/241.png</td>\n      <td>...</td>\n      <td>57.0</td>\n      <td>45.0</td>\n      <td>84.0</td>\n      <td>59.0</td>\n      <td>92.0</td>\n      <td>90.0</td>\n      <td>88.0</td>\n      <td>91.0</td>\n      <td>62.0</td>\n      <td>88.0</td>\n    </tr>\n    <tr>\n      <th>2</th>\n      <td>2</td>\n      <td>Neymar</td>\n      <td>25</td>\n      <td>https://cdn.sofifa.org/48/18/players/190871.png</td>\n      <td>Brazil</td>\n      <td>https://cdn.sofifa.org/flags/54.png</td>\n      <td>92</td>\n      <td>94</td>\n      <td>Paris Saint-Germain</td>\n      <td>https://cdn.sofifa.org/24/18/teams/73.png</td>\n      <td>...</td>\n      <td>59.0</td>\n      <td>46.0</td>\n      <td>79.0</td>\n      <td>59.0</td>\n      <td>88.0</td>\n      <td>87.0</td>\n      <td>84.0</td>\n      <td>89.0</td>\n      <td>64.0</td>\n      <td>84.0</td>\n    </tr>\n    <tr>\n      <th>3</th>\n      <td>3</td>\n      <td>L. Suárez</td>\n      <td>30</td>\n      <td>https://cdn.sofifa.org/48/18/players/176580.png</td>\n      <td>Uruguay</td>\n      <td>https://cdn.sofifa.org/flags/60.png</td>\n      <td>92</td>\n      <td>92</td>\n      <td>FC Barcelona</td>\n      <td>https://cdn.sofifa.org/24/18/teams/241.png</td>\n      <td>...</td>\n      <td>64.0</td>\n      <td>58.0</td>\n      <td>80.0</td>\n      <td>65.0</td>\n      <td>88.0</td>\n      <td>85.0</td>\n      <td>88.0</td>\n      <td>87.0</td>\n      <td>68.0</td>\n      <td>88.0</td>\n    </tr>\n    <tr>\n      <th>4</th>\n      <td>4</td>\n      <td>M. Neuer</td>\n      <td>31</td>\n      <td>https://cdn.sofifa.org/48/18/players/167495.png</td>\n      <td>Germany</td>\n      <td>https://cdn.sofifa.org/flags/21.png</td>\n      <td>92</td>\n      <td>92</td>\n      <td>FC Bayern Munich</td>\n      <td>https://cdn.sofifa.org/24/18/teams/21.png</td>\n      <td>...</td>\n      <td>NaN</td>\n      <td>NaN</td>\n      <td>NaN</td>\n      <td>NaN</td>\n      <td>NaN</td>\n      <td>NaN</td>\n      <td>NaN</td>\n      <td>NaN</td>\n      <td>NaN</td>\n      <td>NaN</td>\n    </tr>\n    <tr>\n      <th>...</th>\n      <td>...</td>\n      <td>...</td>\n      <td>...</td>\n      <td>...</td>\n      <td>...</td>\n      <td>...</td>\n      <td>...</td>\n      <td>...</td>\n      <td>...</td>\n      <td>...</td>\n      <td>...</td>\n      <td>...</td>\n      <td>...</td>\n      <td>...</td>\n      <td>...</td>\n      <td>...</td>\n      <td>...</td>\n      <td>...</td>\n      <td>...</td>\n      <td>...</td>\n      <td>...</td>\n    </tr>\n    <tr>\n      <th>17976</th>\n      <td>17976</td>\n      <td>A. Kelsey</td>\n      <td>17</td>\n      <td>https://cdn.sofifa.org/48/18/players/237463.png</td>\n      <td>England</td>\n      <td>https://cdn.sofifa.org/flags/14.png</td>\n      <td>46</td>\n      <td>63</td>\n      <td>Scunthorpe United</td>\n      <td>https://cdn.sofifa.org/24/18/teams/1949.png</td>\n      <td>...</td>\n      <td>NaN</td>\n      <td>NaN</td>\n      <td>NaN</td>\n      <td>NaN</td>\n      <td>NaN</td>\n      <td>NaN</td>\n      <td>NaN</td>\n      <td>NaN</td>\n      <td>NaN</td>\n      <td>NaN</td>\n    </tr>\n    <tr>\n      <th>17977</th>\n      <td>17977</td>\n      <td>B. Richardson</td>\n      <td>47</td>\n      <td>https://cdn.sofifa.org/48/18/players/11728.png</td>\n      <td>England</td>\n      <td>https://cdn.sofifa.org/flags/14.png</td>\n      <td>46</td>\n      <td>46</td>\n      <td>Wycombe Wanderers</td>\n      <td>https://cdn.sofifa.org/24/18/teams/1933.png</td>\n      <td>...</td>\n      <td>NaN</td>\n      <td>NaN</td>\n      <td>NaN</td>\n      <td>NaN</td>\n      <td>NaN</td>\n      <td>NaN</td>\n      <td>NaN</td>\n      <td>NaN</td>\n      <td>NaN</td>\n      <td>NaN</td>\n    </tr>\n    <tr>\n      <th>17978</th>\n      <td>17978</td>\n      <td>J. Young</td>\n      <td>17</td>\n      <td>https://cdn.sofifa.org/48/18/players/231381.png</td>\n      <td>Scotland</td>\n      <td>https://cdn.sofifa.org/flags/42.png</td>\n      <td>46</td>\n      <td>61</td>\n      <td>Swindon Town</td>\n      <td>https://cdn.sofifa.org/24/18/teams/1934.png</td>\n      <td>...</td>\n      <td>31.0</td>\n      <td>28.0</td>\n      <td>38.0</td>\n      <td>29.0</td>\n      <td>45.0</td>\n      <td>42.0</td>\n      <td>45.0</td>\n      <td>44.0</td>\n      <td>32.0</td>\n      <td>45.0</td>\n    </tr>\n    <tr>\n      <th>17979</th>\n      <td>17979</td>\n      <td>J. Lundstram</td>\n      <td>18</td>\n      <td>https://cdn.sofifa.org/48/18/players/238813.png</td>\n      <td>England</td>\n      <td>https://cdn.sofifa.org/flags/14.png</td>\n      <td>46</td>\n      <td>64</td>\n      <td>Crewe Alexandra</td>\n      <td>https://cdn.sofifa.org/24/18/teams/121.png</td>\n      <td>...</td>\n      <td>47.0</td>\n      <td>46.0</td>\n      <td>45.0</td>\n      <td>47.0</td>\n      <td>43.0</td>\n      <td>45.0</td>\n      <td>41.0</td>\n      <td>44.0</td>\n      <td>46.0</td>\n      <td>41.0</td>\n    </tr>\n    <tr>\n      <th>17980</th>\n      <td>17980</td>\n      <td>L. Sackey</td>\n      <td>18</td>\n      <td>https://cdn.sofifa.org/48/18/players/238308.png</td>\n      <td>Ghana</td>\n      <td>https://cdn.sofifa.org/flags/117.png</td>\n      <td>46</td>\n      <td>64</td>\n      <td>Scunthorpe United</td>\n      <td>https://cdn.sofifa.org/24/18/teams/1949.png</td>\n      <td>...</td>\n      <td>40.0</td>\n      <td>45.0</td>\n      <td>30.0</td>\n      <td>38.0</td>\n      <td>29.0</td>\n      <td>30.0</td>\n      <td>31.0</td>\n      <td>29.0</td>\n      <td>38.0</td>\n      <td>31.0</td>\n    </tr>\n  </tbody>\n</table>\n<p>17981 rows × 75 columns</p>\n</div>"
     },
     "execution_count": 85,
     "metadata": {},
     "output_type": "execute_result"
    }
   ],
   "source": [
    "df # Como realizamos una copia, este cambio no se realiza en el dataframe original"
   ],
   "metadata": {
    "collapsed": false,
    "ExecuteTime": {
     "end_time": "2024-09-14T16:12:03.922097Z",
     "start_time": "2024-09-14T16:12:03.701567Z"
    }
   },
   "id": "8a2f7dcde5fe0cc3"
  },
  {
   "cell_type": "markdown",
   "source": [
    "## Manejo de indices"
   ],
   "metadata": {
    "collapsed": false
   },
   "id": "266bf49a7a744eff"
  },
  {
   "cell_type": "code",
   "execution_count": 86,
   "outputs": [
    {
     "data": {
      "text/plain": "                         Name  Age  \\\nUnnamed: 0                           \n0           Cristiano Ronaldo   32   \n1                    L. Messi   30   \n2                      Neymar   25   \n3                   L. Suárez   30   \n4                    M. Neuer   31   \n\n                                                      Photo Nationality  \\\nUnnamed: 0                                                                \n0            https://cdn.sofifa.org/48/18/players/20801.png    Portugal   \n1           https://cdn.sofifa.org/48/18/players/158023.png   Argentina   \n2           https://cdn.sofifa.org/48/18/players/190871.png      Brazil   \n3           https://cdn.sofifa.org/48/18/players/176580.png     Uruguay   \n4           https://cdn.sofifa.org/48/18/players/167495.png     Germany   \n\n                                           Flag  Overall  Potential  \\\nUnnamed: 0                                                            \n0           https://cdn.sofifa.org/flags/38.png       94         94   \n1           https://cdn.sofifa.org/flags/52.png       93         93   \n2           https://cdn.sofifa.org/flags/54.png       92         94   \n3           https://cdn.sofifa.org/flags/60.png       92         92   \n4           https://cdn.sofifa.org/flags/21.png       92         92   \n\n                           Club                                   Club Logo  \\\nUnnamed: 0                                                                    \n0                Real Madrid CF  https://cdn.sofifa.org/24/18/teams/243.png   \n1                  FC Barcelona  https://cdn.sofifa.org/24/18/teams/241.png   \n2           Paris Saint-Germain   https://cdn.sofifa.org/24/18/teams/73.png   \n3                  FC Barcelona  https://cdn.sofifa.org/24/18/teams/241.png   \n4              FC Bayern Munich   https://cdn.sofifa.org/24/18/teams/21.png   \n\n             Value  ...    RB   RCB   RCM   RDM    RF    RM    RS    RW   RWB  \\\nUnnamed: 0          ...                                                         \n0           €95.5M  ...  61.0  53.0  82.0  62.0  91.0  89.0  92.0  91.0  66.0   \n1            €105M  ...  57.0  45.0  84.0  59.0  92.0  90.0  88.0  91.0  62.0   \n2            €123M  ...  59.0  46.0  79.0  59.0  88.0  87.0  84.0  89.0  64.0   \n3             €97M  ...  64.0  58.0  80.0  65.0  88.0  85.0  88.0  87.0  68.0   \n4             €61M  ...   NaN   NaN   NaN   NaN   NaN   NaN   NaN   NaN   NaN   \n\n              ST  \nUnnamed: 0        \n0           92.0  \n1           88.0  \n2           84.0  \n3           88.0  \n4            NaN  \n\n[5 rows x 74 columns]",
      "text/html": "<div>\n<style scoped>\n    .dataframe tbody tr th:only-of-type {\n        vertical-align: middle;\n    }\n\n    .dataframe tbody tr th {\n        vertical-align: top;\n    }\n\n    .dataframe thead th {\n        text-align: right;\n    }\n</style>\n<table border=\"1\" class=\"dataframe\">\n  <thead>\n    <tr style=\"text-align: right;\">\n      <th></th>\n      <th>Name</th>\n      <th>Age</th>\n      <th>Photo</th>\n      <th>Nationality</th>\n      <th>Flag</th>\n      <th>Overall</th>\n      <th>Potential</th>\n      <th>Club</th>\n      <th>Club Logo</th>\n      <th>Value</th>\n      <th>...</th>\n      <th>RB</th>\n      <th>RCB</th>\n      <th>RCM</th>\n      <th>RDM</th>\n      <th>RF</th>\n      <th>RM</th>\n      <th>RS</th>\n      <th>RW</th>\n      <th>RWB</th>\n      <th>ST</th>\n    </tr>\n    <tr>\n      <th>Unnamed: 0</th>\n      <th></th>\n      <th></th>\n      <th></th>\n      <th></th>\n      <th></th>\n      <th></th>\n      <th></th>\n      <th></th>\n      <th></th>\n      <th></th>\n      <th></th>\n      <th></th>\n      <th></th>\n      <th></th>\n      <th></th>\n      <th></th>\n      <th></th>\n      <th></th>\n      <th></th>\n      <th></th>\n      <th></th>\n    </tr>\n  </thead>\n  <tbody>\n    <tr>\n      <th>0</th>\n      <td>Cristiano Ronaldo</td>\n      <td>32</td>\n      <td>https://cdn.sofifa.org/48/18/players/20801.png</td>\n      <td>Portugal</td>\n      <td>https://cdn.sofifa.org/flags/38.png</td>\n      <td>94</td>\n      <td>94</td>\n      <td>Real Madrid CF</td>\n      <td>https://cdn.sofifa.org/24/18/teams/243.png</td>\n      <td>€95.5M</td>\n      <td>...</td>\n      <td>61.0</td>\n      <td>53.0</td>\n      <td>82.0</td>\n      <td>62.0</td>\n      <td>91.0</td>\n      <td>89.0</td>\n      <td>92.0</td>\n      <td>91.0</td>\n      <td>66.0</td>\n      <td>92.0</td>\n    </tr>\n    <tr>\n      <th>1</th>\n      <td>L. Messi</td>\n      <td>30</td>\n      <td>https://cdn.sofifa.org/48/18/players/158023.png</td>\n      <td>Argentina</td>\n      <td>https://cdn.sofifa.org/flags/52.png</td>\n      <td>93</td>\n      <td>93</td>\n      <td>FC Barcelona</td>\n      <td>https://cdn.sofifa.org/24/18/teams/241.png</td>\n      <td>€105M</td>\n      <td>...</td>\n      <td>57.0</td>\n      <td>45.0</td>\n      <td>84.0</td>\n      <td>59.0</td>\n      <td>92.0</td>\n      <td>90.0</td>\n      <td>88.0</td>\n      <td>91.0</td>\n      <td>62.0</td>\n      <td>88.0</td>\n    </tr>\n    <tr>\n      <th>2</th>\n      <td>Neymar</td>\n      <td>25</td>\n      <td>https://cdn.sofifa.org/48/18/players/190871.png</td>\n      <td>Brazil</td>\n      <td>https://cdn.sofifa.org/flags/54.png</td>\n      <td>92</td>\n      <td>94</td>\n      <td>Paris Saint-Germain</td>\n      <td>https://cdn.sofifa.org/24/18/teams/73.png</td>\n      <td>€123M</td>\n      <td>...</td>\n      <td>59.0</td>\n      <td>46.0</td>\n      <td>79.0</td>\n      <td>59.0</td>\n      <td>88.0</td>\n      <td>87.0</td>\n      <td>84.0</td>\n      <td>89.0</td>\n      <td>64.0</td>\n      <td>84.0</td>\n    </tr>\n    <tr>\n      <th>3</th>\n      <td>L. Suárez</td>\n      <td>30</td>\n      <td>https://cdn.sofifa.org/48/18/players/176580.png</td>\n      <td>Uruguay</td>\n      <td>https://cdn.sofifa.org/flags/60.png</td>\n      <td>92</td>\n      <td>92</td>\n      <td>FC Barcelona</td>\n      <td>https://cdn.sofifa.org/24/18/teams/241.png</td>\n      <td>€97M</td>\n      <td>...</td>\n      <td>64.0</td>\n      <td>58.0</td>\n      <td>80.0</td>\n      <td>65.0</td>\n      <td>88.0</td>\n      <td>85.0</td>\n      <td>88.0</td>\n      <td>87.0</td>\n      <td>68.0</td>\n      <td>88.0</td>\n    </tr>\n    <tr>\n      <th>4</th>\n      <td>M. Neuer</td>\n      <td>31</td>\n      <td>https://cdn.sofifa.org/48/18/players/167495.png</td>\n      <td>Germany</td>\n      <td>https://cdn.sofifa.org/flags/21.png</td>\n      <td>92</td>\n      <td>92</td>\n      <td>FC Bayern Munich</td>\n      <td>https://cdn.sofifa.org/24/18/teams/21.png</td>\n      <td>€61M</td>\n      <td>...</td>\n      <td>NaN</td>\n      <td>NaN</td>\n      <td>NaN</td>\n      <td>NaN</td>\n      <td>NaN</td>\n      <td>NaN</td>\n      <td>NaN</td>\n      <td>NaN</td>\n      <td>NaN</td>\n      <td>NaN</td>\n    </tr>\n  </tbody>\n</table>\n<p>5 rows × 74 columns</p>\n</div>"
     },
     "execution_count": 86,
     "metadata": {},
     "output_type": "execute_result"
    }
   ],
   "source": [
    "df = df.set_index('Unnamed: 0') # Podemos establecer un índice específico, en este caso, el índice será el de la primera columna, pues se hace repetitivo con el que se tenía\n",
    "df.head()"
   ],
   "metadata": {
    "collapsed": false,
    "ExecuteTime": {
     "end_time": "2024-09-14T16:12:51.067952800Z",
     "start_time": "2024-09-14T16:12:50.925735100Z"
    }
   },
   "id": "28b55e703d6d9661"
  },
  {
   "cell_type": "code",
   "execution_count": 87,
   "outputs": [
    {
     "data": {
      "text/plain": "   Unnamed: 0               Name  Age  \\\n0           0  Cristiano Ronaldo   32   \n1           1           L. Messi   30   \n2           2             Neymar   25   \n3           3          L. Suárez   30   \n4           4           M. Neuer   31   \n\n                                             Photo Nationality  \\\n0   https://cdn.sofifa.org/48/18/players/20801.png    Portugal   \n1  https://cdn.sofifa.org/48/18/players/158023.png   Argentina   \n2  https://cdn.sofifa.org/48/18/players/190871.png      Brazil   \n3  https://cdn.sofifa.org/48/18/players/176580.png     Uruguay   \n4  https://cdn.sofifa.org/48/18/players/167495.png     Germany   \n\n                                  Flag  Overall  Potential  \\\n0  https://cdn.sofifa.org/flags/38.png       94         94   \n1  https://cdn.sofifa.org/flags/52.png       93         93   \n2  https://cdn.sofifa.org/flags/54.png       92         94   \n3  https://cdn.sofifa.org/flags/60.png       92         92   \n4  https://cdn.sofifa.org/flags/21.png       92         92   \n\n                  Club                                   Club Logo  ...    RB  \\\n0       Real Madrid CF  https://cdn.sofifa.org/24/18/teams/243.png  ...  61.0   \n1         FC Barcelona  https://cdn.sofifa.org/24/18/teams/241.png  ...  57.0   \n2  Paris Saint-Germain   https://cdn.sofifa.org/24/18/teams/73.png  ...  59.0   \n3         FC Barcelona  https://cdn.sofifa.org/24/18/teams/241.png  ...  64.0   \n4     FC Bayern Munich   https://cdn.sofifa.org/24/18/teams/21.png  ...   NaN   \n\n    RCB   RCM   RDM    RF    RM    RS    RW   RWB    ST  \n0  53.0  82.0  62.0  91.0  89.0  92.0  91.0  66.0  92.0  \n1  45.0  84.0  59.0  92.0  90.0  88.0  91.0  62.0  88.0  \n2  46.0  79.0  59.0  88.0  87.0  84.0  89.0  64.0  84.0  \n3  58.0  80.0  65.0  88.0  85.0  88.0  87.0  68.0  88.0  \n4   NaN   NaN   NaN   NaN   NaN   NaN   NaN   NaN   NaN  \n\n[5 rows x 75 columns]",
      "text/html": "<div>\n<style scoped>\n    .dataframe tbody tr th:only-of-type {\n        vertical-align: middle;\n    }\n\n    .dataframe tbody tr th {\n        vertical-align: top;\n    }\n\n    .dataframe thead th {\n        text-align: right;\n    }\n</style>\n<table border=\"1\" class=\"dataframe\">\n  <thead>\n    <tr style=\"text-align: right;\">\n      <th></th>\n      <th>Unnamed: 0</th>\n      <th>Name</th>\n      <th>Age</th>\n      <th>Photo</th>\n      <th>Nationality</th>\n      <th>Flag</th>\n      <th>Overall</th>\n      <th>Potential</th>\n      <th>Club</th>\n      <th>Club Logo</th>\n      <th>...</th>\n      <th>RB</th>\n      <th>RCB</th>\n      <th>RCM</th>\n      <th>RDM</th>\n      <th>RF</th>\n      <th>RM</th>\n      <th>RS</th>\n      <th>RW</th>\n      <th>RWB</th>\n      <th>ST</th>\n    </tr>\n  </thead>\n  <tbody>\n    <tr>\n      <th>0</th>\n      <td>0</td>\n      <td>Cristiano Ronaldo</td>\n      <td>32</td>\n      <td>https://cdn.sofifa.org/48/18/players/20801.png</td>\n      <td>Portugal</td>\n      <td>https://cdn.sofifa.org/flags/38.png</td>\n      <td>94</td>\n      <td>94</td>\n      <td>Real Madrid CF</td>\n      <td>https://cdn.sofifa.org/24/18/teams/243.png</td>\n      <td>...</td>\n      <td>61.0</td>\n      <td>53.0</td>\n      <td>82.0</td>\n      <td>62.0</td>\n      <td>91.0</td>\n      <td>89.0</td>\n      <td>92.0</td>\n      <td>91.0</td>\n      <td>66.0</td>\n      <td>92.0</td>\n    </tr>\n    <tr>\n      <th>1</th>\n      <td>1</td>\n      <td>L. Messi</td>\n      <td>30</td>\n      <td>https://cdn.sofifa.org/48/18/players/158023.png</td>\n      <td>Argentina</td>\n      <td>https://cdn.sofifa.org/flags/52.png</td>\n      <td>93</td>\n      <td>93</td>\n      <td>FC Barcelona</td>\n      <td>https://cdn.sofifa.org/24/18/teams/241.png</td>\n      <td>...</td>\n      <td>57.0</td>\n      <td>45.0</td>\n      <td>84.0</td>\n      <td>59.0</td>\n      <td>92.0</td>\n      <td>90.0</td>\n      <td>88.0</td>\n      <td>91.0</td>\n      <td>62.0</td>\n      <td>88.0</td>\n    </tr>\n    <tr>\n      <th>2</th>\n      <td>2</td>\n      <td>Neymar</td>\n      <td>25</td>\n      <td>https://cdn.sofifa.org/48/18/players/190871.png</td>\n      <td>Brazil</td>\n      <td>https://cdn.sofifa.org/flags/54.png</td>\n      <td>92</td>\n      <td>94</td>\n      <td>Paris Saint-Germain</td>\n      <td>https://cdn.sofifa.org/24/18/teams/73.png</td>\n      <td>...</td>\n      <td>59.0</td>\n      <td>46.0</td>\n      <td>79.0</td>\n      <td>59.0</td>\n      <td>88.0</td>\n      <td>87.0</td>\n      <td>84.0</td>\n      <td>89.0</td>\n      <td>64.0</td>\n      <td>84.0</td>\n    </tr>\n    <tr>\n      <th>3</th>\n      <td>3</td>\n      <td>L. Suárez</td>\n      <td>30</td>\n      <td>https://cdn.sofifa.org/48/18/players/176580.png</td>\n      <td>Uruguay</td>\n      <td>https://cdn.sofifa.org/flags/60.png</td>\n      <td>92</td>\n      <td>92</td>\n      <td>FC Barcelona</td>\n      <td>https://cdn.sofifa.org/24/18/teams/241.png</td>\n      <td>...</td>\n      <td>64.0</td>\n      <td>58.0</td>\n      <td>80.0</td>\n      <td>65.0</td>\n      <td>88.0</td>\n      <td>85.0</td>\n      <td>88.0</td>\n      <td>87.0</td>\n      <td>68.0</td>\n      <td>88.0</td>\n    </tr>\n    <tr>\n      <th>4</th>\n      <td>4</td>\n      <td>M. Neuer</td>\n      <td>31</td>\n      <td>https://cdn.sofifa.org/48/18/players/167495.png</td>\n      <td>Germany</td>\n      <td>https://cdn.sofifa.org/flags/21.png</td>\n      <td>92</td>\n      <td>92</td>\n      <td>FC Bayern Munich</td>\n      <td>https://cdn.sofifa.org/24/18/teams/21.png</td>\n      <td>...</td>\n      <td>NaN</td>\n      <td>NaN</td>\n      <td>NaN</td>\n      <td>NaN</td>\n      <td>NaN</td>\n      <td>NaN</td>\n      <td>NaN</td>\n      <td>NaN</td>\n      <td>NaN</td>\n      <td>NaN</td>\n    </tr>\n  </tbody>\n</table>\n<p>5 rows × 75 columns</p>\n</div>"
     },
     "execution_count": 87,
     "metadata": {},
     "output_type": "execute_result"
    }
   ],
   "source": [
    "df = df.reset_index() # Podemos resetear el índice, en este caso, se establecerá un índice numérico\n",
    "df.head()"
   ],
   "metadata": {
    "collapsed": false,
    "ExecuteTime": {
     "end_time": "2024-09-14T16:13:01.076333300Z",
     "start_time": "2024-09-14T16:13:00.868265900Z"
    }
   },
   "id": "7ef8747b06ea6e78"
  },
  {
   "cell_type": "markdown",
   "source": [
    "## Modificación de registros"
   ],
   "metadata": {
    "collapsed": false
   },
   "id": "761a97716b4d93ac"
  },
  {
   "cell_type": "code",
   "execution_count": 88,
   "outputs": [
    {
     "data": {
      "text/plain": "Unnamed: 0       int64\nName            object\nAge              int64\nPhoto           object\nNationality     object\n                ...   \nRM             float64\nRS             float64\nRW             float64\nRWB            float64\nST             float64\nLength: 75, dtype: object"
     },
     "execution_count": 88,
     "metadata": {},
     "output_type": "execute_result"
    }
   ],
   "source": [
    "df.dtypes # Nos muestra el tipo de dato de cada columna"
   ],
   "metadata": {
    "collapsed": false,
    "ExecuteTime": {
     "end_time": "2024-09-14T16:13:09.989217500Z",
     "start_time": "2024-09-14T16:13:09.873140Z"
    }
   },
   "id": "798e95e0ef6eaae9"
  },
  {
   "cell_type": "code",
   "execution_count": 89,
   "outputs": [
    {
     "data": {
      "text/plain": "0        94\n1        93\n2        94\n3        92\n4        92\n         ..\n17976    63\n17977    46\n17978    61\n17979    64\n17980    64\nName: Potential, Length: 17981, dtype: int64"
     },
     "execution_count": 89,
     "metadata": {},
     "output_type": "execute_result"
    }
   ],
   "source": [
    "df['Potential'] # Podemos acceder a una columna específica, en este caso queremos ver el potencial de los jugadores, puede ser útil para ver jugadores jóvenes con mejor potencial, sin necesidad de saber su nombre"
   ],
   "metadata": {
    "collapsed": false,
    "ExecuteTime": {
     "end_time": "2024-09-14T16:14:02.899533800Z",
     "start_time": "2024-09-14T16:14:02.816823600Z"
    }
   },
   "id": "a16300ed38015b49"
  },
  {
   "cell_type": "code",
   "execution_count": 90,
   "outputs": [
    {
     "data": {
      "text/plain": "0        99\n1        98\n2        99\n3        97\n4        97\n         ..\n17976    68\n17977    51\n17978    66\n17979    69\n17980    69\nName: Potential, Length: 17981, dtype: int64"
     },
     "execution_count": 90,
     "metadata": {},
     "output_type": "execute_result"
    }
   ],
   "source": [
    "df['Potential'] = df['Potential'] + 5 # Podemos modificar el potencial de los jugadores, en este caso, aumentamos en 5 el potencial de cada jugador, puede ser útil para alguna simulación, o algún evento específico\n",
    "df['Potential']"
   ],
   "metadata": {
    "collapsed": false,
    "ExecuteTime": {
     "end_time": "2024-09-14T16:14:55.741325300Z",
     "start_time": "2024-09-14T16:14:55.642788500Z"
    }
   },
   "id": "c399e9bba65da7ba"
  },
  {
   "cell_type": "code",
   "execution_count": 91,
   "outputs": [
    {
     "data": {
      "text/plain": "0        94\n1        93\n2        94\n3        92\n4        92\n         ..\n17976    63\n17977    46\n17978    61\n17979    64\n17980    64\nName: Potential, Length: 17981, dtype: int64"
     },
     "execution_count": 91,
     "metadata": {},
     "output_type": "execute_result"
    }
   ],
   "source": [
    "df['Potential'] = df['Potential'] - 5 # Volvemos al potencial original de los jugadores\n",
    "df['Potential']"
   ],
   "metadata": {
    "collapsed": false,
    "ExecuteTime": {
     "end_time": "2024-09-14T16:15:16.525482800Z",
     "start_time": "2024-09-14T16:15:16.464843600Z"
    }
   },
   "id": "4b75fc5bf06961f7"
  },
  {
   "cell_type": "code",
   "execution_count": 92,
   "outputs": [
    {
     "name": "stderr",
     "output_type": "stream",
     "text": [
      "C:\\Users\\David\\AppData\\Local\\Temp\\ipykernel_3240\\2416763276.py:1: SettingWithCopyWarning: \n",
      "A value is trying to be set on a copy of a slice from a DataFrame\n",
      "\n",
      "See the caveats in the documentation: https://pandas.pydata.org/pandas-docs/stable/user_guide/indexing.html#returning-a-view-versus-a-copy\n",
      "  df['Name'][1] = 'Julián Alvarez' # Podemos modificar el nombre de un jugador específico, el valor del registro de un atributo específico\n"
     ]
    },
    {
     "data": {
      "text/plain": "       Unnamed: 0               Name  Age  \\\n0               0  Cristiano Ronaldo   32   \n1               1     Julián Alvarez   30   \n2               2             Neymar   25   \n3               3          L. Suárez   30   \n4               4           M. Neuer   31   \n...           ...                ...  ...   \n17976       17976          A. Kelsey   17   \n17977       17977      B. Richardson   47   \n17978       17978           J. Young   17   \n17979       17979       J. Lundstram   18   \n17980       17980          L. Sackey   18   \n\n                                                 Photo Nationality  \\\n0       https://cdn.sofifa.org/48/18/players/20801.png    Portugal   \n1      https://cdn.sofifa.org/48/18/players/158023.png   Argentina   \n2      https://cdn.sofifa.org/48/18/players/190871.png      Brazil   \n3      https://cdn.sofifa.org/48/18/players/176580.png     Uruguay   \n4      https://cdn.sofifa.org/48/18/players/167495.png     Germany   \n...                                                ...         ...   \n17976  https://cdn.sofifa.org/48/18/players/237463.png     England   \n17977   https://cdn.sofifa.org/48/18/players/11728.png     England   \n17978  https://cdn.sofifa.org/48/18/players/231381.png    Scotland   \n17979  https://cdn.sofifa.org/48/18/players/238813.png     England   \n17980  https://cdn.sofifa.org/48/18/players/238308.png       Ghana   \n\n                                       Flag  Overall  Potential  \\\n0       https://cdn.sofifa.org/flags/38.png       94         94   \n1       https://cdn.sofifa.org/flags/52.png       93         93   \n2       https://cdn.sofifa.org/flags/54.png       92         94   \n3       https://cdn.sofifa.org/flags/60.png       92         92   \n4       https://cdn.sofifa.org/flags/21.png       92         92   \n...                                     ...      ...        ...   \n17976   https://cdn.sofifa.org/flags/14.png       46         63   \n17977   https://cdn.sofifa.org/flags/14.png       46         46   \n17978   https://cdn.sofifa.org/flags/42.png       46         61   \n17979   https://cdn.sofifa.org/flags/14.png       46         64   \n17980  https://cdn.sofifa.org/flags/117.png       46         64   \n\n                      Club                                    Club Logo  ...  \\\n0           Real Madrid CF   https://cdn.sofifa.org/24/18/teams/243.png  ...   \n1             FC Barcelona   https://cdn.sofifa.org/24/18/teams/241.png  ...   \n2      Paris Saint-Germain    https://cdn.sofifa.org/24/18/teams/73.png  ...   \n3             FC Barcelona   https://cdn.sofifa.org/24/18/teams/241.png  ...   \n4         FC Bayern Munich    https://cdn.sofifa.org/24/18/teams/21.png  ...   \n...                    ...                                          ...  ...   \n17976    Scunthorpe United  https://cdn.sofifa.org/24/18/teams/1949.png  ...   \n17977    Wycombe Wanderers  https://cdn.sofifa.org/24/18/teams/1933.png  ...   \n17978         Swindon Town  https://cdn.sofifa.org/24/18/teams/1934.png  ...   \n17979      Crewe Alexandra   https://cdn.sofifa.org/24/18/teams/121.png  ...   \n17980    Scunthorpe United  https://cdn.sofifa.org/24/18/teams/1949.png  ...   \n\n         RB   RCB   RCM   RDM    RF    RM    RS    RW   RWB    ST  \n0      61.0  53.0  82.0  62.0  91.0  89.0  92.0  91.0  66.0  92.0  \n1      57.0  45.0  84.0  59.0  92.0  90.0  88.0  91.0  62.0  88.0  \n2      59.0  46.0  79.0  59.0  88.0  87.0  84.0  89.0  64.0  84.0  \n3      64.0  58.0  80.0  65.0  88.0  85.0  88.0  87.0  68.0  88.0  \n4       NaN   NaN   NaN   NaN   NaN   NaN   NaN   NaN   NaN   NaN  \n...     ...   ...   ...   ...   ...   ...   ...   ...   ...   ...  \n17976   NaN   NaN   NaN   NaN   NaN   NaN   NaN   NaN   NaN   NaN  \n17977   NaN   NaN   NaN   NaN   NaN   NaN   NaN   NaN   NaN   NaN  \n17978  31.0  28.0  38.0  29.0  45.0  42.0  45.0  44.0  32.0  45.0  \n17979  47.0  46.0  45.0  47.0  43.0  45.0  41.0  44.0  46.0  41.0  \n17980  40.0  45.0  30.0  38.0  29.0  30.0  31.0  29.0  38.0  31.0  \n\n[17981 rows x 75 columns]",
      "text/html": "<div>\n<style scoped>\n    .dataframe tbody tr th:only-of-type {\n        vertical-align: middle;\n    }\n\n    .dataframe tbody tr th {\n        vertical-align: top;\n    }\n\n    .dataframe thead th {\n        text-align: right;\n    }\n</style>\n<table border=\"1\" class=\"dataframe\">\n  <thead>\n    <tr style=\"text-align: right;\">\n      <th></th>\n      <th>Unnamed: 0</th>\n      <th>Name</th>\n      <th>Age</th>\n      <th>Photo</th>\n      <th>Nationality</th>\n      <th>Flag</th>\n      <th>Overall</th>\n      <th>Potential</th>\n      <th>Club</th>\n      <th>Club Logo</th>\n      <th>...</th>\n      <th>RB</th>\n      <th>RCB</th>\n      <th>RCM</th>\n      <th>RDM</th>\n      <th>RF</th>\n      <th>RM</th>\n      <th>RS</th>\n      <th>RW</th>\n      <th>RWB</th>\n      <th>ST</th>\n    </tr>\n  </thead>\n  <tbody>\n    <tr>\n      <th>0</th>\n      <td>0</td>\n      <td>Cristiano Ronaldo</td>\n      <td>32</td>\n      <td>https://cdn.sofifa.org/48/18/players/20801.png</td>\n      <td>Portugal</td>\n      <td>https://cdn.sofifa.org/flags/38.png</td>\n      <td>94</td>\n      <td>94</td>\n      <td>Real Madrid CF</td>\n      <td>https://cdn.sofifa.org/24/18/teams/243.png</td>\n      <td>...</td>\n      <td>61.0</td>\n      <td>53.0</td>\n      <td>82.0</td>\n      <td>62.0</td>\n      <td>91.0</td>\n      <td>89.0</td>\n      <td>92.0</td>\n      <td>91.0</td>\n      <td>66.0</td>\n      <td>92.0</td>\n    </tr>\n    <tr>\n      <th>1</th>\n      <td>1</td>\n      <td>Julián Alvarez</td>\n      <td>30</td>\n      <td>https://cdn.sofifa.org/48/18/players/158023.png</td>\n      <td>Argentina</td>\n      <td>https://cdn.sofifa.org/flags/52.png</td>\n      <td>93</td>\n      <td>93</td>\n      <td>FC Barcelona</td>\n      <td>https://cdn.sofifa.org/24/18/teams/241.png</td>\n      <td>...</td>\n      <td>57.0</td>\n      <td>45.0</td>\n      <td>84.0</td>\n      <td>59.0</td>\n      <td>92.0</td>\n      <td>90.0</td>\n      <td>88.0</td>\n      <td>91.0</td>\n      <td>62.0</td>\n      <td>88.0</td>\n    </tr>\n    <tr>\n      <th>2</th>\n      <td>2</td>\n      <td>Neymar</td>\n      <td>25</td>\n      <td>https://cdn.sofifa.org/48/18/players/190871.png</td>\n      <td>Brazil</td>\n      <td>https://cdn.sofifa.org/flags/54.png</td>\n      <td>92</td>\n      <td>94</td>\n      <td>Paris Saint-Germain</td>\n      <td>https://cdn.sofifa.org/24/18/teams/73.png</td>\n      <td>...</td>\n      <td>59.0</td>\n      <td>46.0</td>\n      <td>79.0</td>\n      <td>59.0</td>\n      <td>88.0</td>\n      <td>87.0</td>\n      <td>84.0</td>\n      <td>89.0</td>\n      <td>64.0</td>\n      <td>84.0</td>\n    </tr>\n    <tr>\n      <th>3</th>\n      <td>3</td>\n      <td>L. Suárez</td>\n      <td>30</td>\n      <td>https://cdn.sofifa.org/48/18/players/176580.png</td>\n      <td>Uruguay</td>\n      <td>https://cdn.sofifa.org/flags/60.png</td>\n      <td>92</td>\n      <td>92</td>\n      <td>FC Barcelona</td>\n      <td>https://cdn.sofifa.org/24/18/teams/241.png</td>\n      <td>...</td>\n      <td>64.0</td>\n      <td>58.0</td>\n      <td>80.0</td>\n      <td>65.0</td>\n      <td>88.0</td>\n      <td>85.0</td>\n      <td>88.0</td>\n      <td>87.0</td>\n      <td>68.0</td>\n      <td>88.0</td>\n    </tr>\n    <tr>\n      <th>4</th>\n      <td>4</td>\n      <td>M. Neuer</td>\n      <td>31</td>\n      <td>https://cdn.sofifa.org/48/18/players/167495.png</td>\n      <td>Germany</td>\n      <td>https://cdn.sofifa.org/flags/21.png</td>\n      <td>92</td>\n      <td>92</td>\n      <td>FC Bayern Munich</td>\n      <td>https://cdn.sofifa.org/24/18/teams/21.png</td>\n      <td>...</td>\n      <td>NaN</td>\n      <td>NaN</td>\n      <td>NaN</td>\n      <td>NaN</td>\n      <td>NaN</td>\n      <td>NaN</td>\n      <td>NaN</td>\n      <td>NaN</td>\n      <td>NaN</td>\n      <td>NaN</td>\n    </tr>\n    <tr>\n      <th>...</th>\n      <td>...</td>\n      <td>...</td>\n      <td>...</td>\n      <td>...</td>\n      <td>...</td>\n      <td>...</td>\n      <td>...</td>\n      <td>...</td>\n      <td>...</td>\n      <td>...</td>\n      <td>...</td>\n      <td>...</td>\n      <td>...</td>\n      <td>...</td>\n      <td>...</td>\n      <td>...</td>\n      <td>...</td>\n      <td>...</td>\n      <td>...</td>\n      <td>...</td>\n      <td>...</td>\n    </tr>\n    <tr>\n      <th>17976</th>\n      <td>17976</td>\n      <td>A. Kelsey</td>\n      <td>17</td>\n      <td>https://cdn.sofifa.org/48/18/players/237463.png</td>\n      <td>England</td>\n      <td>https://cdn.sofifa.org/flags/14.png</td>\n      <td>46</td>\n      <td>63</td>\n      <td>Scunthorpe United</td>\n      <td>https://cdn.sofifa.org/24/18/teams/1949.png</td>\n      <td>...</td>\n      <td>NaN</td>\n      <td>NaN</td>\n      <td>NaN</td>\n      <td>NaN</td>\n      <td>NaN</td>\n      <td>NaN</td>\n      <td>NaN</td>\n      <td>NaN</td>\n      <td>NaN</td>\n      <td>NaN</td>\n    </tr>\n    <tr>\n      <th>17977</th>\n      <td>17977</td>\n      <td>B. Richardson</td>\n      <td>47</td>\n      <td>https://cdn.sofifa.org/48/18/players/11728.png</td>\n      <td>England</td>\n      <td>https://cdn.sofifa.org/flags/14.png</td>\n      <td>46</td>\n      <td>46</td>\n      <td>Wycombe Wanderers</td>\n      <td>https://cdn.sofifa.org/24/18/teams/1933.png</td>\n      <td>...</td>\n      <td>NaN</td>\n      <td>NaN</td>\n      <td>NaN</td>\n      <td>NaN</td>\n      <td>NaN</td>\n      <td>NaN</td>\n      <td>NaN</td>\n      <td>NaN</td>\n      <td>NaN</td>\n      <td>NaN</td>\n    </tr>\n    <tr>\n      <th>17978</th>\n      <td>17978</td>\n      <td>J. Young</td>\n      <td>17</td>\n      <td>https://cdn.sofifa.org/48/18/players/231381.png</td>\n      <td>Scotland</td>\n      <td>https://cdn.sofifa.org/flags/42.png</td>\n      <td>46</td>\n      <td>61</td>\n      <td>Swindon Town</td>\n      <td>https://cdn.sofifa.org/24/18/teams/1934.png</td>\n      <td>...</td>\n      <td>31.0</td>\n      <td>28.0</td>\n      <td>38.0</td>\n      <td>29.0</td>\n      <td>45.0</td>\n      <td>42.0</td>\n      <td>45.0</td>\n      <td>44.0</td>\n      <td>32.0</td>\n      <td>45.0</td>\n    </tr>\n    <tr>\n      <th>17979</th>\n      <td>17979</td>\n      <td>J. Lundstram</td>\n      <td>18</td>\n      <td>https://cdn.sofifa.org/48/18/players/238813.png</td>\n      <td>England</td>\n      <td>https://cdn.sofifa.org/flags/14.png</td>\n      <td>46</td>\n      <td>64</td>\n      <td>Crewe Alexandra</td>\n      <td>https://cdn.sofifa.org/24/18/teams/121.png</td>\n      <td>...</td>\n      <td>47.0</td>\n      <td>46.0</td>\n      <td>45.0</td>\n      <td>47.0</td>\n      <td>43.0</td>\n      <td>45.0</td>\n      <td>41.0</td>\n      <td>44.0</td>\n      <td>46.0</td>\n      <td>41.0</td>\n    </tr>\n    <tr>\n      <th>17980</th>\n      <td>17980</td>\n      <td>L. Sackey</td>\n      <td>18</td>\n      <td>https://cdn.sofifa.org/48/18/players/238308.png</td>\n      <td>Ghana</td>\n      <td>https://cdn.sofifa.org/flags/117.png</td>\n      <td>46</td>\n      <td>64</td>\n      <td>Scunthorpe United</td>\n      <td>https://cdn.sofifa.org/24/18/teams/1949.png</td>\n      <td>...</td>\n      <td>40.0</td>\n      <td>45.0</td>\n      <td>30.0</td>\n      <td>38.0</td>\n      <td>29.0</td>\n      <td>30.0</td>\n      <td>31.0</td>\n      <td>29.0</td>\n      <td>38.0</td>\n      <td>31.0</td>\n    </tr>\n  </tbody>\n</table>\n<p>17981 rows × 75 columns</p>\n</div>"
     },
     "execution_count": 92,
     "metadata": {},
     "output_type": "execute_result"
    }
   ],
   "source": [
    "df['Name'][1] = 'Julián Alvarez' # Podemos modificar el nombre de un jugador específico, el valor del registro de un atributo específico\n",
    "df"
   ],
   "metadata": {
    "collapsed": false,
    "ExecuteTime": {
     "end_time": "2024-09-14T16:15:54.145767600Z",
     "start_time": "2024-09-14T16:15:53.977902400Z"
    }
   },
   "id": "d9d5053a3803581"
  },
  {
   "cell_type": "markdown",
   "source": [
    "## Consultas"
   ],
   "metadata": {
    "collapsed": false
   },
   "id": "38e999250d349962"
  },
  {
   "cell_type": "code",
   "execution_count": 93,
   "outputs": [
    {
     "data": {
      "text/plain": "0        False\n1         True\n2        False\n3        False\n4        False\n         ...  \n17976    False\n17977    False\n17978    False\n17979    False\n17980    False\nName: Nationality, Length: 17981, dtype: bool"
     },
     "execution_count": 93,
     "metadata": {},
     "output_type": "execute_result"
    }
   ],
   "source": [
    "df['Nationality'] == 'Argentina' # Podemos realizar una consulta para ver si un jugador es de nacionalidad argentina, esto puede ser útil para ver jugadores de una nacionalidad específica"
   ],
   "metadata": {
    "collapsed": false,
    "ExecuteTime": {
     "end_time": "2024-09-14T16:16:21.727884100Z",
     "start_time": "2024-09-14T16:16:21.617825100Z"
    }
   },
   "id": "1fe84e44490dacd2"
  },
  {
   "cell_type": "code",
   "execution_count": 94,
   "outputs": [
    {
     "data": {
      "text/plain": "       Unnamed: 0          Name  Age  \\\n47             47  J. Rodríguez   25   \n121           121        Falcao   31   \n216           216      C. Bacca   30   \n245           245   J. Cuadrado   29   \n304           304    D. Sánchez   21   \n...           ...           ...  ...   \n17768       17768     E. Torres   19   \n17801       17801       A. Mora   18   \n17876       17876    J. Giraldo   19   \n17905       17905    A. Ordóñez   20   \n17928       17928      J. Cuero   17   \n\n                                                 Photo Nationality  \\\n47     https://cdn.sofifa.org/48/18/players/198710.png    Colombia   \n121    https://cdn.sofifa.org/48/18/players/167397.png    Colombia   \n216    https://cdn.sofifa.org/48/18/players/207664.png    Colombia   \n245    https://cdn.sofifa.org/48/18/players/193082.png    Colombia   \n304    https://cdn.sofifa.org/48/18/players/220793.png    Colombia   \n...                                                ...         ...   \n17768  https://cdn.sofifa.org/48/18/players/236539.png    Colombia   \n17801  https://cdn.sofifa.org/48/18/players/237643.png    Colombia   \n17876  https://cdn.sofifa.org/48/18/players/241134.png    Colombia   \n17905  https://cdn.sofifa.org/48/18/players/241021.png    Colombia   \n17928  https://cdn.sofifa.org/48/18/players/240102.png    Colombia   \n\n                                      Flag  Overall  Potential  \\\n47     https://cdn.sofifa.org/flags/56.png       86         89   \n121    https://cdn.sofifa.org/flags/56.png       84         84   \n216    https://cdn.sofifa.org/flags/56.png       82         82   \n245    https://cdn.sofifa.org/flags/56.png       82         82   \n304    https://cdn.sofifa.org/flags/56.png       81         88   \n...                                    ...      ...        ...   \n17768  https://cdn.sofifa.org/flags/56.png       51         65   \n17801  https://cdn.sofifa.org/flags/56.png       50         69   \n17876  https://cdn.sofifa.org/flags/56.png       50         61   \n17905  https://cdn.sofifa.org/flags/56.png       49         58   \n17928  https://cdn.sofifa.org/flags/56.png       49         69   \n\n                         Club                                      Club Logo  \\\n47           FC Bayern Munich      https://cdn.sofifa.org/24/18/teams/21.png   \n121                 AS Monaco      https://cdn.sofifa.org/24/18/teams/69.png   \n216             Villarreal CF     https://cdn.sofifa.org/24/18/teams/483.png   \n245                  Juventus      https://cdn.sofifa.org/24/18/teams/45.png   \n304         Tottenham Hotspur      https://cdn.sofifa.org/24/18/teams/18.png   \n...                       ...                                            ...   \n17768       Alianza Petrolera  https://cdn.sofifa.org/24/18/teams/112579.png   \n17801      CD America de Cali  https://cdn.sofifa.org/24/18/teams/101099.png   \n17876  Independiente Medellín  https://cdn.sofifa.org/24/18/teams/101103.png   \n17905         Deportivo Pasto  https://cdn.sofifa.org/24/18/teams/111723.png   \n17928              La Equidad  https://cdn.sofifa.org/24/18/teams/112523.png   \n\n       ...    RB   RCB   RCM   RDM    RF    RM    RS    RW   RWB    ST  \n47     ...  61.0  53.0  79.0  64.0  83.0  82.0  80.0  83.0  65.0  80.0  \n121    ...  54.0  54.0  71.0  57.0  79.0  74.0  82.0  76.0  56.0  82.0  \n216    ...  49.0  44.0  66.0  50.0  78.0  75.0  80.0  77.0  53.0  80.0  \n245    ...  72.0  65.0  75.0  69.0  80.0  80.0  76.0  81.0  74.0  76.0  \n304    ...  73.0  80.0  61.0  73.0  56.0  57.0  59.0  54.0  70.0  59.0  \n...    ...   ...   ...   ...   ...   ...   ...   ...   ...   ...   ...  \n17768  ...  39.0  35.0  44.0  37.0  48.0  50.0  48.0  50.0  40.0  48.0  \n17801  ...  49.0  48.0  46.0  49.0  43.0  46.0  42.0  44.0  49.0  42.0  \n17876  ...  48.0  49.0  32.0  42.0  31.0  34.0  34.0  32.0  45.0  34.0  \n17905  ...  47.0  48.0  34.0  43.0  33.0  35.0  35.0  33.0  45.0  35.0  \n17928  ...  48.0  46.0  48.0  47.0  47.0  49.0  45.0  47.0  48.0  45.0  \n\n[592 rows x 75 columns]",
      "text/html": "<div>\n<style scoped>\n    .dataframe tbody tr th:only-of-type {\n        vertical-align: middle;\n    }\n\n    .dataframe tbody tr th {\n        vertical-align: top;\n    }\n\n    .dataframe thead th {\n        text-align: right;\n    }\n</style>\n<table border=\"1\" class=\"dataframe\">\n  <thead>\n    <tr style=\"text-align: right;\">\n      <th></th>\n      <th>Unnamed: 0</th>\n      <th>Name</th>\n      <th>Age</th>\n      <th>Photo</th>\n      <th>Nationality</th>\n      <th>Flag</th>\n      <th>Overall</th>\n      <th>Potential</th>\n      <th>Club</th>\n      <th>Club Logo</th>\n      <th>...</th>\n      <th>RB</th>\n      <th>RCB</th>\n      <th>RCM</th>\n      <th>RDM</th>\n      <th>RF</th>\n      <th>RM</th>\n      <th>RS</th>\n      <th>RW</th>\n      <th>RWB</th>\n      <th>ST</th>\n    </tr>\n  </thead>\n  <tbody>\n    <tr>\n      <th>47</th>\n      <td>47</td>\n      <td>J. Rodríguez</td>\n      <td>25</td>\n      <td>https://cdn.sofifa.org/48/18/players/198710.png</td>\n      <td>Colombia</td>\n      <td>https://cdn.sofifa.org/flags/56.png</td>\n      <td>86</td>\n      <td>89</td>\n      <td>FC Bayern Munich</td>\n      <td>https://cdn.sofifa.org/24/18/teams/21.png</td>\n      <td>...</td>\n      <td>61.0</td>\n      <td>53.0</td>\n      <td>79.0</td>\n      <td>64.0</td>\n      <td>83.0</td>\n      <td>82.0</td>\n      <td>80.0</td>\n      <td>83.0</td>\n      <td>65.0</td>\n      <td>80.0</td>\n    </tr>\n    <tr>\n      <th>121</th>\n      <td>121</td>\n      <td>Falcao</td>\n      <td>31</td>\n      <td>https://cdn.sofifa.org/48/18/players/167397.png</td>\n      <td>Colombia</td>\n      <td>https://cdn.sofifa.org/flags/56.png</td>\n      <td>84</td>\n      <td>84</td>\n      <td>AS Monaco</td>\n      <td>https://cdn.sofifa.org/24/18/teams/69.png</td>\n      <td>...</td>\n      <td>54.0</td>\n      <td>54.0</td>\n      <td>71.0</td>\n      <td>57.0</td>\n      <td>79.0</td>\n      <td>74.0</td>\n      <td>82.0</td>\n      <td>76.0</td>\n      <td>56.0</td>\n      <td>82.0</td>\n    </tr>\n    <tr>\n      <th>216</th>\n      <td>216</td>\n      <td>C. Bacca</td>\n      <td>30</td>\n      <td>https://cdn.sofifa.org/48/18/players/207664.png</td>\n      <td>Colombia</td>\n      <td>https://cdn.sofifa.org/flags/56.png</td>\n      <td>82</td>\n      <td>82</td>\n      <td>Villarreal CF</td>\n      <td>https://cdn.sofifa.org/24/18/teams/483.png</td>\n      <td>...</td>\n      <td>49.0</td>\n      <td>44.0</td>\n      <td>66.0</td>\n      <td>50.0</td>\n      <td>78.0</td>\n      <td>75.0</td>\n      <td>80.0</td>\n      <td>77.0</td>\n      <td>53.0</td>\n      <td>80.0</td>\n    </tr>\n    <tr>\n      <th>245</th>\n      <td>245</td>\n      <td>J. Cuadrado</td>\n      <td>29</td>\n      <td>https://cdn.sofifa.org/48/18/players/193082.png</td>\n      <td>Colombia</td>\n      <td>https://cdn.sofifa.org/flags/56.png</td>\n      <td>82</td>\n      <td>82</td>\n      <td>Juventus</td>\n      <td>https://cdn.sofifa.org/24/18/teams/45.png</td>\n      <td>...</td>\n      <td>72.0</td>\n      <td>65.0</td>\n      <td>75.0</td>\n      <td>69.0</td>\n      <td>80.0</td>\n      <td>80.0</td>\n      <td>76.0</td>\n      <td>81.0</td>\n      <td>74.0</td>\n      <td>76.0</td>\n    </tr>\n    <tr>\n      <th>304</th>\n      <td>304</td>\n      <td>D. Sánchez</td>\n      <td>21</td>\n      <td>https://cdn.sofifa.org/48/18/players/220793.png</td>\n      <td>Colombia</td>\n      <td>https://cdn.sofifa.org/flags/56.png</td>\n      <td>81</td>\n      <td>88</td>\n      <td>Tottenham Hotspur</td>\n      <td>https://cdn.sofifa.org/24/18/teams/18.png</td>\n      <td>...</td>\n      <td>73.0</td>\n      <td>80.0</td>\n      <td>61.0</td>\n      <td>73.0</td>\n      <td>56.0</td>\n      <td>57.0</td>\n      <td>59.0</td>\n      <td>54.0</td>\n      <td>70.0</td>\n      <td>59.0</td>\n    </tr>\n    <tr>\n      <th>...</th>\n      <td>...</td>\n      <td>...</td>\n      <td>...</td>\n      <td>...</td>\n      <td>...</td>\n      <td>...</td>\n      <td>...</td>\n      <td>...</td>\n      <td>...</td>\n      <td>...</td>\n      <td>...</td>\n      <td>...</td>\n      <td>...</td>\n      <td>...</td>\n      <td>...</td>\n      <td>...</td>\n      <td>...</td>\n      <td>...</td>\n      <td>...</td>\n      <td>...</td>\n      <td>...</td>\n    </tr>\n    <tr>\n      <th>17768</th>\n      <td>17768</td>\n      <td>E. Torres</td>\n      <td>19</td>\n      <td>https://cdn.sofifa.org/48/18/players/236539.png</td>\n      <td>Colombia</td>\n      <td>https://cdn.sofifa.org/flags/56.png</td>\n      <td>51</td>\n      <td>65</td>\n      <td>Alianza Petrolera</td>\n      <td>https://cdn.sofifa.org/24/18/teams/112579.png</td>\n      <td>...</td>\n      <td>39.0</td>\n      <td>35.0</td>\n      <td>44.0</td>\n      <td>37.0</td>\n      <td>48.0</td>\n      <td>50.0</td>\n      <td>48.0</td>\n      <td>50.0</td>\n      <td>40.0</td>\n      <td>48.0</td>\n    </tr>\n    <tr>\n      <th>17801</th>\n      <td>17801</td>\n      <td>A. Mora</td>\n      <td>18</td>\n      <td>https://cdn.sofifa.org/48/18/players/237643.png</td>\n      <td>Colombia</td>\n      <td>https://cdn.sofifa.org/flags/56.png</td>\n      <td>50</td>\n      <td>69</td>\n      <td>CD America de Cali</td>\n      <td>https://cdn.sofifa.org/24/18/teams/101099.png</td>\n      <td>...</td>\n      <td>49.0</td>\n      <td>48.0</td>\n      <td>46.0</td>\n      <td>49.0</td>\n      <td>43.0</td>\n      <td>46.0</td>\n      <td>42.0</td>\n      <td>44.0</td>\n      <td>49.0</td>\n      <td>42.0</td>\n    </tr>\n    <tr>\n      <th>17876</th>\n      <td>17876</td>\n      <td>J. Giraldo</td>\n      <td>19</td>\n      <td>https://cdn.sofifa.org/48/18/players/241134.png</td>\n      <td>Colombia</td>\n      <td>https://cdn.sofifa.org/flags/56.png</td>\n      <td>50</td>\n      <td>61</td>\n      <td>Independiente Medellín</td>\n      <td>https://cdn.sofifa.org/24/18/teams/101103.png</td>\n      <td>...</td>\n      <td>48.0</td>\n      <td>49.0</td>\n      <td>32.0</td>\n      <td>42.0</td>\n      <td>31.0</td>\n      <td>34.0</td>\n      <td>34.0</td>\n      <td>32.0</td>\n      <td>45.0</td>\n      <td>34.0</td>\n    </tr>\n    <tr>\n      <th>17905</th>\n      <td>17905</td>\n      <td>A. Ordóñez</td>\n      <td>20</td>\n      <td>https://cdn.sofifa.org/48/18/players/241021.png</td>\n      <td>Colombia</td>\n      <td>https://cdn.sofifa.org/flags/56.png</td>\n      <td>49</td>\n      <td>58</td>\n      <td>Deportivo Pasto</td>\n      <td>https://cdn.sofifa.org/24/18/teams/111723.png</td>\n      <td>...</td>\n      <td>47.0</td>\n      <td>48.0</td>\n      <td>34.0</td>\n      <td>43.0</td>\n      <td>33.0</td>\n      <td>35.0</td>\n      <td>35.0</td>\n      <td>33.0</td>\n      <td>45.0</td>\n      <td>35.0</td>\n    </tr>\n    <tr>\n      <th>17928</th>\n      <td>17928</td>\n      <td>J. Cuero</td>\n      <td>17</td>\n      <td>https://cdn.sofifa.org/48/18/players/240102.png</td>\n      <td>Colombia</td>\n      <td>https://cdn.sofifa.org/flags/56.png</td>\n      <td>49</td>\n      <td>69</td>\n      <td>La Equidad</td>\n      <td>https://cdn.sofifa.org/24/18/teams/112523.png</td>\n      <td>...</td>\n      <td>48.0</td>\n      <td>46.0</td>\n      <td>48.0</td>\n      <td>47.0</td>\n      <td>47.0</td>\n      <td>49.0</td>\n      <td>45.0</td>\n      <td>47.0</td>\n      <td>48.0</td>\n      <td>45.0</td>\n    </tr>\n  </tbody>\n</table>\n<p>592 rows × 75 columns</p>\n</div>"
     },
     "execution_count": 94,
     "metadata": {},
     "output_type": "execute_result"
    }
   ],
   "source": [
    "df[df['Nationality'] == 'Colombia'] # En este caso, veremos los jugadores que cumplen con una condición, en este caso, los jugadores colombianos en el juego"
   ],
   "metadata": {
    "collapsed": false,
    "ExecuteTime": {
     "end_time": "2024-09-14T16:16:53.757594100Z",
     "start_time": "2024-09-14T16:16:53.667723700Z"
    }
   },
   "id": "1cfd84ffdfa63e64"
  },
  {
   "cell_type": "code",
   "execution_count": 95,
   "outputs": [
    {
     "data": {
      "text/plain": "       Unnamed: 0            Name  Age  \\\n1               1  Julián Alvarez   30   \n9               9      G. Higuaín   29   \n16             16       S. Agüero   29   \n19             19       P. Dybala   23   \n47             47    J. Rodríguez   25   \n...           ...             ...  ...   \n17801       17801         A. Mora   18   \n17876       17876      J. Giraldo   19   \n17896       17896        C. Veloz   19   \n17905       17905      A. Ordóñez   20   \n17928       17928        J. Cuero   17   \n\n                                                 Photo Nationality  \\\n1      https://cdn.sofifa.org/48/18/players/158023.png   Argentina   \n9      https://cdn.sofifa.org/48/18/players/167664.png   Argentina   \n16     https://cdn.sofifa.org/48/18/players/153079.png   Argentina   \n19     https://cdn.sofifa.org/48/18/players/211110.png   Argentina   \n47     https://cdn.sofifa.org/48/18/players/198710.png    Colombia   \n...                                                ...         ...   \n17801  https://cdn.sofifa.org/48/18/players/237643.png    Colombia   \n17876  https://cdn.sofifa.org/48/18/players/241134.png    Colombia   \n17896  https://cdn.sofifa.org/48/18/players/240975.png   Argentina   \n17905  https://cdn.sofifa.org/48/18/players/241021.png    Colombia   \n17928  https://cdn.sofifa.org/48/18/players/240102.png    Colombia   \n\n                                      Flag  Overall  Potential  \\\n1      https://cdn.sofifa.org/flags/52.png       93         93   \n9      https://cdn.sofifa.org/flags/52.png       90         90   \n16     https://cdn.sofifa.org/flags/52.png       89         89   \n19     https://cdn.sofifa.org/flags/52.png       88         93   \n47     https://cdn.sofifa.org/flags/56.png       86         89   \n...                                    ...      ...        ...   \n17801  https://cdn.sofifa.org/flags/56.png       50         69   \n17876  https://cdn.sofifa.org/flags/56.png       50         61   \n17896  https://cdn.sofifa.org/flags/52.png       49         59   \n17905  https://cdn.sofifa.org/flags/56.png       49         58   \n17928  https://cdn.sofifa.org/flags/56.png       49         69   \n\n                              Club  \\\n1                     FC Barcelona   \n9                         Juventus   \n16                 Manchester City   \n19                        Juventus   \n47                FC Bayern Munich   \n...                            ...   \n17801           CD America de Cali   \n17876       Independiente Medellín   \n17896  Gimnasia y Esgrima La Plata   \n17905              Deportivo Pasto   \n17928                   La Equidad   \n\n                                           Club Logo  ...    RB   RCB   RCM  \\\n1         https://cdn.sofifa.org/24/18/teams/241.png  ...  57.0  45.0  84.0   \n9          https://cdn.sofifa.org/24/18/teams/45.png  ...  51.0  46.0  71.0   \n16         https://cdn.sofifa.org/24/18/teams/10.png  ...  52.0  44.0  75.0   \n19         https://cdn.sofifa.org/24/18/teams/45.png  ...  55.0  43.0  78.0   \n47         https://cdn.sofifa.org/24/18/teams/21.png  ...  61.0  53.0  79.0   \n...                                              ...  ...   ...   ...   ...   \n17801  https://cdn.sofifa.org/24/18/teams/101099.png  ...  49.0  48.0  46.0   \n17876  https://cdn.sofifa.org/24/18/teams/101103.png  ...  48.0  49.0  32.0   \n17896  https://cdn.sofifa.org/24/18/teams/101084.png  ...   NaN   NaN   NaN   \n17905  https://cdn.sofifa.org/24/18/teams/111723.png  ...  47.0  48.0  34.0   \n17928  https://cdn.sofifa.org/24/18/teams/112523.png  ...  48.0  46.0  48.0   \n\n        RDM    RF    RM    RS    RW   RWB    ST  \n1      59.0  92.0  90.0  88.0  91.0  62.0  88.0  \n9      52.0  84.0  79.0  87.0  82.0  55.0  87.0  \n16     54.0  87.0  84.0  86.0  86.0  57.0  86.0  \n19     55.0  86.0  86.0  83.0  87.0  60.0  83.0  \n47     64.0  83.0  82.0  80.0  83.0  65.0  80.0  \n...     ...   ...   ...   ...   ...   ...   ...  \n17801  49.0  43.0  46.0  42.0  44.0  49.0  42.0  \n17876  42.0  31.0  34.0  34.0  32.0  45.0  34.0  \n17896   NaN   NaN   NaN   NaN   NaN   NaN   NaN  \n17905  43.0  33.0  35.0  35.0  33.0  45.0  35.0  \n17928  47.0  47.0  49.0  45.0  47.0  48.0  45.0  \n\n[1557 rows x 75 columns]",
      "text/html": "<div>\n<style scoped>\n    .dataframe tbody tr th:only-of-type {\n        vertical-align: middle;\n    }\n\n    .dataframe tbody tr th {\n        vertical-align: top;\n    }\n\n    .dataframe thead th {\n        text-align: right;\n    }\n</style>\n<table border=\"1\" class=\"dataframe\">\n  <thead>\n    <tr style=\"text-align: right;\">\n      <th></th>\n      <th>Unnamed: 0</th>\n      <th>Name</th>\n      <th>Age</th>\n      <th>Photo</th>\n      <th>Nationality</th>\n      <th>Flag</th>\n      <th>Overall</th>\n      <th>Potential</th>\n      <th>Club</th>\n      <th>Club Logo</th>\n      <th>...</th>\n      <th>RB</th>\n      <th>RCB</th>\n      <th>RCM</th>\n      <th>RDM</th>\n      <th>RF</th>\n      <th>RM</th>\n      <th>RS</th>\n      <th>RW</th>\n      <th>RWB</th>\n      <th>ST</th>\n    </tr>\n  </thead>\n  <tbody>\n    <tr>\n      <th>1</th>\n      <td>1</td>\n      <td>Julián Alvarez</td>\n      <td>30</td>\n      <td>https://cdn.sofifa.org/48/18/players/158023.png</td>\n      <td>Argentina</td>\n      <td>https://cdn.sofifa.org/flags/52.png</td>\n      <td>93</td>\n      <td>93</td>\n      <td>FC Barcelona</td>\n      <td>https://cdn.sofifa.org/24/18/teams/241.png</td>\n      <td>...</td>\n      <td>57.0</td>\n      <td>45.0</td>\n      <td>84.0</td>\n      <td>59.0</td>\n      <td>92.0</td>\n      <td>90.0</td>\n      <td>88.0</td>\n      <td>91.0</td>\n      <td>62.0</td>\n      <td>88.0</td>\n    </tr>\n    <tr>\n      <th>9</th>\n      <td>9</td>\n      <td>G. Higuaín</td>\n      <td>29</td>\n      <td>https://cdn.sofifa.org/48/18/players/167664.png</td>\n      <td>Argentina</td>\n      <td>https://cdn.sofifa.org/flags/52.png</td>\n      <td>90</td>\n      <td>90</td>\n      <td>Juventus</td>\n      <td>https://cdn.sofifa.org/24/18/teams/45.png</td>\n      <td>...</td>\n      <td>51.0</td>\n      <td>46.0</td>\n      <td>71.0</td>\n      <td>52.0</td>\n      <td>84.0</td>\n      <td>79.0</td>\n      <td>87.0</td>\n      <td>82.0</td>\n      <td>55.0</td>\n      <td>87.0</td>\n    </tr>\n    <tr>\n      <th>16</th>\n      <td>16</td>\n      <td>S. Agüero</td>\n      <td>29</td>\n      <td>https://cdn.sofifa.org/48/18/players/153079.png</td>\n      <td>Argentina</td>\n      <td>https://cdn.sofifa.org/flags/52.png</td>\n      <td>89</td>\n      <td>89</td>\n      <td>Manchester City</td>\n      <td>https://cdn.sofifa.org/24/18/teams/10.png</td>\n      <td>...</td>\n      <td>52.0</td>\n      <td>44.0</td>\n      <td>75.0</td>\n      <td>54.0</td>\n      <td>87.0</td>\n      <td>84.0</td>\n      <td>86.0</td>\n      <td>86.0</td>\n      <td>57.0</td>\n      <td>86.0</td>\n    </tr>\n    <tr>\n      <th>19</th>\n      <td>19</td>\n      <td>P. Dybala</td>\n      <td>23</td>\n      <td>https://cdn.sofifa.org/48/18/players/211110.png</td>\n      <td>Argentina</td>\n      <td>https://cdn.sofifa.org/flags/52.png</td>\n      <td>88</td>\n      <td>93</td>\n      <td>Juventus</td>\n      <td>https://cdn.sofifa.org/24/18/teams/45.png</td>\n      <td>...</td>\n      <td>55.0</td>\n      <td>43.0</td>\n      <td>78.0</td>\n      <td>55.0</td>\n      <td>86.0</td>\n      <td>86.0</td>\n      <td>83.0</td>\n      <td>87.0</td>\n      <td>60.0</td>\n      <td>83.0</td>\n    </tr>\n    <tr>\n      <th>47</th>\n      <td>47</td>\n      <td>J. Rodríguez</td>\n      <td>25</td>\n      <td>https://cdn.sofifa.org/48/18/players/198710.png</td>\n      <td>Colombia</td>\n      <td>https://cdn.sofifa.org/flags/56.png</td>\n      <td>86</td>\n      <td>89</td>\n      <td>FC Bayern Munich</td>\n      <td>https://cdn.sofifa.org/24/18/teams/21.png</td>\n      <td>...</td>\n      <td>61.0</td>\n      <td>53.0</td>\n      <td>79.0</td>\n      <td>64.0</td>\n      <td>83.0</td>\n      <td>82.0</td>\n      <td>80.0</td>\n      <td>83.0</td>\n      <td>65.0</td>\n      <td>80.0</td>\n    </tr>\n    <tr>\n      <th>...</th>\n      <td>...</td>\n      <td>...</td>\n      <td>...</td>\n      <td>...</td>\n      <td>...</td>\n      <td>...</td>\n      <td>...</td>\n      <td>...</td>\n      <td>...</td>\n      <td>...</td>\n      <td>...</td>\n      <td>...</td>\n      <td>...</td>\n      <td>...</td>\n      <td>...</td>\n      <td>...</td>\n      <td>...</td>\n      <td>...</td>\n      <td>...</td>\n      <td>...</td>\n      <td>...</td>\n    </tr>\n    <tr>\n      <th>17801</th>\n      <td>17801</td>\n      <td>A. Mora</td>\n      <td>18</td>\n      <td>https://cdn.sofifa.org/48/18/players/237643.png</td>\n      <td>Colombia</td>\n      <td>https://cdn.sofifa.org/flags/56.png</td>\n      <td>50</td>\n      <td>69</td>\n      <td>CD America de Cali</td>\n      <td>https://cdn.sofifa.org/24/18/teams/101099.png</td>\n      <td>...</td>\n      <td>49.0</td>\n      <td>48.0</td>\n      <td>46.0</td>\n      <td>49.0</td>\n      <td>43.0</td>\n      <td>46.0</td>\n      <td>42.0</td>\n      <td>44.0</td>\n      <td>49.0</td>\n      <td>42.0</td>\n    </tr>\n    <tr>\n      <th>17876</th>\n      <td>17876</td>\n      <td>J. Giraldo</td>\n      <td>19</td>\n      <td>https://cdn.sofifa.org/48/18/players/241134.png</td>\n      <td>Colombia</td>\n      <td>https://cdn.sofifa.org/flags/56.png</td>\n      <td>50</td>\n      <td>61</td>\n      <td>Independiente Medellín</td>\n      <td>https://cdn.sofifa.org/24/18/teams/101103.png</td>\n      <td>...</td>\n      <td>48.0</td>\n      <td>49.0</td>\n      <td>32.0</td>\n      <td>42.0</td>\n      <td>31.0</td>\n      <td>34.0</td>\n      <td>34.0</td>\n      <td>32.0</td>\n      <td>45.0</td>\n      <td>34.0</td>\n    </tr>\n    <tr>\n      <th>17896</th>\n      <td>17896</td>\n      <td>C. Veloz</td>\n      <td>19</td>\n      <td>https://cdn.sofifa.org/48/18/players/240975.png</td>\n      <td>Argentina</td>\n      <td>https://cdn.sofifa.org/flags/52.png</td>\n      <td>49</td>\n      <td>59</td>\n      <td>Gimnasia y Esgrima La Plata</td>\n      <td>https://cdn.sofifa.org/24/18/teams/101084.png</td>\n      <td>...</td>\n      <td>NaN</td>\n      <td>NaN</td>\n      <td>NaN</td>\n      <td>NaN</td>\n      <td>NaN</td>\n      <td>NaN</td>\n      <td>NaN</td>\n      <td>NaN</td>\n      <td>NaN</td>\n      <td>NaN</td>\n    </tr>\n    <tr>\n      <th>17905</th>\n      <td>17905</td>\n      <td>A. Ordóñez</td>\n      <td>20</td>\n      <td>https://cdn.sofifa.org/48/18/players/241021.png</td>\n      <td>Colombia</td>\n      <td>https://cdn.sofifa.org/flags/56.png</td>\n      <td>49</td>\n      <td>58</td>\n      <td>Deportivo Pasto</td>\n      <td>https://cdn.sofifa.org/24/18/teams/111723.png</td>\n      <td>...</td>\n      <td>47.0</td>\n      <td>48.0</td>\n      <td>34.0</td>\n      <td>43.0</td>\n      <td>33.0</td>\n      <td>35.0</td>\n      <td>35.0</td>\n      <td>33.0</td>\n      <td>45.0</td>\n      <td>35.0</td>\n    </tr>\n    <tr>\n      <th>17928</th>\n      <td>17928</td>\n      <td>J. Cuero</td>\n      <td>17</td>\n      <td>https://cdn.sofifa.org/48/18/players/240102.png</td>\n      <td>Colombia</td>\n      <td>https://cdn.sofifa.org/flags/56.png</td>\n      <td>49</td>\n      <td>69</td>\n      <td>La Equidad</td>\n      <td>https://cdn.sofifa.org/24/18/teams/112523.png</td>\n      <td>...</td>\n      <td>48.0</td>\n      <td>46.0</td>\n      <td>48.0</td>\n      <td>47.0</td>\n      <td>47.0</td>\n      <td>49.0</td>\n      <td>45.0</td>\n      <td>47.0</td>\n      <td>48.0</td>\n      <td>45.0</td>\n    </tr>\n  </tbody>\n</table>\n<p>1557 rows × 75 columns</p>\n</div>"
     },
     "execution_count": 95,
     "metadata": {},
     "output_type": "execute_result"
    }
   ],
   "source": [
    "df[(df['Nationality'] == 'Colombia') | (df['Nationality'] == 'Argentina')] # Podemos realizar consultas más complejas, en este caso, veremos los jugadores colombianos y argentinos en el juego"
   ],
   "metadata": {
    "collapsed": false,
    "ExecuteTime": {
     "end_time": "2024-09-14T16:17:04.136298700Z",
     "start_time": "2024-09-14T16:17:04.019996300Z"
    }
   },
   "id": "acc566d62c870d30"
  },
  {
   "cell_type": "code",
   "execution_count": 96,
   "outputs": [
    {
     "data": {
      "text/plain": "     Unnamed: 0            Name  Age  \\\n1             1  Julián Alvarez   30   \n9             9      G. Higuaín   29   \n16           16       S. Agüero   29   \n19           19       P. Dybala   23   \n83           83     A. Di María   29   \n100         100       M. Icardi   24   \n125         125        A. Gómez   29   \n\n                                               Photo Nationality  \\\n1    https://cdn.sofifa.org/48/18/players/158023.png   Argentina   \n9    https://cdn.sofifa.org/48/18/players/167664.png   Argentina   \n16   https://cdn.sofifa.org/48/18/players/153079.png   Argentina   \n19   https://cdn.sofifa.org/48/18/players/211110.png   Argentina   \n83   https://cdn.sofifa.org/48/18/players/183898.png   Argentina   \n100  https://cdn.sofifa.org/48/18/players/201399.png   Argentina   \n125  https://cdn.sofifa.org/48/18/players/143076.png   Argentina   \n\n                                    Flag  Overall  Potential  \\\n1    https://cdn.sofifa.org/flags/52.png       93         93   \n9    https://cdn.sofifa.org/flags/52.png       90         90   \n16   https://cdn.sofifa.org/flags/52.png       89         89   \n19   https://cdn.sofifa.org/flags/52.png       88         93   \n83   https://cdn.sofifa.org/flags/52.png       85         85   \n100  https://cdn.sofifa.org/flags/52.png       84         89   \n125  https://cdn.sofifa.org/flags/52.png       84         84   \n\n                    Club                                   Club Logo  ...  \\\n1           FC Barcelona  https://cdn.sofifa.org/24/18/teams/241.png  ...   \n9               Juventus   https://cdn.sofifa.org/24/18/teams/45.png  ...   \n16       Manchester City   https://cdn.sofifa.org/24/18/teams/10.png  ...   \n19              Juventus   https://cdn.sofifa.org/24/18/teams/45.png  ...   \n83   Paris Saint-Germain   https://cdn.sofifa.org/24/18/teams/73.png  ...   \n100                Inter   https://cdn.sofifa.org/24/18/teams/44.png  ...   \n125             Atalanta   https://cdn.sofifa.org/24/18/teams/39.png  ...   \n\n       RB   RCB   RCM   RDM    RF    RM    RS    RW   RWB    ST  \n1    57.0  45.0  84.0  59.0  92.0  90.0  88.0  91.0  62.0  88.0  \n9    51.0  46.0  71.0  52.0  84.0  79.0  87.0  82.0  55.0  87.0  \n16   52.0  44.0  75.0  54.0  87.0  84.0  86.0  86.0  57.0  86.0  \n19   55.0  43.0  78.0  55.0  86.0  86.0  83.0  87.0  60.0  83.0  \n83   66.0  58.0  78.0  66.0  82.0  83.0  77.0  83.0  70.0  77.0  \n100  49.0  46.0  67.0  50.0  79.0  73.0  82.0  75.0  51.0  82.0  \n125  59.0  45.0  77.0  59.0  83.0  84.0  76.0  85.0  65.0  76.0  \n\n[7 rows x 75 columns]",
      "text/html": "<div>\n<style scoped>\n    .dataframe tbody tr th:only-of-type {\n        vertical-align: middle;\n    }\n\n    .dataframe tbody tr th {\n        vertical-align: top;\n    }\n\n    .dataframe thead th {\n        text-align: right;\n    }\n</style>\n<table border=\"1\" class=\"dataframe\">\n  <thead>\n    <tr style=\"text-align: right;\">\n      <th></th>\n      <th>Unnamed: 0</th>\n      <th>Name</th>\n      <th>Age</th>\n      <th>Photo</th>\n      <th>Nationality</th>\n      <th>Flag</th>\n      <th>Overall</th>\n      <th>Potential</th>\n      <th>Club</th>\n      <th>Club Logo</th>\n      <th>...</th>\n      <th>RB</th>\n      <th>RCB</th>\n      <th>RCM</th>\n      <th>RDM</th>\n      <th>RF</th>\n      <th>RM</th>\n      <th>RS</th>\n      <th>RW</th>\n      <th>RWB</th>\n      <th>ST</th>\n    </tr>\n  </thead>\n  <tbody>\n    <tr>\n      <th>1</th>\n      <td>1</td>\n      <td>Julián Alvarez</td>\n      <td>30</td>\n      <td>https://cdn.sofifa.org/48/18/players/158023.png</td>\n      <td>Argentina</td>\n      <td>https://cdn.sofifa.org/flags/52.png</td>\n      <td>93</td>\n      <td>93</td>\n      <td>FC Barcelona</td>\n      <td>https://cdn.sofifa.org/24/18/teams/241.png</td>\n      <td>...</td>\n      <td>57.0</td>\n      <td>45.0</td>\n      <td>84.0</td>\n      <td>59.0</td>\n      <td>92.0</td>\n      <td>90.0</td>\n      <td>88.0</td>\n      <td>91.0</td>\n      <td>62.0</td>\n      <td>88.0</td>\n    </tr>\n    <tr>\n      <th>9</th>\n      <td>9</td>\n      <td>G. Higuaín</td>\n      <td>29</td>\n      <td>https://cdn.sofifa.org/48/18/players/167664.png</td>\n      <td>Argentina</td>\n      <td>https://cdn.sofifa.org/flags/52.png</td>\n      <td>90</td>\n      <td>90</td>\n      <td>Juventus</td>\n      <td>https://cdn.sofifa.org/24/18/teams/45.png</td>\n      <td>...</td>\n      <td>51.0</td>\n      <td>46.0</td>\n      <td>71.0</td>\n      <td>52.0</td>\n      <td>84.0</td>\n      <td>79.0</td>\n      <td>87.0</td>\n      <td>82.0</td>\n      <td>55.0</td>\n      <td>87.0</td>\n    </tr>\n    <tr>\n      <th>16</th>\n      <td>16</td>\n      <td>S. Agüero</td>\n      <td>29</td>\n      <td>https://cdn.sofifa.org/48/18/players/153079.png</td>\n      <td>Argentina</td>\n      <td>https://cdn.sofifa.org/flags/52.png</td>\n      <td>89</td>\n      <td>89</td>\n      <td>Manchester City</td>\n      <td>https://cdn.sofifa.org/24/18/teams/10.png</td>\n      <td>...</td>\n      <td>52.0</td>\n      <td>44.0</td>\n      <td>75.0</td>\n      <td>54.0</td>\n      <td>87.0</td>\n      <td>84.0</td>\n      <td>86.0</td>\n      <td>86.0</td>\n      <td>57.0</td>\n      <td>86.0</td>\n    </tr>\n    <tr>\n      <th>19</th>\n      <td>19</td>\n      <td>P. Dybala</td>\n      <td>23</td>\n      <td>https://cdn.sofifa.org/48/18/players/211110.png</td>\n      <td>Argentina</td>\n      <td>https://cdn.sofifa.org/flags/52.png</td>\n      <td>88</td>\n      <td>93</td>\n      <td>Juventus</td>\n      <td>https://cdn.sofifa.org/24/18/teams/45.png</td>\n      <td>...</td>\n      <td>55.0</td>\n      <td>43.0</td>\n      <td>78.0</td>\n      <td>55.0</td>\n      <td>86.0</td>\n      <td>86.0</td>\n      <td>83.0</td>\n      <td>87.0</td>\n      <td>60.0</td>\n      <td>83.0</td>\n    </tr>\n    <tr>\n      <th>83</th>\n      <td>83</td>\n      <td>A. Di María</td>\n      <td>29</td>\n      <td>https://cdn.sofifa.org/48/18/players/183898.png</td>\n      <td>Argentina</td>\n      <td>https://cdn.sofifa.org/flags/52.png</td>\n      <td>85</td>\n      <td>85</td>\n      <td>Paris Saint-Germain</td>\n      <td>https://cdn.sofifa.org/24/18/teams/73.png</td>\n      <td>...</td>\n      <td>66.0</td>\n      <td>58.0</td>\n      <td>78.0</td>\n      <td>66.0</td>\n      <td>82.0</td>\n      <td>83.0</td>\n      <td>77.0</td>\n      <td>83.0</td>\n      <td>70.0</td>\n      <td>77.0</td>\n    </tr>\n    <tr>\n      <th>100</th>\n      <td>100</td>\n      <td>M. Icardi</td>\n      <td>24</td>\n      <td>https://cdn.sofifa.org/48/18/players/201399.png</td>\n      <td>Argentina</td>\n      <td>https://cdn.sofifa.org/flags/52.png</td>\n      <td>84</td>\n      <td>89</td>\n      <td>Inter</td>\n      <td>https://cdn.sofifa.org/24/18/teams/44.png</td>\n      <td>...</td>\n      <td>49.0</td>\n      <td>46.0</td>\n      <td>67.0</td>\n      <td>50.0</td>\n      <td>79.0</td>\n      <td>73.0</td>\n      <td>82.0</td>\n      <td>75.0</td>\n      <td>51.0</td>\n      <td>82.0</td>\n    </tr>\n    <tr>\n      <th>125</th>\n      <td>125</td>\n      <td>A. Gómez</td>\n      <td>29</td>\n      <td>https://cdn.sofifa.org/48/18/players/143076.png</td>\n      <td>Argentina</td>\n      <td>https://cdn.sofifa.org/flags/52.png</td>\n      <td>84</td>\n      <td>84</td>\n      <td>Atalanta</td>\n      <td>https://cdn.sofifa.org/24/18/teams/39.png</td>\n      <td>...</td>\n      <td>59.0</td>\n      <td>45.0</td>\n      <td>77.0</td>\n      <td>59.0</td>\n      <td>83.0</td>\n      <td>84.0</td>\n      <td>76.0</td>\n      <td>85.0</td>\n      <td>65.0</td>\n      <td>76.0</td>\n    </tr>\n  </tbody>\n</table>\n<p>7 rows × 75 columns</p>\n</div>"
     },
     "execution_count": 96,
     "metadata": {},
     "output_type": "execute_result"
    }
   ],
   "source": [
    "df[(df['Nationality'] == 'Argentina') & (df['Overall'] > 83)] # En este caso, queremos ver los mejores jugadores argentinos en el juego, dependiendo de un criterio a gusto, en este caso, jugadores con una valoración mayor a 83"
   ],
   "metadata": {
    "collapsed": false,
    "ExecuteTime": {
     "end_time": "2024-09-14T16:18:03.053959400Z",
     "start_time": "2024-09-14T16:18:02.937605Z"
    }
   },
   "id": "c53f7d44e05ec983"
  },
  {
   "cell_type": "code",
   "execution_count": 98,
   "outputs": [
    {
     "data": {
      "text/plain": "Unnamed: 0     8\nName           8\nAge            8\nPhoto          8\nNationality    8\n              ..\nRM             8\nRS             8\nRW             8\nRWB            8\nST             8\nLength: 75, dtype: int64"
     },
     "execution_count": 98,
     "metadata": {},
     "output_type": "execute_result"
    }
   ],
   "source": [
    "df[(df['Club'] == 'Real Madrid CF') & (df['Overall'] > 85)].count() # Podemos realizar consultas más complejas, en este caso, veremos cuántos jugadores del Real Madrid tienen una valoración mayor a 85, en este caso se ven con las columnas que tienen llenos estos jugadores"
   ],
   "metadata": {
    "collapsed": false,
    "ExecuteTime": {
     "end_time": "2024-09-14T16:19:35.001002800Z",
     "start_time": "2024-09-14T16:19:34.933269300Z"
    }
   },
   "id": "2cb237da73634508"
  },
  {
   "cell_type": "code",
   "execution_count": 99,
   "outputs": [
    {
     "data": {
      "text/plain": "6"
     },
     "execution_count": 99,
     "metadata": {},
     "output_type": "execute_result"
    }
   ],
   "source": [
    "df[(df['Club'] == 'Real Madrid CF') & (df['Overall'] > 86)]['Name'].count() # Podemos realizar consultas más complejas, en este caso, veremos cuántos jugadores del Real Madrid tienen una valoración mayor a 86, en este caso si estamos contando la cantidad de jugadores de este registro"
   ],
   "metadata": {
    "collapsed": false,
    "ExecuteTime": {
     "end_time": "2024-09-14T16:20:56.453285200Z",
     "start_time": "2024-09-14T16:20:56.371212100Z"
    }
   },
   "id": "21831753c6f1c64e"
  },
  {
   "cell_type": "markdown",
   "source": [
    "## Eliminación de registros nulos (NaN)"
   ],
   "metadata": {
    "collapsed": false
   },
   "id": "618a13d7a2325898"
  },
  {
   "cell_type": "code",
   "execution_count": 100,
   "outputs": [
    {
     "data": {
      "text/plain": "(17981, 75)"
     },
     "execution_count": 100,
     "metadata": {},
     "output_type": "execute_result"
    }
   ],
   "source": [
    "df.shape"
   ],
   "metadata": {
    "collapsed": false,
    "ExecuteTime": {
     "end_time": "2024-09-14T16:21:03.451150Z",
     "start_time": "2024-09-14T16:21:03.421517600Z"
    }
   },
   "id": "18da9def362c997f"
  },
  {
   "cell_type": "code",
   "execution_count": 101,
   "outputs": [
    {
     "data": {
      "text/plain": "       Unnamed: 0               Name  Age  \\\n0               0  Cristiano Ronaldo   32   \n1               1     Julián Alvarez   30   \n2               2             Neymar   25   \n3               3          L. Suárez   30   \n5               5     R. Lewandowski   28   \n...           ...                ...  ...   \n17974       17974          J. Keeble   18   \n17975       17975       T. Käßemodel   28   \n17978       17978           J. Young   17   \n17979       17979       J. Lundstram   18   \n17980       17980          L. Sackey   18   \n\n                                                 Photo Nationality  \\\n0       https://cdn.sofifa.org/48/18/players/20801.png    Portugal   \n1      https://cdn.sofifa.org/48/18/players/158023.png   Argentina   \n2      https://cdn.sofifa.org/48/18/players/190871.png      Brazil   \n3      https://cdn.sofifa.org/48/18/players/176580.png     Uruguay   \n5      https://cdn.sofifa.org/48/18/players/188545.png      Poland   \n...                                                ...         ...   \n17974  https://cdn.sofifa.org/48/18/players/240404.png     England   \n17975  https://cdn.sofifa.org/48/18/players/235352.png     Germany   \n17978  https://cdn.sofifa.org/48/18/players/231381.png    Scotland   \n17979  https://cdn.sofifa.org/48/18/players/238813.png     England   \n17980  https://cdn.sofifa.org/48/18/players/238308.png       Ghana   \n\n                                       Flag  Overall  Potential  \\\n0       https://cdn.sofifa.org/flags/38.png       94         94   \n1       https://cdn.sofifa.org/flags/52.png       93         93   \n2       https://cdn.sofifa.org/flags/54.png       92         94   \n3       https://cdn.sofifa.org/flags/60.png       92         92   \n5       https://cdn.sofifa.org/flags/37.png       91         91   \n...                                     ...      ...        ...   \n17974   https://cdn.sofifa.org/flags/14.png       46         56   \n17975   https://cdn.sofifa.org/flags/21.png       46         46   \n17978   https://cdn.sofifa.org/flags/42.png       46         61   \n17979   https://cdn.sofifa.org/flags/14.png       46         64   \n17980  https://cdn.sofifa.org/flags/117.png       46         64   \n\n                      Club                                    Club Logo  ...  \\\n0           Real Madrid CF   https://cdn.sofifa.org/24/18/teams/243.png  ...   \n1             FC Barcelona   https://cdn.sofifa.org/24/18/teams/241.png  ...   \n2      Paris Saint-Germain    https://cdn.sofifa.org/24/18/teams/73.png  ...   \n3             FC Barcelona   https://cdn.sofifa.org/24/18/teams/241.png  ...   \n5         FC Bayern Munich    https://cdn.sofifa.org/24/18/teams/21.png  ...   \n...                    ...                                          ...  ...   \n17974         Grimsby Town    https://cdn.sofifa.org/24/18/teams/92.png  ...   \n17975    FC Erzgebirge Aue   https://cdn.sofifa.org/24/18/teams/506.png  ...   \n17978         Swindon Town  https://cdn.sofifa.org/24/18/teams/1934.png  ...   \n17979      Crewe Alexandra   https://cdn.sofifa.org/24/18/teams/121.png  ...   \n17980    Scunthorpe United  https://cdn.sofifa.org/24/18/teams/1949.png  ...   \n\n         RB   RCB   RCM   RDM    RF    RM    RS    RW   RWB    ST  \n0      61.0  53.0  82.0  62.0  91.0  89.0  92.0  91.0  66.0  92.0  \n1      57.0  45.0  84.0  59.0  92.0  90.0  88.0  91.0  62.0  88.0  \n2      59.0  46.0  79.0  59.0  88.0  87.0  84.0  89.0  64.0  84.0  \n3      64.0  58.0  80.0  65.0  88.0  85.0  88.0  87.0  68.0  88.0  \n5      58.0  57.0  78.0  62.0  87.0  82.0  88.0  84.0  61.0  88.0  \n...     ...   ...   ...   ...   ...   ...   ...   ...   ...   ...  \n17974  46.0  45.0  34.0  41.0  33.0  35.0  33.0  34.0  44.0  33.0  \n17975  37.0  38.0  45.0  42.0  42.0  42.0  41.0  41.0  38.0  41.0  \n17978  31.0  28.0  38.0  29.0  45.0  42.0  45.0  44.0  32.0  45.0  \n17979  47.0  46.0  45.0  47.0  43.0  45.0  41.0  44.0  46.0  41.0  \n17980  40.0  45.0  30.0  38.0  29.0  30.0  31.0  29.0  38.0  31.0  \n\n[15746 rows x 75 columns]",
      "text/html": "<div>\n<style scoped>\n    .dataframe tbody tr th:only-of-type {\n        vertical-align: middle;\n    }\n\n    .dataframe tbody tr th {\n        vertical-align: top;\n    }\n\n    .dataframe thead th {\n        text-align: right;\n    }\n</style>\n<table border=\"1\" class=\"dataframe\">\n  <thead>\n    <tr style=\"text-align: right;\">\n      <th></th>\n      <th>Unnamed: 0</th>\n      <th>Name</th>\n      <th>Age</th>\n      <th>Photo</th>\n      <th>Nationality</th>\n      <th>Flag</th>\n      <th>Overall</th>\n      <th>Potential</th>\n      <th>Club</th>\n      <th>Club Logo</th>\n      <th>...</th>\n      <th>RB</th>\n      <th>RCB</th>\n      <th>RCM</th>\n      <th>RDM</th>\n      <th>RF</th>\n      <th>RM</th>\n      <th>RS</th>\n      <th>RW</th>\n      <th>RWB</th>\n      <th>ST</th>\n    </tr>\n  </thead>\n  <tbody>\n    <tr>\n      <th>0</th>\n      <td>0</td>\n      <td>Cristiano Ronaldo</td>\n      <td>32</td>\n      <td>https://cdn.sofifa.org/48/18/players/20801.png</td>\n      <td>Portugal</td>\n      <td>https://cdn.sofifa.org/flags/38.png</td>\n      <td>94</td>\n      <td>94</td>\n      <td>Real Madrid CF</td>\n      <td>https://cdn.sofifa.org/24/18/teams/243.png</td>\n      <td>...</td>\n      <td>61.0</td>\n      <td>53.0</td>\n      <td>82.0</td>\n      <td>62.0</td>\n      <td>91.0</td>\n      <td>89.0</td>\n      <td>92.0</td>\n      <td>91.0</td>\n      <td>66.0</td>\n      <td>92.0</td>\n    </tr>\n    <tr>\n      <th>1</th>\n      <td>1</td>\n      <td>Julián Alvarez</td>\n      <td>30</td>\n      <td>https://cdn.sofifa.org/48/18/players/158023.png</td>\n      <td>Argentina</td>\n      <td>https://cdn.sofifa.org/flags/52.png</td>\n      <td>93</td>\n      <td>93</td>\n      <td>FC Barcelona</td>\n      <td>https://cdn.sofifa.org/24/18/teams/241.png</td>\n      <td>...</td>\n      <td>57.0</td>\n      <td>45.0</td>\n      <td>84.0</td>\n      <td>59.0</td>\n      <td>92.0</td>\n      <td>90.0</td>\n      <td>88.0</td>\n      <td>91.0</td>\n      <td>62.0</td>\n      <td>88.0</td>\n    </tr>\n    <tr>\n      <th>2</th>\n      <td>2</td>\n      <td>Neymar</td>\n      <td>25</td>\n      <td>https://cdn.sofifa.org/48/18/players/190871.png</td>\n      <td>Brazil</td>\n      <td>https://cdn.sofifa.org/flags/54.png</td>\n      <td>92</td>\n      <td>94</td>\n      <td>Paris Saint-Germain</td>\n      <td>https://cdn.sofifa.org/24/18/teams/73.png</td>\n      <td>...</td>\n      <td>59.0</td>\n      <td>46.0</td>\n      <td>79.0</td>\n      <td>59.0</td>\n      <td>88.0</td>\n      <td>87.0</td>\n      <td>84.0</td>\n      <td>89.0</td>\n      <td>64.0</td>\n      <td>84.0</td>\n    </tr>\n    <tr>\n      <th>3</th>\n      <td>3</td>\n      <td>L. Suárez</td>\n      <td>30</td>\n      <td>https://cdn.sofifa.org/48/18/players/176580.png</td>\n      <td>Uruguay</td>\n      <td>https://cdn.sofifa.org/flags/60.png</td>\n      <td>92</td>\n      <td>92</td>\n      <td>FC Barcelona</td>\n      <td>https://cdn.sofifa.org/24/18/teams/241.png</td>\n      <td>...</td>\n      <td>64.0</td>\n      <td>58.0</td>\n      <td>80.0</td>\n      <td>65.0</td>\n      <td>88.0</td>\n      <td>85.0</td>\n      <td>88.0</td>\n      <td>87.0</td>\n      <td>68.0</td>\n      <td>88.0</td>\n    </tr>\n    <tr>\n      <th>5</th>\n      <td>5</td>\n      <td>R. Lewandowski</td>\n      <td>28</td>\n      <td>https://cdn.sofifa.org/48/18/players/188545.png</td>\n      <td>Poland</td>\n      <td>https://cdn.sofifa.org/flags/37.png</td>\n      <td>91</td>\n      <td>91</td>\n      <td>FC Bayern Munich</td>\n      <td>https://cdn.sofifa.org/24/18/teams/21.png</td>\n      <td>...</td>\n      <td>58.0</td>\n      <td>57.0</td>\n      <td>78.0</td>\n      <td>62.0</td>\n      <td>87.0</td>\n      <td>82.0</td>\n      <td>88.0</td>\n      <td>84.0</td>\n      <td>61.0</td>\n      <td>88.0</td>\n    </tr>\n    <tr>\n      <th>...</th>\n      <td>...</td>\n      <td>...</td>\n      <td>...</td>\n      <td>...</td>\n      <td>...</td>\n      <td>...</td>\n      <td>...</td>\n      <td>...</td>\n      <td>...</td>\n      <td>...</td>\n      <td>...</td>\n      <td>...</td>\n      <td>...</td>\n      <td>...</td>\n      <td>...</td>\n      <td>...</td>\n      <td>...</td>\n      <td>...</td>\n      <td>...</td>\n      <td>...</td>\n      <td>...</td>\n    </tr>\n    <tr>\n      <th>17974</th>\n      <td>17974</td>\n      <td>J. Keeble</td>\n      <td>18</td>\n      <td>https://cdn.sofifa.org/48/18/players/240404.png</td>\n      <td>England</td>\n      <td>https://cdn.sofifa.org/flags/14.png</td>\n      <td>46</td>\n      <td>56</td>\n      <td>Grimsby Town</td>\n      <td>https://cdn.sofifa.org/24/18/teams/92.png</td>\n      <td>...</td>\n      <td>46.0</td>\n      <td>45.0</td>\n      <td>34.0</td>\n      <td>41.0</td>\n      <td>33.0</td>\n      <td>35.0</td>\n      <td>33.0</td>\n      <td>34.0</td>\n      <td>44.0</td>\n      <td>33.0</td>\n    </tr>\n    <tr>\n      <th>17975</th>\n      <td>17975</td>\n      <td>T. Käßemodel</td>\n      <td>28</td>\n      <td>https://cdn.sofifa.org/48/18/players/235352.png</td>\n      <td>Germany</td>\n      <td>https://cdn.sofifa.org/flags/21.png</td>\n      <td>46</td>\n      <td>46</td>\n      <td>FC Erzgebirge Aue</td>\n      <td>https://cdn.sofifa.org/24/18/teams/506.png</td>\n      <td>...</td>\n      <td>37.0</td>\n      <td>38.0</td>\n      <td>45.0</td>\n      <td>42.0</td>\n      <td>42.0</td>\n      <td>42.0</td>\n      <td>41.0</td>\n      <td>41.0</td>\n      <td>38.0</td>\n      <td>41.0</td>\n    </tr>\n    <tr>\n      <th>17978</th>\n      <td>17978</td>\n      <td>J. Young</td>\n      <td>17</td>\n      <td>https://cdn.sofifa.org/48/18/players/231381.png</td>\n      <td>Scotland</td>\n      <td>https://cdn.sofifa.org/flags/42.png</td>\n      <td>46</td>\n      <td>61</td>\n      <td>Swindon Town</td>\n      <td>https://cdn.sofifa.org/24/18/teams/1934.png</td>\n      <td>...</td>\n      <td>31.0</td>\n      <td>28.0</td>\n      <td>38.0</td>\n      <td>29.0</td>\n      <td>45.0</td>\n      <td>42.0</td>\n      <td>45.0</td>\n      <td>44.0</td>\n      <td>32.0</td>\n      <td>45.0</td>\n    </tr>\n    <tr>\n      <th>17979</th>\n      <td>17979</td>\n      <td>J. Lundstram</td>\n      <td>18</td>\n      <td>https://cdn.sofifa.org/48/18/players/238813.png</td>\n      <td>England</td>\n      <td>https://cdn.sofifa.org/flags/14.png</td>\n      <td>46</td>\n      <td>64</td>\n      <td>Crewe Alexandra</td>\n      <td>https://cdn.sofifa.org/24/18/teams/121.png</td>\n      <td>...</td>\n      <td>47.0</td>\n      <td>46.0</td>\n      <td>45.0</td>\n      <td>47.0</td>\n      <td>43.0</td>\n      <td>45.0</td>\n      <td>41.0</td>\n      <td>44.0</td>\n      <td>46.0</td>\n      <td>41.0</td>\n    </tr>\n    <tr>\n      <th>17980</th>\n      <td>17980</td>\n      <td>L. Sackey</td>\n      <td>18</td>\n      <td>https://cdn.sofifa.org/48/18/players/238308.png</td>\n      <td>Ghana</td>\n      <td>https://cdn.sofifa.org/flags/117.png</td>\n      <td>46</td>\n      <td>64</td>\n      <td>Scunthorpe United</td>\n      <td>https://cdn.sofifa.org/24/18/teams/1949.png</td>\n      <td>...</td>\n      <td>40.0</td>\n      <td>45.0</td>\n      <td>30.0</td>\n      <td>38.0</td>\n      <td>29.0</td>\n      <td>30.0</td>\n      <td>31.0</td>\n      <td>29.0</td>\n      <td>38.0</td>\n      <td>31.0</td>\n    </tr>\n  </tbody>\n</table>\n<p>15746 rows × 75 columns</p>\n</div>"
     },
     "execution_count": 101,
     "metadata": {},
     "output_type": "execute_result"
    }
   ],
   "source": [
    "df.dropna() # Podemos eliminar los registros que tengan algún valor nulo, en este caso, con un análisis de los datos, sabemos que se eliminan los porteros, pues manejan unos atributos diferentes para lograr su valoración"
   ],
   "metadata": {
    "collapsed": false,
    "ExecuteTime": {
     "end_time": "2024-09-14T16:22:01.770350500Z",
     "start_time": "2024-09-14T16:22:01.535203400Z"
    }
   },
   "id": "adfc002a7815a801"
  },
  {
   "cell_type": "code",
   "execution_count": 102,
   "outputs": [
    {
     "data": {
      "text/plain": "       Unnamed: 0               Name  Age  \\\n0               0  Cristiano Ronaldo   32   \n1               1     Julián Alvarez   30   \n2               2             Neymar   25   \n3               3          L. Suárez   30   \n4               4           M. Neuer   31   \n...           ...                ...  ...   \n17976       17976          A. Kelsey   17   \n17977       17977      B. Richardson   47   \n17978       17978           J. Young   17   \n17979       17979       J. Lundstram   18   \n17980       17980          L. Sackey   18   \n\n                                                 Photo Nationality  \\\n0       https://cdn.sofifa.org/48/18/players/20801.png    Portugal   \n1      https://cdn.sofifa.org/48/18/players/158023.png   Argentina   \n2      https://cdn.sofifa.org/48/18/players/190871.png      Brazil   \n3      https://cdn.sofifa.org/48/18/players/176580.png     Uruguay   \n4      https://cdn.sofifa.org/48/18/players/167495.png     Germany   \n...                                                ...         ...   \n17976  https://cdn.sofifa.org/48/18/players/237463.png     England   \n17977   https://cdn.sofifa.org/48/18/players/11728.png     England   \n17978  https://cdn.sofifa.org/48/18/players/231381.png    Scotland   \n17979  https://cdn.sofifa.org/48/18/players/238813.png     England   \n17980  https://cdn.sofifa.org/48/18/players/238308.png       Ghana   \n\n                                       Flag  Overall  Potential  \\\n0       https://cdn.sofifa.org/flags/38.png       94         94   \n1       https://cdn.sofifa.org/flags/52.png       93         93   \n2       https://cdn.sofifa.org/flags/54.png       92         94   \n3       https://cdn.sofifa.org/flags/60.png       92         92   \n4       https://cdn.sofifa.org/flags/21.png       92         92   \n...                                     ...      ...        ...   \n17976   https://cdn.sofifa.org/flags/14.png       46         63   \n17977   https://cdn.sofifa.org/flags/14.png       46         46   \n17978   https://cdn.sofifa.org/flags/42.png       46         61   \n17979   https://cdn.sofifa.org/flags/14.png       46         64   \n17980  https://cdn.sofifa.org/flags/117.png       46         64   \n\n                      Club                                    Club Logo  ...  \\\n0           Real Madrid CF   https://cdn.sofifa.org/24/18/teams/243.png  ...   \n1             FC Barcelona   https://cdn.sofifa.org/24/18/teams/241.png  ...   \n2      Paris Saint-Germain    https://cdn.sofifa.org/24/18/teams/73.png  ...   \n3             FC Barcelona   https://cdn.sofifa.org/24/18/teams/241.png  ...   \n4         FC Bayern Munich    https://cdn.sofifa.org/24/18/teams/21.png  ...   \n...                    ...                                          ...  ...   \n17976    Scunthorpe United  https://cdn.sofifa.org/24/18/teams/1949.png  ...   \n17977    Wycombe Wanderers  https://cdn.sofifa.org/24/18/teams/1933.png  ...   \n17978         Swindon Town  https://cdn.sofifa.org/24/18/teams/1934.png  ...   \n17979      Crewe Alexandra   https://cdn.sofifa.org/24/18/teams/121.png  ...   \n17980    Scunthorpe United  https://cdn.sofifa.org/24/18/teams/1949.png  ...   \n\n         RB   RCB   RCM   RDM    RF    RM    RS    RW   RWB    ST  \n0      61.0  53.0  82.0  62.0  91.0  89.0  92.0  91.0  66.0  92.0  \n1      57.0  45.0  84.0  59.0  92.0  90.0  88.0  91.0  62.0  88.0  \n2      59.0  46.0  79.0  59.0  88.0  87.0  84.0  89.0  64.0  84.0  \n3      64.0  58.0  80.0  65.0  88.0  85.0  88.0  87.0  68.0  88.0  \n4       NaN   NaN   NaN   NaN   NaN   NaN   NaN   NaN   NaN   NaN  \n...     ...   ...   ...   ...   ...   ...   ...   ...   ...   ...  \n17976   NaN   NaN   NaN   NaN   NaN   NaN   NaN   NaN   NaN   NaN  \n17977   NaN   NaN   NaN   NaN   NaN   NaN   NaN   NaN   NaN   NaN  \n17978  31.0  28.0  38.0  29.0  45.0  42.0  45.0  44.0  32.0  45.0  \n17979  47.0  46.0  45.0  47.0  43.0  45.0  41.0  44.0  46.0  41.0  \n17980  40.0  45.0  30.0  38.0  29.0  30.0  31.0  29.0  38.0  31.0  \n\n[17981 rows x 75 columns]",
      "text/html": "<div>\n<style scoped>\n    .dataframe tbody tr th:only-of-type {\n        vertical-align: middle;\n    }\n\n    .dataframe tbody tr th {\n        vertical-align: top;\n    }\n\n    .dataframe thead th {\n        text-align: right;\n    }\n</style>\n<table border=\"1\" class=\"dataframe\">\n  <thead>\n    <tr style=\"text-align: right;\">\n      <th></th>\n      <th>Unnamed: 0</th>\n      <th>Name</th>\n      <th>Age</th>\n      <th>Photo</th>\n      <th>Nationality</th>\n      <th>Flag</th>\n      <th>Overall</th>\n      <th>Potential</th>\n      <th>Club</th>\n      <th>Club Logo</th>\n      <th>...</th>\n      <th>RB</th>\n      <th>RCB</th>\n      <th>RCM</th>\n      <th>RDM</th>\n      <th>RF</th>\n      <th>RM</th>\n      <th>RS</th>\n      <th>RW</th>\n      <th>RWB</th>\n      <th>ST</th>\n    </tr>\n  </thead>\n  <tbody>\n    <tr>\n      <th>0</th>\n      <td>0</td>\n      <td>Cristiano Ronaldo</td>\n      <td>32</td>\n      <td>https://cdn.sofifa.org/48/18/players/20801.png</td>\n      <td>Portugal</td>\n      <td>https://cdn.sofifa.org/flags/38.png</td>\n      <td>94</td>\n      <td>94</td>\n      <td>Real Madrid CF</td>\n      <td>https://cdn.sofifa.org/24/18/teams/243.png</td>\n      <td>...</td>\n      <td>61.0</td>\n      <td>53.0</td>\n      <td>82.0</td>\n      <td>62.0</td>\n      <td>91.0</td>\n      <td>89.0</td>\n      <td>92.0</td>\n      <td>91.0</td>\n      <td>66.0</td>\n      <td>92.0</td>\n    </tr>\n    <tr>\n      <th>1</th>\n      <td>1</td>\n      <td>Julián Alvarez</td>\n      <td>30</td>\n      <td>https://cdn.sofifa.org/48/18/players/158023.png</td>\n      <td>Argentina</td>\n      <td>https://cdn.sofifa.org/flags/52.png</td>\n      <td>93</td>\n      <td>93</td>\n      <td>FC Barcelona</td>\n      <td>https://cdn.sofifa.org/24/18/teams/241.png</td>\n      <td>...</td>\n      <td>57.0</td>\n      <td>45.0</td>\n      <td>84.0</td>\n      <td>59.0</td>\n      <td>92.0</td>\n      <td>90.0</td>\n      <td>88.0</td>\n      <td>91.0</td>\n      <td>62.0</td>\n      <td>88.0</td>\n    </tr>\n    <tr>\n      <th>2</th>\n      <td>2</td>\n      <td>Neymar</td>\n      <td>25</td>\n      <td>https://cdn.sofifa.org/48/18/players/190871.png</td>\n      <td>Brazil</td>\n      <td>https://cdn.sofifa.org/flags/54.png</td>\n      <td>92</td>\n      <td>94</td>\n      <td>Paris Saint-Germain</td>\n      <td>https://cdn.sofifa.org/24/18/teams/73.png</td>\n      <td>...</td>\n      <td>59.0</td>\n      <td>46.0</td>\n      <td>79.0</td>\n      <td>59.0</td>\n      <td>88.0</td>\n      <td>87.0</td>\n      <td>84.0</td>\n      <td>89.0</td>\n      <td>64.0</td>\n      <td>84.0</td>\n    </tr>\n    <tr>\n      <th>3</th>\n      <td>3</td>\n      <td>L. Suárez</td>\n      <td>30</td>\n      <td>https://cdn.sofifa.org/48/18/players/176580.png</td>\n      <td>Uruguay</td>\n      <td>https://cdn.sofifa.org/flags/60.png</td>\n      <td>92</td>\n      <td>92</td>\n      <td>FC Barcelona</td>\n      <td>https://cdn.sofifa.org/24/18/teams/241.png</td>\n      <td>...</td>\n      <td>64.0</td>\n      <td>58.0</td>\n      <td>80.0</td>\n      <td>65.0</td>\n      <td>88.0</td>\n      <td>85.0</td>\n      <td>88.0</td>\n      <td>87.0</td>\n      <td>68.0</td>\n      <td>88.0</td>\n    </tr>\n    <tr>\n      <th>4</th>\n      <td>4</td>\n      <td>M. Neuer</td>\n      <td>31</td>\n      <td>https://cdn.sofifa.org/48/18/players/167495.png</td>\n      <td>Germany</td>\n      <td>https://cdn.sofifa.org/flags/21.png</td>\n      <td>92</td>\n      <td>92</td>\n      <td>FC Bayern Munich</td>\n      <td>https://cdn.sofifa.org/24/18/teams/21.png</td>\n      <td>...</td>\n      <td>NaN</td>\n      <td>NaN</td>\n      <td>NaN</td>\n      <td>NaN</td>\n      <td>NaN</td>\n      <td>NaN</td>\n      <td>NaN</td>\n      <td>NaN</td>\n      <td>NaN</td>\n      <td>NaN</td>\n    </tr>\n    <tr>\n      <th>...</th>\n      <td>...</td>\n      <td>...</td>\n      <td>...</td>\n      <td>...</td>\n      <td>...</td>\n      <td>...</td>\n      <td>...</td>\n      <td>...</td>\n      <td>...</td>\n      <td>...</td>\n      <td>...</td>\n      <td>...</td>\n      <td>...</td>\n      <td>...</td>\n      <td>...</td>\n      <td>...</td>\n      <td>...</td>\n      <td>...</td>\n      <td>...</td>\n      <td>...</td>\n      <td>...</td>\n    </tr>\n    <tr>\n      <th>17976</th>\n      <td>17976</td>\n      <td>A. Kelsey</td>\n      <td>17</td>\n      <td>https://cdn.sofifa.org/48/18/players/237463.png</td>\n      <td>England</td>\n      <td>https://cdn.sofifa.org/flags/14.png</td>\n      <td>46</td>\n      <td>63</td>\n      <td>Scunthorpe United</td>\n      <td>https://cdn.sofifa.org/24/18/teams/1949.png</td>\n      <td>...</td>\n      <td>NaN</td>\n      <td>NaN</td>\n      <td>NaN</td>\n      <td>NaN</td>\n      <td>NaN</td>\n      <td>NaN</td>\n      <td>NaN</td>\n      <td>NaN</td>\n      <td>NaN</td>\n      <td>NaN</td>\n    </tr>\n    <tr>\n      <th>17977</th>\n      <td>17977</td>\n      <td>B. Richardson</td>\n      <td>47</td>\n      <td>https://cdn.sofifa.org/48/18/players/11728.png</td>\n      <td>England</td>\n      <td>https://cdn.sofifa.org/flags/14.png</td>\n      <td>46</td>\n      <td>46</td>\n      <td>Wycombe Wanderers</td>\n      <td>https://cdn.sofifa.org/24/18/teams/1933.png</td>\n      <td>...</td>\n      <td>NaN</td>\n      <td>NaN</td>\n      <td>NaN</td>\n      <td>NaN</td>\n      <td>NaN</td>\n      <td>NaN</td>\n      <td>NaN</td>\n      <td>NaN</td>\n      <td>NaN</td>\n      <td>NaN</td>\n    </tr>\n    <tr>\n      <th>17978</th>\n      <td>17978</td>\n      <td>J. Young</td>\n      <td>17</td>\n      <td>https://cdn.sofifa.org/48/18/players/231381.png</td>\n      <td>Scotland</td>\n      <td>https://cdn.sofifa.org/flags/42.png</td>\n      <td>46</td>\n      <td>61</td>\n      <td>Swindon Town</td>\n      <td>https://cdn.sofifa.org/24/18/teams/1934.png</td>\n      <td>...</td>\n      <td>31.0</td>\n      <td>28.0</td>\n      <td>38.0</td>\n      <td>29.0</td>\n      <td>45.0</td>\n      <td>42.0</td>\n      <td>45.0</td>\n      <td>44.0</td>\n      <td>32.0</td>\n      <td>45.0</td>\n    </tr>\n    <tr>\n      <th>17979</th>\n      <td>17979</td>\n      <td>J. Lundstram</td>\n      <td>18</td>\n      <td>https://cdn.sofifa.org/48/18/players/238813.png</td>\n      <td>England</td>\n      <td>https://cdn.sofifa.org/flags/14.png</td>\n      <td>46</td>\n      <td>64</td>\n      <td>Crewe Alexandra</td>\n      <td>https://cdn.sofifa.org/24/18/teams/121.png</td>\n      <td>...</td>\n      <td>47.0</td>\n      <td>46.0</td>\n      <td>45.0</td>\n      <td>47.0</td>\n      <td>43.0</td>\n      <td>45.0</td>\n      <td>41.0</td>\n      <td>44.0</td>\n      <td>46.0</td>\n      <td>41.0</td>\n    </tr>\n    <tr>\n      <th>17980</th>\n      <td>17980</td>\n      <td>L. Sackey</td>\n      <td>18</td>\n      <td>https://cdn.sofifa.org/48/18/players/238308.png</td>\n      <td>Ghana</td>\n      <td>https://cdn.sofifa.org/flags/117.png</td>\n      <td>46</td>\n      <td>64</td>\n      <td>Scunthorpe United</td>\n      <td>https://cdn.sofifa.org/24/18/teams/1949.png</td>\n      <td>...</td>\n      <td>40.0</td>\n      <td>45.0</td>\n      <td>30.0</td>\n      <td>38.0</td>\n      <td>29.0</td>\n      <td>30.0</td>\n      <td>31.0</td>\n      <td>29.0</td>\n      <td>38.0</td>\n      <td>31.0</td>\n    </tr>\n  </tbody>\n</table>\n<p>17981 rows × 75 columns</p>\n</div>"
     },
     "execution_count": 102,
     "metadata": {},
     "output_type": "execute_result"
    }
   ],
   "source": [
    "df # Sin embargo, el cambio no se realiza en el dataframe original"
   ],
   "metadata": {
    "collapsed": false,
    "ExecuteTime": {
     "end_time": "2024-09-14T16:22:12.430482900Z",
     "start_time": "2024-09-14T16:22:12.309218500Z"
    }
   },
   "id": "a6e9a43193b9e3f2"
  },
  {
   "cell_type": "code",
   "execution_count": 103,
   "outputs": [
    {
     "data": {
      "text/plain": "       Unnamed: 0               Name  Age  \\\n0               0  Cristiano Ronaldo   32   \n3               3          L. Suárez   30   \n5               5     R. Lewandowski   28   \n9               9         G. Higuaín   29   \n13             13         A. Sánchez   28   \n...           ...                ...  ...   \n17959       17959      N. McLaughlin   18   \n17969       17969         F. Prohart   18   \n17971       17971           R. White   18   \n17978       17978           J. Young   17   \n17980       17980          L. Sackey   18   \n\n                                                 Photo Nationality  \\\n0       https://cdn.sofifa.org/48/18/players/20801.png    Portugal   \n3      https://cdn.sofifa.org/48/18/players/176580.png     Uruguay   \n5      https://cdn.sofifa.org/48/18/players/188545.png      Poland   \n9      https://cdn.sofifa.org/48/18/players/167664.png   Argentina   \n13     https://cdn.sofifa.org/48/18/players/184941.png       Chile   \n...                                                ...         ...   \n17959  https://cdn.sofifa.org/48/18/players/225319.png    Scotland   \n17969  https://cdn.sofifa.org/48/18/players/236954.png     Austria   \n17971  https://cdn.sofifa.org/48/18/players/240325.png     England   \n17978  https://cdn.sofifa.org/48/18/players/231381.png    Scotland   \n17980  https://cdn.sofifa.org/48/18/players/238308.png       Ghana   \n\n                                       Flag  Overall  Potential  \\\n0       https://cdn.sofifa.org/flags/38.png       94         94   \n3       https://cdn.sofifa.org/flags/60.png       92         92   \n5       https://cdn.sofifa.org/flags/37.png       91         91   \n9       https://cdn.sofifa.org/flags/52.png       90         90   \n13      https://cdn.sofifa.org/flags/55.png       89         89   \n...                                     ...      ...        ...   \n17959   https://cdn.sofifa.org/flags/42.png       47         64   \n17969    https://cdn.sofifa.org/flags/4.png       47         67   \n17971   https://cdn.sofifa.org/flags/14.png       47         65   \n17978   https://cdn.sofifa.org/flags/42.png       46         61   \n17980  https://cdn.sofifa.org/flags/117.png       46         64   \n\n                       Club                                      Club Logo  \\\n0            Real Madrid CF     https://cdn.sofifa.org/24/18/teams/243.png   \n3              FC Barcelona     https://cdn.sofifa.org/24/18/teams/241.png   \n5          FC Bayern Munich      https://cdn.sofifa.org/24/18/teams/21.png   \n9                  Juventus      https://cdn.sofifa.org/24/18/teams/45.png   \n13                  Arsenal       https://cdn.sofifa.org/24/18/teams/1.png   \n...                     ...                                            ...   \n17959  Partick Thistle F.C.    https://cdn.sofifa.org/24/18/teams/1754.png   \n17969        Wolfsberger AC  https://cdn.sofifa.org/24/18/teams/111822.png   \n17971      Bolton Wanderers       https://cdn.sofifa.org/24/18/teams/4.png   \n17978          Swindon Town    https://cdn.sofifa.org/24/18/teams/1934.png   \n17980     Scunthorpe United    https://cdn.sofifa.org/24/18/teams/1949.png   \n\n       ...    RB   RCB   RCM   RDM    RF    RM    RS    RW   RWB    ST  \n0      ...  61.0  53.0  82.0  62.0  91.0  89.0  92.0  91.0  66.0  92.0  \n3      ...  64.0  58.0  80.0  65.0  88.0  85.0  88.0  87.0  68.0  88.0  \n5      ...  58.0  57.0  78.0  62.0  87.0  82.0  88.0  84.0  61.0  88.0  \n9      ...  51.0  46.0  71.0  52.0  84.0  79.0  87.0  82.0  55.0  87.0  \n13     ...  62.0  56.0  79.0  64.0  85.0  85.0  83.0  86.0  66.0  83.0  \n...    ...   ...   ...   ...   ...   ...   ...   ...   ...   ...   ...  \n17959  ...  43.0  40.0  46.0  44.0  47.0  48.0  46.0  47.0  44.0  46.0  \n17969  ...  33.0  27.0  41.0  31.0  48.0  47.0  46.0  49.0  35.0  46.0  \n17971  ...  33.0  32.0  42.0  33.0  49.0  46.0  52.0  47.0  34.0  52.0  \n17978  ...  31.0  28.0  38.0  29.0  45.0  42.0  45.0  44.0  32.0  45.0  \n17980  ...  40.0  45.0  30.0  38.0  29.0  30.0  31.0  29.0  38.0  31.0  \n\n[3219 rows x 75 columns]",
      "text/html": "<div>\n<style scoped>\n    .dataframe tbody tr th:only-of-type {\n        vertical-align: middle;\n    }\n\n    .dataframe tbody tr th {\n        vertical-align: top;\n    }\n\n    .dataframe thead th {\n        text-align: right;\n    }\n</style>\n<table border=\"1\" class=\"dataframe\">\n  <thead>\n    <tr style=\"text-align: right;\">\n      <th></th>\n      <th>Unnamed: 0</th>\n      <th>Name</th>\n      <th>Age</th>\n      <th>Photo</th>\n      <th>Nationality</th>\n      <th>Flag</th>\n      <th>Overall</th>\n      <th>Potential</th>\n      <th>Club</th>\n      <th>Club Logo</th>\n      <th>...</th>\n      <th>RB</th>\n      <th>RCB</th>\n      <th>RCM</th>\n      <th>RDM</th>\n      <th>RF</th>\n      <th>RM</th>\n      <th>RS</th>\n      <th>RW</th>\n      <th>RWB</th>\n      <th>ST</th>\n    </tr>\n  </thead>\n  <tbody>\n    <tr>\n      <th>0</th>\n      <td>0</td>\n      <td>Cristiano Ronaldo</td>\n      <td>32</td>\n      <td>https://cdn.sofifa.org/48/18/players/20801.png</td>\n      <td>Portugal</td>\n      <td>https://cdn.sofifa.org/flags/38.png</td>\n      <td>94</td>\n      <td>94</td>\n      <td>Real Madrid CF</td>\n      <td>https://cdn.sofifa.org/24/18/teams/243.png</td>\n      <td>...</td>\n      <td>61.0</td>\n      <td>53.0</td>\n      <td>82.0</td>\n      <td>62.0</td>\n      <td>91.0</td>\n      <td>89.0</td>\n      <td>92.0</td>\n      <td>91.0</td>\n      <td>66.0</td>\n      <td>92.0</td>\n    </tr>\n    <tr>\n      <th>3</th>\n      <td>3</td>\n      <td>L. Suárez</td>\n      <td>30</td>\n      <td>https://cdn.sofifa.org/48/18/players/176580.png</td>\n      <td>Uruguay</td>\n      <td>https://cdn.sofifa.org/flags/60.png</td>\n      <td>92</td>\n      <td>92</td>\n      <td>FC Barcelona</td>\n      <td>https://cdn.sofifa.org/24/18/teams/241.png</td>\n      <td>...</td>\n      <td>64.0</td>\n      <td>58.0</td>\n      <td>80.0</td>\n      <td>65.0</td>\n      <td>88.0</td>\n      <td>85.0</td>\n      <td>88.0</td>\n      <td>87.0</td>\n      <td>68.0</td>\n      <td>88.0</td>\n    </tr>\n    <tr>\n      <th>5</th>\n      <td>5</td>\n      <td>R. Lewandowski</td>\n      <td>28</td>\n      <td>https://cdn.sofifa.org/48/18/players/188545.png</td>\n      <td>Poland</td>\n      <td>https://cdn.sofifa.org/flags/37.png</td>\n      <td>91</td>\n      <td>91</td>\n      <td>FC Bayern Munich</td>\n      <td>https://cdn.sofifa.org/24/18/teams/21.png</td>\n      <td>...</td>\n      <td>58.0</td>\n      <td>57.0</td>\n      <td>78.0</td>\n      <td>62.0</td>\n      <td>87.0</td>\n      <td>82.0</td>\n      <td>88.0</td>\n      <td>84.0</td>\n      <td>61.0</td>\n      <td>88.0</td>\n    </tr>\n    <tr>\n      <th>9</th>\n      <td>9</td>\n      <td>G. Higuaín</td>\n      <td>29</td>\n      <td>https://cdn.sofifa.org/48/18/players/167664.png</td>\n      <td>Argentina</td>\n      <td>https://cdn.sofifa.org/flags/52.png</td>\n      <td>90</td>\n      <td>90</td>\n      <td>Juventus</td>\n      <td>https://cdn.sofifa.org/24/18/teams/45.png</td>\n      <td>...</td>\n      <td>51.0</td>\n      <td>46.0</td>\n      <td>71.0</td>\n      <td>52.0</td>\n      <td>84.0</td>\n      <td>79.0</td>\n      <td>87.0</td>\n      <td>82.0</td>\n      <td>55.0</td>\n      <td>87.0</td>\n    </tr>\n    <tr>\n      <th>13</th>\n      <td>13</td>\n      <td>A. Sánchez</td>\n      <td>28</td>\n      <td>https://cdn.sofifa.org/48/18/players/184941.png</td>\n      <td>Chile</td>\n      <td>https://cdn.sofifa.org/flags/55.png</td>\n      <td>89</td>\n      <td>89</td>\n      <td>Arsenal</td>\n      <td>https://cdn.sofifa.org/24/18/teams/1.png</td>\n      <td>...</td>\n      <td>62.0</td>\n      <td>56.0</td>\n      <td>79.0</td>\n      <td>64.0</td>\n      <td>85.0</td>\n      <td>85.0</td>\n      <td>83.0</td>\n      <td>86.0</td>\n      <td>66.0</td>\n      <td>83.0</td>\n    </tr>\n    <tr>\n      <th>...</th>\n      <td>...</td>\n      <td>...</td>\n      <td>...</td>\n      <td>...</td>\n      <td>...</td>\n      <td>...</td>\n      <td>...</td>\n      <td>...</td>\n      <td>...</td>\n      <td>...</td>\n      <td>...</td>\n      <td>...</td>\n      <td>...</td>\n      <td>...</td>\n      <td>...</td>\n      <td>...</td>\n      <td>...</td>\n      <td>...</td>\n      <td>...</td>\n      <td>...</td>\n      <td>...</td>\n    </tr>\n    <tr>\n      <th>17959</th>\n      <td>17959</td>\n      <td>N. McLaughlin</td>\n      <td>18</td>\n      <td>https://cdn.sofifa.org/48/18/players/225319.png</td>\n      <td>Scotland</td>\n      <td>https://cdn.sofifa.org/flags/42.png</td>\n      <td>47</td>\n      <td>64</td>\n      <td>Partick Thistle F.C.</td>\n      <td>https://cdn.sofifa.org/24/18/teams/1754.png</td>\n      <td>...</td>\n      <td>43.0</td>\n      <td>40.0</td>\n      <td>46.0</td>\n      <td>44.0</td>\n      <td>47.0</td>\n      <td>48.0</td>\n      <td>46.0</td>\n      <td>47.0</td>\n      <td>44.0</td>\n      <td>46.0</td>\n    </tr>\n    <tr>\n      <th>17969</th>\n      <td>17969</td>\n      <td>F. Prohart</td>\n      <td>18</td>\n      <td>https://cdn.sofifa.org/48/18/players/236954.png</td>\n      <td>Austria</td>\n      <td>https://cdn.sofifa.org/flags/4.png</td>\n      <td>47</td>\n      <td>67</td>\n      <td>Wolfsberger AC</td>\n      <td>https://cdn.sofifa.org/24/18/teams/111822.png</td>\n      <td>...</td>\n      <td>33.0</td>\n      <td>27.0</td>\n      <td>41.0</td>\n      <td>31.0</td>\n      <td>48.0</td>\n      <td>47.0</td>\n      <td>46.0</td>\n      <td>49.0</td>\n      <td>35.0</td>\n      <td>46.0</td>\n    </tr>\n    <tr>\n      <th>17971</th>\n      <td>17971</td>\n      <td>R. White</td>\n      <td>18</td>\n      <td>https://cdn.sofifa.org/48/18/players/240325.png</td>\n      <td>England</td>\n      <td>https://cdn.sofifa.org/flags/14.png</td>\n      <td>47</td>\n      <td>65</td>\n      <td>Bolton Wanderers</td>\n      <td>https://cdn.sofifa.org/24/18/teams/4.png</td>\n      <td>...</td>\n      <td>33.0</td>\n      <td>32.0</td>\n      <td>42.0</td>\n      <td>33.0</td>\n      <td>49.0</td>\n      <td>46.0</td>\n      <td>52.0</td>\n      <td>47.0</td>\n      <td>34.0</td>\n      <td>52.0</td>\n    </tr>\n    <tr>\n      <th>17978</th>\n      <td>17978</td>\n      <td>J. Young</td>\n      <td>17</td>\n      <td>https://cdn.sofifa.org/48/18/players/231381.png</td>\n      <td>Scotland</td>\n      <td>https://cdn.sofifa.org/flags/42.png</td>\n      <td>46</td>\n      <td>61</td>\n      <td>Swindon Town</td>\n      <td>https://cdn.sofifa.org/24/18/teams/1934.png</td>\n      <td>...</td>\n      <td>31.0</td>\n      <td>28.0</td>\n      <td>38.0</td>\n      <td>29.0</td>\n      <td>45.0</td>\n      <td>42.0</td>\n      <td>45.0</td>\n      <td>44.0</td>\n      <td>32.0</td>\n      <td>45.0</td>\n    </tr>\n    <tr>\n      <th>17980</th>\n      <td>17980</td>\n      <td>L. Sackey</td>\n      <td>18</td>\n      <td>https://cdn.sofifa.org/48/18/players/238308.png</td>\n      <td>Ghana</td>\n      <td>https://cdn.sofifa.org/flags/117.png</td>\n      <td>46</td>\n      <td>64</td>\n      <td>Scunthorpe United</td>\n      <td>https://cdn.sofifa.org/24/18/teams/1949.png</td>\n      <td>...</td>\n      <td>40.0</td>\n      <td>45.0</td>\n      <td>30.0</td>\n      <td>38.0</td>\n      <td>29.0</td>\n      <td>30.0</td>\n      <td>31.0</td>\n      <td>29.0</td>\n      <td>38.0</td>\n      <td>31.0</td>\n    </tr>\n  </tbody>\n</table>\n<p>3219 rows × 75 columns</p>\n</div>"
     },
     "execution_count": 103,
     "metadata": {},
     "output_type": "execute_result"
    }
   ],
   "source": [
    "delanteros = df[df['Preferred Positions'].str.contains('ST')] # Podemos filtrar por los registros que cumplen cierta condición y obtenerlos en un dataframe diferente, en este caso, los delanteros.\n",
    "# Lo hacemos sabiendo que el atributo \"Preferred Positions\" contiene la posición preferida de los jugadores, en este caso, \"ST\" es la abreviatura de \"Striker\" o delantero y es la posición de interés\n",
    "delanteros"
   ],
   "metadata": {
    "collapsed": false,
    "ExecuteTime": {
     "end_time": "2024-09-14T16:23:44.700086400Z",
     "start_time": "2024-09-14T16:23:44.556736300Z"
    }
   },
   "id": "951750efe4acc647"
  },
  {
   "cell_type": "code",
   "execution_count": 104,
   "outputs": [
    {
     "name": "stderr",
     "output_type": "stream",
     "text": [
      "C:\\Users\\David\\AppData\\Local\\Temp\\ipykernel_3240\\3192644032.py:1: SettingWithCopyWarning: \n",
      "A value is trying to be set on a copy of a slice from a DataFrame.\n",
      "Try using .loc[row_indexer,col_indexer] = value instead\n",
      "\n",
      "See the caveats in the documentation: https://pandas.pydata.org/pandas-docs/stable/user_guide/indexing.html#returning-a-view-versus-a-copy\n",
      "  delanteros['Preferred Positions'] = [str(i.split()[0]) for i in delanteros['Preferred Positions']] # Podemos modificar los valores de una columna, en este caso, queremos que la columna \"Preferred Positions\" contenga solo la posición principal del jugador, es decir la primera posición que se le asigna a los supuestos delanteros, nos podría ayudar a verificar cuáles son delanteros naturales en el juego.\n"
     ]
    },
    {
     "data": {
      "text/plain": "       Unnamed: 0               Name  Age  \\\n0               0  Cristiano Ronaldo   32   \n3               3          L. Suárez   30   \n5               5     R. Lewandowski   28   \n9               9         G. Higuaín   29   \n13             13         A. Sánchez   28   \n...           ...                ...  ...   \n17959       17959      N. McLaughlin   18   \n17969       17969         F. Prohart   18   \n17971       17971           R. White   18   \n17978       17978           J. Young   17   \n17980       17980          L. Sackey   18   \n\n                                                 Photo Nationality  \\\n0       https://cdn.sofifa.org/48/18/players/20801.png    Portugal   \n3      https://cdn.sofifa.org/48/18/players/176580.png     Uruguay   \n5      https://cdn.sofifa.org/48/18/players/188545.png      Poland   \n9      https://cdn.sofifa.org/48/18/players/167664.png   Argentina   \n13     https://cdn.sofifa.org/48/18/players/184941.png       Chile   \n...                                                ...         ...   \n17959  https://cdn.sofifa.org/48/18/players/225319.png    Scotland   \n17969  https://cdn.sofifa.org/48/18/players/236954.png     Austria   \n17971  https://cdn.sofifa.org/48/18/players/240325.png     England   \n17978  https://cdn.sofifa.org/48/18/players/231381.png    Scotland   \n17980  https://cdn.sofifa.org/48/18/players/238308.png       Ghana   \n\n                                       Flag  Overall  Potential  \\\n0       https://cdn.sofifa.org/flags/38.png       94         94   \n3       https://cdn.sofifa.org/flags/60.png       92         92   \n5       https://cdn.sofifa.org/flags/37.png       91         91   \n9       https://cdn.sofifa.org/flags/52.png       90         90   \n13      https://cdn.sofifa.org/flags/55.png       89         89   \n...                                     ...      ...        ...   \n17959   https://cdn.sofifa.org/flags/42.png       47         64   \n17969    https://cdn.sofifa.org/flags/4.png       47         67   \n17971   https://cdn.sofifa.org/flags/14.png       47         65   \n17978   https://cdn.sofifa.org/flags/42.png       46         61   \n17980  https://cdn.sofifa.org/flags/117.png       46         64   \n\n                       Club                                      Club Logo  \\\n0            Real Madrid CF     https://cdn.sofifa.org/24/18/teams/243.png   \n3              FC Barcelona     https://cdn.sofifa.org/24/18/teams/241.png   \n5          FC Bayern Munich      https://cdn.sofifa.org/24/18/teams/21.png   \n9                  Juventus      https://cdn.sofifa.org/24/18/teams/45.png   \n13                  Arsenal       https://cdn.sofifa.org/24/18/teams/1.png   \n...                     ...                                            ...   \n17959  Partick Thistle F.C.    https://cdn.sofifa.org/24/18/teams/1754.png   \n17969        Wolfsberger AC  https://cdn.sofifa.org/24/18/teams/111822.png   \n17971      Bolton Wanderers       https://cdn.sofifa.org/24/18/teams/4.png   \n17978          Swindon Town    https://cdn.sofifa.org/24/18/teams/1934.png   \n17980     Scunthorpe United    https://cdn.sofifa.org/24/18/teams/1949.png   \n\n       ...    RB   RCB   RCM   RDM    RF    RM    RS    RW   RWB    ST  \n0      ...  61.0  53.0  82.0  62.0  91.0  89.0  92.0  91.0  66.0  92.0  \n3      ...  64.0  58.0  80.0  65.0  88.0  85.0  88.0  87.0  68.0  88.0  \n5      ...  58.0  57.0  78.0  62.0  87.0  82.0  88.0  84.0  61.0  88.0  \n9      ...  51.0  46.0  71.0  52.0  84.0  79.0  87.0  82.0  55.0  87.0  \n13     ...  62.0  56.0  79.0  64.0  85.0  85.0  83.0  86.0  66.0  83.0  \n...    ...   ...   ...   ...   ...   ...   ...   ...   ...   ...   ...  \n17959  ...  43.0  40.0  46.0  44.0  47.0  48.0  46.0  47.0  44.0  46.0  \n17969  ...  33.0  27.0  41.0  31.0  48.0  47.0  46.0  49.0  35.0  46.0  \n17971  ...  33.0  32.0  42.0  33.0  49.0  46.0  52.0  47.0  34.0  52.0  \n17978  ...  31.0  28.0  38.0  29.0  45.0  42.0  45.0  44.0  32.0  45.0  \n17980  ...  40.0  45.0  30.0  38.0  29.0  30.0  31.0  29.0  38.0  31.0  \n\n[3219 rows x 75 columns]",
      "text/html": "<div>\n<style scoped>\n    .dataframe tbody tr th:only-of-type {\n        vertical-align: middle;\n    }\n\n    .dataframe tbody tr th {\n        vertical-align: top;\n    }\n\n    .dataframe thead th {\n        text-align: right;\n    }\n</style>\n<table border=\"1\" class=\"dataframe\">\n  <thead>\n    <tr style=\"text-align: right;\">\n      <th></th>\n      <th>Unnamed: 0</th>\n      <th>Name</th>\n      <th>Age</th>\n      <th>Photo</th>\n      <th>Nationality</th>\n      <th>Flag</th>\n      <th>Overall</th>\n      <th>Potential</th>\n      <th>Club</th>\n      <th>Club Logo</th>\n      <th>...</th>\n      <th>RB</th>\n      <th>RCB</th>\n      <th>RCM</th>\n      <th>RDM</th>\n      <th>RF</th>\n      <th>RM</th>\n      <th>RS</th>\n      <th>RW</th>\n      <th>RWB</th>\n      <th>ST</th>\n    </tr>\n  </thead>\n  <tbody>\n    <tr>\n      <th>0</th>\n      <td>0</td>\n      <td>Cristiano Ronaldo</td>\n      <td>32</td>\n      <td>https://cdn.sofifa.org/48/18/players/20801.png</td>\n      <td>Portugal</td>\n      <td>https://cdn.sofifa.org/flags/38.png</td>\n      <td>94</td>\n      <td>94</td>\n      <td>Real Madrid CF</td>\n      <td>https://cdn.sofifa.org/24/18/teams/243.png</td>\n      <td>...</td>\n      <td>61.0</td>\n      <td>53.0</td>\n      <td>82.0</td>\n      <td>62.0</td>\n      <td>91.0</td>\n      <td>89.0</td>\n      <td>92.0</td>\n      <td>91.0</td>\n      <td>66.0</td>\n      <td>92.0</td>\n    </tr>\n    <tr>\n      <th>3</th>\n      <td>3</td>\n      <td>L. Suárez</td>\n      <td>30</td>\n      <td>https://cdn.sofifa.org/48/18/players/176580.png</td>\n      <td>Uruguay</td>\n      <td>https://cdn.sofifa.org/flags/60.png</td>\n      <td>92</td>\n      <td>92</td>\n      <td>FC Barcelona</td>\n      <td>https://cdn.sofifa.org/24/18/teams/241.png</td>\n      <td>...</td>\n      <td>64.0</td>\n      <td>58.0</td>\n      <td>80.0</td>\n      <td>65.0</td>\n      <td>88.0</td>\n      <td>85.0</td>\n      <td>88.0</td>\n      <td>87.0</td>\n      <td>68.0</td>\n      <td>88.0</td>\n    </tr>\n    <tr>\n      <th>5</th>\n      <td>5</td>\n      <td>R. Lewandowski</td>\n      <td>28</td>\n      <td>https://cdn.sofifa.org/48/18/players/188545.png</td>\n      <td>Poland</td>\n      <td>https://cdn.sofifa.org/flags/37.png</td>\n      <td>91</td>\n      <td>91</td>\n      <td>FC Bayern Munich</td>\n      <td>https://cdn.sofifa.org/24/18/teams/21.png</td>\n      <td>...</td>\n      <td>58.0</td>\n      <td>57.0</td>\n      <td>78.0</td>\n      <td>62.0</td>\n      <td>87.0</td>\n      <td>82.0</td>\n      <td>88.0</td>\n      <td>84.0</td>\n      <td>61.0</td>\n      <td>88.0</td>\n    </tr>\n    <tr>\n      <th>9</th>\n      <td>9</td>\n      <td>G. Higuaín</td>\n      <td>29</td>\n      <td>https://cdn.sofifa.org/48/18/players/167664.png</td>\n      <td>Argentina</td>\n      <td>https://cdn.sofifa.org/flags/52.png</td>\n      <td>90</td>\n      <td>90</td>\n      <td>Juventus</td>\n      <td>https://cdn.sofifa.org/24/18/teams/45.png</td>\n      <td>...</td>\n      <td>51.0</td>\n      <td>46.0</td>\n      <td>71.0</td>\n      <td>52.0</td>\n      <td>84.0</td>\n      <td>79.0</td>\n      <td>87.0</td>\n      <td>82.0</td>\n      <td>55.0</td>\n      <td>87.0</td>\n    </tr>\n    <tr>\n      <th>13</th>\n      <td>13</td>\n      <td>A. Sánchez</td>\n      <td>28</td>\n      <td>https://cdn.sofifa.org/48/18/players/184941.png</td>\n      <td>Chile</td>\n      <td>https://cdn.sofifa.org/flags/55.png</td>\n      <td>89</td>\n      <td>89</td>\n      <td>Arsenal</td>\n      <td>https://cdn.sofifa.org/24/18/teams/1.png</td>\n      <td>...</td>\n      <td>62.0</td>\n      <td>56.0</td>\n      <td>79.0</td>\n      <td>64.0</td>\n      <td>85.0</td>\n      <td>85.0</td>\n      <td>83.0</td>\n      <td>86.0</td>\n      <td>66.0</td>\n      <td>83.0</td>\n    </tr>\n    <tr>\n      <th>...</th>\n      <td>...</td>\n      <td>...</td>\n      <td>...</td>\n      <td>...</td>\n      <td>...</td>\n      <td>...</td>\n      <td>...</td>\n      <td>...</td>\n      <td>...</td>\n      <td>...</td>\n      <td>...</td>\n      <td>...</td>\n      <td>...</td>\n      <td>...</td>\n      <td>...</td>\n      <td>...</td>\n      <td>...</td>\n      <td>...</td>\n      <td>...</td>\n      <td>...</td>\n      <td>...</td>\n    </tr>\n    <tr>\n      <th>17959</th>\n      <td>17959</td>\n      <td>N. McLaughlin</td>\n      <td>18</td>\n      <td>https://cdn.sofifa.org/48/18/players/225319.png</td>\n      <td>Scotland</td>\n      <td>https://cdn.sofifa.org/flags/42.png</td>\n      <td>47</td>\n      <td>64</td>\n      <td>Partick Thistle F.C.</td>\n      <td>https://cdn.sofifa.org/24/18/teams/1754.png</td>\n      <td>...</td>\n      <td>43.0</td>\n      <td>40.0</td>\n      <td>46.0</td>\n      <td>44.0</td>\n      <td>47.0</td>\n      <td>48.0</td>\n      <td>46.0</td>\n      <td>47.0</td>\n      <td>44.0</td>\n      <td>46.0</td>\n    </tr>\n    <tr>\n      <th>17969</th>\n      <td>17969</td>\n      <td>F. Prohart</td>\n      <td>18</td>\n      <td>https://cdn.sofifa.org/48/18/players/236954.png</td>\n      <td>Austria</td>\n      <td>https://cdn.sofifa.org/flags/4.png</td>\n      <td>47</td>\n      <td>67</td>\n      <td>Wolfsberger AC</td>\n      <td>https://cdn.sofifa.org/24/18/teams/111822.png</td>\n      <td>...</td>\n      <td>33.0</td>\n      <td>27.0</td>\n      <td>41.0</td>\n      <td>31.0</td>\n      <td>48.0</td>\n      <td>47.0</td>\n      <td>46.0</td>\n      <td>49.0</td>\n      <td>35.0</td>\n      <td>46.0</td>\n    </tr>\n    <tr>\n      <th>17971</th>\n      <td>17971</td>\n      <td>R. White</td>\n      <td>18</td>\n      <td>https://cdn.sofifa.org/48/18/players/240325.png</td>\n      <td>England</td>\n      <td>https://cdn.sofifa.org/flags/14.png</td>\n      <td>47</td>\n      <td>65</td>\n      <td>Bolton Wanderers</td>\n      <td>https://cdn.sofifa.org/24/18/teams/4.png</td>\n      <td>...</td>\n      <td>33.0</td>\n      <td>32.0</td>\n      <td>42.0</td>\n      <td>33.0</td>\n      <td>49.0</td>\n      <td>46.0</td>\n      <td>52.0</td>\n      <td>47.0</td>\n      <td>34.0</td>\n      <td>52.0</td>\n    </tr>\n    <tr>\n      <th>17978</th>\n      <td>17978</td>\n      <td>J. Young</td>\n      <td>17</td>\n      <td>https://cdn.sofifa.org/48/18/players/231381.png</td>\n      <td>Scotland</td>\n      <td>https://cdn.sofifa.org/flags/42.png</td>\n      <td>46</td>\n      <td>61</td>\n      <td>Swindon Town</td>\n      <td>https://cdn.sofifa.org/24/18/teams/1934.png</td>\n      <td>...</td>\n      <td>31.0</td>\n      <td>28.0</td>\n      <td>38.0</td>\n      <td>29.0</td>\n      <td>45.0</td>\n      <td>42.0</td>\n      <td>45.0</td>\n      <td>44.0</td>\n      <td>32.0</td>\n      <td>45.0</td>\n    </tr>\n    <tr>\n      <th>17980</th>\n      <td>17980</td>\n      <td>L. Sackey</td>\n      <td>18</td>\n      <td>https://cdn.sofifa.org/48/18/players/238308.png</td>\n      <td>Ghana</td>\n      <td>https://cdn.sofifa.org/flags/117.png</td>\n      <td>46</td>\n      <td>64</td>\n      <td>Scunthorpe United</td>\n      <td>https://cdn.sofifa.org/24/18/teams/1949.png</td>\n      <td>...</td>\n      <td>40.0</td>\n      <td>45.0</td>\n      <td>30.0</td>\n      <td>38.0</td>\n      <td>29.0</td>\n      <td>30.0</td>\n      <td>31.0</td>\n      <td>29.0</td>\n      <td>38.0</td>\n      <td>31.0</td>\n    </tr>\n  </tbody>\n</table>\n<p>3219 rows × 75 columns</p>\n</div>"
     },
     "execution_count": 104,
     "metadata": {},
     "output_type": "execute_result"
    }
   ],
   "source": [
    "delanteros['Preferred Positions'] = [str(i.split()[0]) for i in delanteros['Preferred Positions']] # Podemos modificar los valores de una columna, en este caso, queremos que la columna \"Preferred Positions\" contenga solo la posición principal del jugador, es decir la primera posición que se le asigna a los supuestos delanteros, nos podría ayudar a verificar cuáles son delanteros naturales en el juego.\n",
    "delanteros"
   ],
   "metadata": {
    "collapsed": false,
    "ExecuteTime": {
     "end_time": "2024-09-14T16:24:43.249344400Z",
     "start_time": "2024-09-14T16:24:43.134504100Z"
    }
   },
   "id": "708dcb206d0941ae"
  },
  {
   "cell_type": "code",
   "execution_count": 105,
   "outputs": [
    {
     "data": {
      "text/plain": "Unnamed: 0       int64\nName            object\nAge              int64\nPhoto           object\nNationality     object\n                ...   \nRM             float64\nRS             float64\nRW             float64\nRWB            float64\nST             float64\nLength: 75, dtype: object"
     },
     "execution_count": 105,
     "metadata": {},
     "output_type": "execute_result"
    }
   ],
   "source": [
    "delanteros.dtypes # Nos muestra el tipo de dato de cada columna"
   ],
   "metadata": {
    "collapsed": false,
    "ExecuteTime": {
     "end_time": "2024-09-14T16:24:51.982368800Z",
     "start_time": "2024-09-14T16:24:51.915953900Z"
    }
   },
   "id": "846bb561383c17da"
  },
  {
   "cell_type": "markdown",
   "source": [
    "## Numpy"
   ],
   "metadata": {
    "collapsed": false
   },
   "id": "38743584b133a7fd"
  },
  {
   "cell_type": "code",
   "execution_count": 106,
   "outputs": [
    {
     "data": {
      "text/plain": "1191205"
     },
     "execution_count": 106,
     "metadata": {},
     "output_type": "execute_result"
    }
   ],
   "source": [
    "import numpy as np\n",
    "np.sum(df['Overall']) # Podemos sumar los valores de una columna, en este caso, la valoración de los jugadores en el juego"
   ],
   "metadata": {
    "collapsed": false,
    "ExecuteTime": {
     "end_time": "2024-09-14T16:25:07.663302600Z",
     "start_time": "2024-09-14T16:25:07.610171500Z"
    }
   },
   "id": "f4c2f66b23ec7684"
  },
  {
   "cell_type": "code",
   "execution_count": 107,
   "outputs": [
    {
     "data": {
      "text/plain": "66.24798398309326"
     },
     "execution_count": 107,
     "metadata": {},
     "output_type": "execute_result"
    }
   ],
   "source": [
    "np.mean(df['Overall']) # Podemos calcular la media de los valores de una columna, en este caso, queremos obtener la valoración media del total de jugadores que están en el juego. Nos podría ser de ayuda si queremos obtener la valoración promedio de los jugadores que pertenecen a un club o a una nacionalidad específica"
   ],
   "metadata": {
    "collapsed": false,
    "ExecuteTime": {
     "end_time": "2024-09-14T16:26:01.713842500Z",
     "start_time": "2024-09-14T16:26:01.610097400Z"
    }
   },
   "id": "1870bd48455e1bfd"
  }
 ],
 "metadata": {
  "kernelspec": {
   "display_name": "Python 3",
   "language": "python",
   "name": "python3"
  },
  "language_info": {
   "codemirror_mode": {
    "name": "ipython",
    "version": 2
   },
   "file_extension": ".py",
   "mimetype": "text/x-python",
   "name": "python",
   "nbconvert_exporter": "python",
   "pygments_lexer": "ipython2",
   "version": "2.7.6"
  }
 },
 "nbformat": 4,
 "nbformat_minor": 5
}
